{
 "cells": [
  {
   "cell_type": "markdown",
   "metadata": {},
   "source": [
    "3 dict - coffee, tea, and pastries.\n",
    "\n",
    "bill  - items: qty\n",
    "\n",
    "    look through menu[key]["
   ]
  },
  {
   "cell_type": "code",
   "execution_count": 1,
   "metadata": {},
   "outputs": [],
   "source": [
    " menu = {\n",
    "    \"Coffee\" : {\n",
    "        \"Espresso\" : 1.50,\n",
    "        \"Americano\" : 2.00,\n",
    "        \"Caffe latte\" : 2.25,\n",
    "        \"Mocha\" : 2.25,\n",
    "        \"Cappucino\" : 2.50,\n",
    "        \"Macchiato\" : 2.50},\n",
    "     \n",
    "    \"Tea\" : {\n",
    "        \"White tea\" : 1.50,\n",
    "        \"Green tea\" : 2.00,\n",
    "        \"Oolong tea\" : 2.25,\n",
    "        \"Black tea\" : 2.25,\n",
    "        \"Earl Grey\" : 2.50,\n",
    "        \"Matcha\" : 2.50},\n",
    "    \"Pastries\":{\n",
    "        \"Croissant\" : 5.50,\n",
    "        \"Cinnamon roll\" : 4.50,\n",
    "        \"Banana bread\" : 4.25,\n",
    "        \"Pumpkin bread\" : 3.75,\n",
    "        \"Sticky bun\" : 4.25,\n",
    "        \"Apple turnover\" : 3.75}\n",
    " }"
   ]
  },
  {
   "cell_type": "code",
   "execution_count": 2,
   "metadata": {},
   "outputs": [],
   "source": [
    "def print_menu(menu):\n",
    "    \n",
    "    for key, value in menu.items() :    \n",
    "        print(f\"{key} \\:\")\n",
    "        if (type(value) == dict) : \n",
    "            for key2, value2 in menu[key].items() :  \n",
    "                \n",
    "                print(f\"\\t{key2} - {value2}\") \n",
    "        else :         \n",
    "            print(f\"\\t{key2} - {value2}\")\n"
   ]
  },
  {
   "cell_type": "code",
   "execution_count": null,
   "metadata": {},
   "outputs": [],
   "source": [
    "def pull_item_cost (foodord):\n",
    "    Pass"
   ]
  },
  {
   "cell_type": "code",
   "execution_count": 3,
   "metadata": {},
   "outputs": [],
   "source": [
    "def order(again = True):\n",
    "    global order_rep\n",
    "    order_rep = {}\n",
    "    while again == True :\n",
    "        foodord = input(\"Enter the item: \")\n",
    "        qty = int(input(\"How many of the item: \"))\n",
    "        #cost = pull_item_cost(foodord)\n",
    "        \n",
    "        order_rep[foodord] = qty\n",
    "        \n",
    "        ordagain = input(\"Would you like to order another  item? (Y or N) \")\n",
    "        if ordagain.lower() == 'n':\n",
    "            again = False\n",
    "    "
   ]
  },
  {
   "cell_type": "code",
   "execution_count": null,
   "metadata": {},
   "outputs": [],
   "source": [
    "def order_bill(order_rep, menu):\n",
    "    Pass"
   ]
  },
  {
   "cell_type": "code",
   "execution_count": 4,
   "metadata": {},
   "outputs": [
    {
     "name": "stdout",
     "output_type": "stream",
     "text": [
      "Welcome to MC Cafe!\n",
      "\n",
      "Would you like to see the menu? (Y or N) y\n",
      "Coffee \\:\n",
      "\tEspresso - 1.5\n",
      "\tAmericano - 2.0\n",
      "\tCaffe latte - 2.25\n",
      "\tMocha - 2.25\n",
      "\tCappucino - 2.5\n",
      "\tMacchiato - 2.5\n",
      "Tea \\:\n",
      "\tWhite tea - 1.5\n",
      "\tGreen tea - 2.0\n",
      "\tOolong tea - 2.25\n",
      "\tBlack tea - 2.25\n",
      "\tEarl Grey - 2.5\n",
      "\tMatcha - 2.5\n",
      "Pastries \\:\n",
      "\tCroissant - 5.5\n",
      "\tCinnamon roll - 4.5\n",
      "\tBanana bread - 4.25\n",
      "\tPumpkin bread - 3.75\n",
      "\tSticky bun - 4.25\n",
      "\tApple turnover - 3.75\n",
      "Would you like to order? (Y or N) y\n",
      "Enter the item: Apple turnover\n",
      "How many of the item: 4\n",
      "Would you like to order another  item? (Y or N) y\n",
      "Enter the item: Black tea\n",
      "How many of the item: 2\n",
      "Would you like to order another  item? (Y or N) n\n"
     ]
    }
   ],
   "source": [
    "print(\"Welcome to MC Cafe!\")\n",
    "print()\n",
    "ansm = input(\"Would you like to see the menu? (Y or N) \")\n",
    "\n",
    "if ansm.lower() == ('y' or 'yes'):\n",
    "         print_menu(menu)\n",
    "      \n",
    "anso = input(\"Would you like to order? (Y or N) \")\n",
    "if anso.lower() == ('y' or 'yes'):\n",
    "         order(True)\n",
    "#order_bill()\n",
    "    "
   ]
  },
  {
   "cell_type": "code",
   "execution_count": null,
   "metadata": {},
   "outputs": [],
   "source": []
  }
 ],
 "metadata": {
  "kernelspec": {
   "display_name": "Python 3",
   "language": "python",
   "name": "python3"
  },
  "language_info": {
   "codemirror_mode": {
    "name": "ipython",
    "version": 3
   },
   "file_extension": ".py",
   "mimetype": "text/x-python",
   "name": "python",
   "nbconvert_exporter": "python",
   "pygments_lexer": "ipython3",
   "version": "3.7.3"
  }
 },
 "nbformat": 4,
 "nbformat_minor": 2
}
