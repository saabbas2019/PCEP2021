{
 "cells": [
  {
   "cell_type": "markdown",
   "metadata": {},
   "source": [
    "## Questions"
   ]
  },
  {
   "cell_type": "markdown",
   "metadata": {},
   "source": [
    "1. What is a hardware?"
   ]
  },
  {
   "cell_type": "markdown",
   "metadata": {},
   "source": [
    "Hardware is the physical device that runs/exerises the compiled or interpreted source code"
   ]
  },
  {
   "cell_type": "markdown",
   "metadata": {},
   "source": [
    "2. What is a software?"
   ]
  },
  {
   "cell_type": "markdown",
   "metadata": {},
   "source": [
    "This the compiled or interpreted source code that does a certain action"
   ]
  },
  {
   "cell_type": "markdown",
   "metadata": {},
   "source": [
    "3. Convert 10011001 to a decimal number"
   ]
  },
  {
   "cell_type": "markdown",
   "metadata": {},
   "source": [
    "2^7 + 2^5 + 2^4 + 2^3 + 1 =  128 + 32 + 16 + 8 + 1 = 185"
   ]
  },
  {
   "cell_type": "markdown",
   "metadata": {},
   "source": [
    "4. Convert 11101100 to a decimal number"
   ]
  },
  {
   "cell_type": "markdown",
   "metadata": {},
   "source": [
    "2^7 + 2^6 + 2^5 + 2^3 + 2^2 + 1 =  128 + 64+ 32 + 8 + 4+ 1 = 237"
   ]
  },
  {
   "cell_type": "markdown",
   "metadata": {},
   "source": [
    "5. Decode this secret message:\n",
    "01001100 01101111 01100111 01101001 01100011"
   ]
  },
  {
   "cell_type": "markdown",
   "metadata": {},
   "source": [
    "Logic"
   ]
  },
  {
   "cell_type": "markdown",
   "metadata": {},
   "source": [
    "6. Identify and explain stages of Programming."
   ]
  },
  {
   "cell_type": "markdown",
   "metadata": {},
   "source": [
    "Analyze - research the requirements that of the action the program will perform\n",
    "\n",
    "Plan - Designing the prodgram/application. Identifying different actions, feel and look of the program: IPO, and flowcharts/pseudocode\n",
    "\n",
    "Code - Writing the source code: programming language\n",
    "\n",
    "Test - testing the code: unit test of section, module or routine, system test of the completed proram/application, intergration test: running the applicationon in the intended environments\n",
    "\n",
    "Maintenance - bug fixes, updates and changes. documentation\n"
   ]
  },
  {
   "cell_type": "markdown",
   "metadata": {},
   "source": [
    "7. You need to write a program to compute total sales amount when sales tax is 5%. Identify IPO (inpt, process, output) for this program."
   ]
  },
  {
   "cell_type": "markdown",
   "metadata": {},
   "source": [
    "Input: sale amount\n",
    "\n",
    "Process: Calculate tax = 5% of the sale amount\n",
    "            Add tax to sale amount\n",
    "            \n",
    "Output: total sale amount"
   ]
  },
  {
   "cell_type": "markdown",
   "metadata": {},
   "source": [
    "8. Identify IPO for converting liters to US gallons."
   ]
  },
  {
   "cell_type": "markdown",
   "metadata": {},
   "source": [
    "Input: Number of liters\n",
    "\n",
    "Process: Multiply number of lites by 0.264\n",
    "            \n",
    "Output: US gallons"
   ]
  },
  {
   "cell_type": "markdown",
   "metadata": {},
   "source": [
    "9. Identify IPO for computing a worker's pay. What information/data do you need?"
   ]
  },
  {
   "cell_type": "markdown",
   "metadata": {},
   "source": [
    "Input: Worker ID?\n",
    "        How much per hour?\n",
    "        How many hours worked per day?\n",
    "        How many days worked in the payperiod?\n",
    "        How many days in a payperiod\n",
    "\n",
    "Process: Caliculate the pay for each day worked\n",
    "            Add holiday pay if applicable\n",
    "            Caliculate the total pay\n",
    "            Caliculate the deductions (insurance, taxes: local, state, federal), and other deductions for the worker\n",
    "            Subtrack deduction from total pay\n",
    "         \n",
    "Output: Amount of worker's pay"
   ]
  }
 ],
 "metadata": {
  "kernelspec": {
   "display_name": "Python 3",
   "language": "python",
   "name": "python3"
  },
  "language_info": {
   "codemirror_mode": {
    "name": "ipython",
    "version": 3
   },
   "file_extension": ".py",
   "mimetype": "text/x-python",
   "name": "python",
   "nbconvert_exporter": "python",
   "pygments_lexer": "ipython3",
   "version": "3.8.8"
  }
 },
 "nbformat": 4,
 "nbformat_minor": 4
}
