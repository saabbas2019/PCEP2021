{
 "cells": [
  {
   "cell_type": "markdown",
   "metadata": {},
   "source": [
    "## Exercises\n",
    "### Write the pseudocode for these problems. \n",
    "\n",
    "#### Define the problem by constructing an IPO diagram showing input, output, and processing steps\n",
    "Ask yourself\n",
    "- What control structures (sequence, selection and repetition) are required?\n",
    "- What variables are required?\n",
    "\n",
    "Show a check of your solution with **test data** for at least **two valid test cases**\n",
    "If you use the numbers provided in the example then the correct pseudocode will calculate the same result.\n",
    "    "
   ]
  },
  {
   "cell_type": "markdown",
   "metadata": {},
   "source": [
    "#### 1. Find the average score\n",
    "A program is needed to prompt the user operator for exam scores, calculate the average score and display the result to the screen. The average score is calculated as the sum of the scores divided by the number of scores."
   ]
  },
  {
   "cell_type": "markdown",
   "metadata": {},
   "source": [
    "INPUT: Number of exam score (NumofExam)\n",
    "        Request for exam score (ExamScore)\n",
    "\n",
    "PROCESS:\n",
    "    BEGIN\n",
    "          TotalScore = ExamScore\n",
    "          NumExam = NumofExam\n",
    "          LOOP NumExam > 0\n",
    "              Request for exam score (ExamScore)\n",
    "              If ExamScore is not empty\n",
    "                  TotalScore = TotalScore + ExamScore\n",
    "              ENDIF\n",
    "              NumExam = NumExam - 1\n",
    "          ENDLOOP\n",
    "          AveScore = TotalScore divide by NumofExam\n",
    "    END\n",
    "\n",
    "OUTPUT:\n",
    "    print to screen AveScore"
   ]
  },
  {
   "cell_type": "markdown",
   "metadata": {},
   "source": [
    "#### 2. How much water runs off a roof in a rain storm?\n",
    "To calculate the runoff from any given rainfall: Take the dimensions of the footprint of the roof and convert them to inches. (So, a 50' x 20' roof is 600\" x 240\"). Multiply the roof dimensions by the number of inches of rainfall. As an example, 600\" x 240\" x 1\" = 144,000 cubic inches of water for an inch of rainfall. Divide that result by 231 to get the number of gallons (because 1 gallon = 231 cubic inches). (144,000/231 = 623.38)."
   ]
  },
  {
   "cell_type": "markdown",
   "metadata": {},
   "source": [
    "INPUT: Amount of rain fall in inches(Rainfall)\n",
    "\n",
    "PROCESS:\n",
    "    BEGIN\n",
    "          ft = 12\n",
    "          Width = 50ft\n",
    "          Height = 20ft\n",
    "          \n",
    "          Widin = Width x ft\n",
    "          Hghtin = Height x ft\n",
    "          \n",
    "          Total Water Runs(TotRuns) = Widin x Hghtin x Rainfall \n",
    "          Total gallons (TotGal) = TotRuns / 231\n",
    "          \n",
    "    END\n",
    "\n",
    "OUTPUT:\n",
    "    print to screen Total gallons"
   ]
  },
  {
   "cell_type": "markdown",
   "metadata": {},
   "source": [
    "#### 3. Process customer record\n",
    "A program is required to read a customer’s name, a purchase amount and a tax code. The tax code has been validated and will be one of the following: 0 tax exempt (0%) 1 state sales tax only (3%) 2 federal and state sales tax (5%) 3 special sales tax (7%) The program must then compute the sales tax and the total amount due,and print the customer’s name, purchase amount, sales tax and total amount due."
   ]
  },
  {
   "cell_type": "markdown",
   "metadata": {},
   "source": [
    "INPUT: customer’s name(CustName) \n",
    "        a purchase amount(PurAmt)\n",
    "        a tax code(TaxCode)\n",
    "\n",
    "PROCESS:\n",
    "    BEGIN\n",
    "          TotalScore = ExamScore\n",
    "          NumExam = NuofExam\n",
    "          IF  TaxCode = 0\n",
    "              SalesTax = PurAmt x 0\n",
    "          ELSE IF  TaxCode = 1    State SalesTax\n",
    "              SalesTax = PurAmt x 3%\n",
    "          ELSE IF  TaxCode = 2    Federal and State SalesTax\n",
    "              SalesTax = PurAmt x 5%\n",
    "          ELSE IF  TaxCode = 3    Special SalesTax\n",
    "              SalesTax = PurAmt x 7%\n",
    "          ENDIF\n",
    "          TotalPurAmt = PurAmt + SalesTax\n",
    "\n",
    "OUTPUT:\n",
    "        print customer’s name(CustName) \n",
    "       print purchase amount(PurAmt)\n",
    "       print Sales Tax(SalesTax)\n",
    "    print total amount due(TotalPurAmt)"
   ]
  },
  {
   "cell_type": "markdown",
   "metadata": {},
   "source": [
    "#### 4. Calculate employee's pay \n",
    "A program is required by a company to read an employee’s number, pay rate and the number of hours worked in a week. The program is then to validate the pay rate field and the hours worked field and, if valid, compute the employee’s weekly pay and then print it and the input data.\n",
    "\n",
    "Validation: According to the company’s rules, the maximum hours an employee can work per week is 60 hours, and the maximum hourly rate is $25.00 per hour. If the hours worked field or the hourly rate field is out of range, the input data and an appropriate message are to be printed and the employee’s weekly pay is not to be calculated.\n",
    "\n",
    "Weekly pay calculation: Weekly pay is calculated as hours worked times pay rate. If more than 35 hours are worked, payment for the overtime hours worked is calculated at time-and-a-half."
   ]
  },
  {
   "cell_type": "markdown",
   "metadata": {},
   "source": [
    "Input: Worker ID?\n",
    "        How much per hour?\n",
    "        How many hours worked per day?\n",
    "        How many days worked in the payperiod?\n",
    "        How many days in a payperiod\n",
    "\n",
    "Process: Caliculate the pay for each day worked\n",
    "            Add holiday pay if applicable\n",
    "            Caliculate the total pay\n",
    "            Caliculate the deductions (insurance, taxes: local, state, federal), and other deductions for the worker\n",
    "            Subtrack deduction from total pay\n",
    "         \n",
    "Output: Amount of worker's pay"
   ]
  }
 ],
 "metadata": {
  "kernelspec": {
   "display_name": "Python 3",
   "language": "python",
   "name": "python3"
  },
  "language_info": {
   "codemirror_mode": {
    "name": "ipython",
    "version": 3
   },
   "file_extension": ".py",
   "mimetype": "text/x-python",
   "name": "python",
   "nbconvert_exporter": "python",
   "pygments_lexer": "ipython3",
   "version": "3.8.8"
  }
 },
 "nbformat": 4,
 "nbformat_minor": 2
}
