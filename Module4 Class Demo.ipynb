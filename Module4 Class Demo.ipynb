{
 "cells": [
  {
   "cell_type": "markdown",
   "metadata": {},
   "source": [
    "### Strings"
   ]
  },
  {
   "cell_type": "code",
   "execution_count": 6,
   "metadata": {},
   "outputs": [],
   "source": [
    "first_name = \"Cookie\"\n",
    "last_name = \" Monster\""
   ]
  },
  {
   "cell_type": "code",
   "execution_count": 7,
   "metadata": {},
   "outputs": [
    {
     "name": "stdout",
     "output_type": "stream",
     "text": [
      "Cookie Monster\n"
     ]
    }
   ],
   "source": [
    "print(first_name + last_name)"
   ]
  },
  {
   "cell_type": "code",
   "execution_count": 8,
   "metadata": {},
   "outputs": [
    {
     "data": {
      "text/plain": [
       "'e'"
      ]
     },
     "execution_count": 8,
     "metadata": {},
     "output_type": "execute_result"
    }
   ],
   "source": [
    "first_name[-1]"
   ]
  },
  {
   "cell_type": "code",
   "execution_count": 9,
   "metadata": {},
   "outputs": [
    {
     "name": "stdout",
     "output_type": "stream",
     "text": [
      "  Learn To Code In Python \n",
      "  learn to code in python \n"
     ]
    }
   ],
   "source": [
    "# title() method returns a string with the first character in upper case for every word in the string\n",
    "\n",
    "message = \"  learn to code in python \"\n",
    "print(message.title())\n",
    "print(message)"
   ]
  },
  {
   "cell_type": "code",
   "execution_count": 10,
   "metadata": {},
   "outputs": [
    {
     "name": "stdout",
     "output_type": "stream",
     "text": [
      "  LEARN TO CODE IN PYTHON \n",
      "  learn to code in python \n"
     ]
    }
   ],
   "source": [
    "# upper() method returns a string in all upper cases\n",
    "\n",
    "message = \"  learn to code in python \"\n",
    "msg = message.upper()\n",
    "print(msg)\n",
    "print(message)"
   ]
  },
  {
   "cell_type": "code",
   "execution_count": 11,
   "metadata": {},
   "outputs": [
    {
     "name": "stdout",
     "output_type": "stream",
     "text": [
      "  LEARN TO CODE IN PYTHON \n",
      "  learn to code in python \n"
     ]
    }
   ],
   "source": [
    "print(msg)\n",
    "print(msg.lower())"
   ]
  },
  {
   "cell_type": "code",
   "execution_count": 12,
   "metadata": {},
   "outputs": [
    {
     "name": "stdout",
     "output_type": "stream",
     "text": [
      "learn to code in python\n",
      "  learn to code in python \n"
     ]
    }
   ],
   "source": [
    "# strip() method returns a string after removing all leading and following blanks in the string\n",
    "\n",
    "message = \"  learn to code in python \"\n",
    "print(message.strip())\n",
    "print(message)"
   ]
  },
  {
   "cell_type": "code",
   "execution_count": 14,
   "metadata": {},
   "outputs": [
    {
     "name": "stdout",
     "output_type": "stream",
     "text": [
      "learn to code in python \n",
      "  learn to code in python \n"
     ]
    }
   ],
   "source": [
    "# lstrip() method returns a string after removing all leading blanks in the string\n",
    "\n",
    "message = \"  learn to code in python \"\n",
    "num = len (message)\n",
    "num\n",
    "print(message.lstrip())\n",
    "print(message)"
   ]
  },
  {
   "cell_type": "code",
   "execution_count": 15,
   "metadata": {},
   "outputs": [
    {
     "name": "stdout",
     "output_type": "stream",
     "text": [
      "  learn to code in python\n",
      "  learn to code in python        \n"
     ]
    }
   ],
   "source": [
    "# rstrip() method returns a string after removing all following blanks in the string\n",
    "\n",
    "message = \"  learn to code in python        \"\n",
    "print(message.rstrip())\n",
    "print(message)"
   ]
  },
  {
   "cell_type": "code",
   "execution_count": 16,
   "metadata": {},
   "outputs": [
    {
     "name": "stdout",
     "output_type": "stream",
     "text": [
      "**learn*to*code*in*python********\n",
      "  learn to code in python        \n"
     ]
    }
   ],
   "source": [
    "# replace() method returns a string with old substring replaced with new substring\n",
    "\n",
    "message = \"  learn to code in python        \"\n",
    "print(message.replace(' ', '*'))\n",
    "print(message)"
   ]
  },
  {
   "cell_type": "code",
   "execution_count": 17,
   "metadata": {},
   "outputs": [
    {
     "name": "stdout",
     "output_type": "stream",
     "text": [
      "learn to code\n",
      "Learn to code\n"
     ]
    }
   ],
   "source": [
    "# capitalize() method returns a string with the first character in upper case\n",
    "\n",
    "message = \"learn to code\"\n",
    "print(message)\n",
    "print(message.capitalize())"
   ]
  },
  {
   "cell_type": "code",
   "execution_count": 18,
   "metadata": {},
   "outputs": [
    {
     "name": "stdout",
     "output_type": "stream",
     "text": [
      " learn to code\n",
      " learn to code\n"
     ]
    }
   ],
   "source": [
    "# what is happening?  The first index is a whitespace\n",
    "\n",
    "message = \" learn to code\"\n",
    "print(message)\n",
    "print(message.capitalize())"
   ]
  },
  {
   "cell_type": "code",
   "execution_count": 19,
   "metadata": {},
   "outputs": [
    {
     "data": {
      "text/plain": [
       "'Python'"
      ]
     },
     "execution_count": 19,
     "metadata": {},
     "output_type": "execute_result"
    }
   ],
   "source": [
    "\"python\".capitalize()"
   ]
  },
  {
   "cell_type": "code",
   "execution_count": 20,
   "metadata": {},
   "outputs": [
    {
     "name": "stdout",
     "output_type": "stream",
     "text": [
      "yeah\n",
      "        yeah        \n"
     ]
    }
   ],
   "source": [
    "# center() method returns a centered string\n",
    "\n",
    "\n",
    "message = \"yeah\"\n",
    "print(message)\n",
    "print(message.center(20))"
   ]
  },
  {
   "cell_type": "code",
   "execution_count": 24,
   "metadata": {},
   "outputs": [
    {
     "name": "stdout",
     "output_type": "stream",
     "text": [
      ">>>  learn to code in python <<<\n"
     ]
    },
    {
     "data": {
      "text/plain": [
       "7"
      ]
     },
     "execution_count": 24,
     "metadata": {},
     "output_type": "execute_result"
    }
   ],
   "source": [
    "# count() method returns the occurences of the substring in the given string\n",
    "\n",
    "message = \"  learn to code in python \"\n",
    "print(\">>>\"+message+\"<<<\")\n",
    "message.count(\" \")"
   ]
  },
  {
   "cell_type": "code",
   "execution_count": 25,
   "metadata": {},
   "outputs": [
    {
     "data": {
      "text/plain": [
       "7"
      ]
     },
     "execution_count": 25,
     "metadata": {},
     "output_type": "execute_result"
    }
   ],
   "source": [
    "message.count(\" \")"
   ]
  },
  {
   "cell_type": "code",
   "execution_count": 26,
   "metadata": {},
   "outputs": [
    {
     "data": {
      "text/plain": [
       "0"
      ]
     },
     "execution_count": 26,
     "metadata": {},
     "output_type": "execute_result"
    }
   ],
   "source": [
    "message.count(\"Code\")"
   ]
  },
  {
   "cell_type": "code",
   "execution_count": 28,
   "metadata": {},
   "outputs": [
    {
     "name": "stdout",
     "output_type": "stream",
     "text": [
      "I love Python!\n",
      "h\n"
     ]
    }
   ],
   "source": [
    "message = \"I love Python!\"\n",
    "print(message)\n",
    "print(message[10])"
   ]
  },
  {
   "cell_type": "code",
   "execution_count": 30,
   "metadata": {},
   "outputs": [
    {
     "ename": "IndexError",
     "evalue": "string index out of range",
     "output_type": "error",
     "traceback": [
      "\u001b[1;31m---------------------------------------------------------------------------\u001b[0m",
      "\u001b[1;31mIndexError\u001b[0m                                Traceback (most recent call last)",
      "\u001b[1;32m<ipython-input-30-9a9c86be5824>\u001b[0m in \u001b[0;36m<module>\u001b[1;34m\u001b[0m\n\u001b[1;32m----> 1\u001b[1;33m \u001b[0mmessage\u001b[0m\u001b[1;33m[\u001b[0m\u001b[1;33m-\u001b[0m\u001b[1;36m15\u001b[0m\u001b[1;33m]\u001b[0m\u001b[1;33m\u001b[0m\u001b[1;33m\u001b[0m\u001b[0m\n\u001b[0m",
      "\u001b[1;31mIndexError\u001b[0m: string index out of range"
     ]
    }
   ],
   "source": [
    "message[-15]"
   ]
  },
  {
   "cell_type": "code",
   "execution_count": 31,
   "metadata": {},
   "outputs": [
    {
     "ename": "IndexError",
     "evalue": "string index out of range",
     "output_type": "error",
     "traceback": [
      "\u001b[1;31m---------------------------------------------------------------------------\u001b[0m",
      "\u001b[1;31mIndexError\u001b[0m                                Traceback (most recent call last)",
      "\u001b[1;32m<ipython-input-31-c8ad89e9250f>\u001b[0m in \u001b[0;36m<module>\u001b[1;34m\u001b[0m\n\u001b[1;32m----> 1\u001b[1;33m \u001b[0mmessage\u001b[0m\u001b[1;33m[\u001b[0m\u001b[1;36m20\u001b[0m\u001b[1;33m]\u001b[0m\u001b[1;33m\u001b[0m\u001b[1;33m\u001b[0m\u001b[0m\n\u001b[0m",
      "\u001b[1;31mIndexError\u001b[0m: string index out of range"
     ]
    }
   ],
   "source": [
    "message[20]"
   ]
  },
  {
   "cell_type": "code",
   "execution_count": 32,
   "metadata": {},
   "outputs": [
    {
     "data": {
      "text/plain": [
       "14"
      ]
     },
     "execution_count": 32,
     "metadata": {},
     "output_type": "execute_result"
    }
   ],
   "source": [
    "# len() function returns the number of items in an object\n",
    "\n",
    "\n",
    "len(message)"
   ]
  },
  {
   "cell_type": "code",
   "execution_count": 34,
   "metadata": {},
   "outputs": [
    {
     "data": {
      "text/plain": [
       "0"
      ]
     },
     "execution_count": 34,
     "metadata": {},
     "output_type": "execute_result"
    }
   ],
   "source": [
    "len(\"\")"
   ]
  },
  {
   "cell_type": "code",
   "execution_count": 35,
   "metadata": {},
   "outputs": [
    {
     "data": {
      "text/plain": [
       "5"
      ]
     },
     "execution_count": 35,
     "metadata": {},
     "output_type": "execute_result"
    }
   ],
   "source": [
    "len(\"99.99\")"
   ]
  },
  {
   "cell_type": "code",
   "execution_count": 37,
   "metadata": {},
   "outputs": [
    {
     "data": {
      "text/plain": [
       "1"
      ]
     },
     "execution_count": 37,
     "metadata": {},
     "output_type": "execute_result"
    }
   ],
   "source": [
    "len(\"\\n\")"
   ]
  },
  {
   "cell_type": "code",
   "execution_count": 38,
   "metadata": {},
   "outputs": [
    {
     "ename": "TypeError",
     "evalue": "object of type 'float' has no len()",
     "output_type": "error",
     "traceback": [
      "\u001b[1;31m---------------------------------------------------------------------------\u001b[0m",
      "\u001b[1;31mTypeError\u001b[0m                                 Traceback (most recent call last)",
      "\u001b[1;32m<ipython-input-38-f3ff1f43fff3>\u001b[0m in \u001b[0;36m<module>\u001b[1;34m\u001b[0m\n\u001b[1;32m----> 1\u001b[1;33m \u001b[0mlen\u001b[0m\u001b[1;33m(\u001b[0m\u001b[1;36m123.56789\u001b[0m\u001b[1;33m)\u001b[0m\u001b[1;33m\u001b[0m\u001b[1;33m\u001b[0m\u001b[0m\n\u001b[0m",
      "\u001b[1;31mTypeError\u001b[0m: object of type 'float' has no len()"
     ]
    }
   ],
   "source": [
    "len(123.56789)"
   ]
  },
  {
   "cell_type": "markdown",
   "metadata": {},
   "source": [
    "### Exercise 1\n",
    "Write a program to right-justify text where the maximum number of characters per line is 50."
   ]
  },
  {
   "cell_type": "code",
   "execution_count": 41,
   "metadata": {},
   "outputs": [
    {
     "data": {
      "text/plain": [
       "'                 beautiful is better than ugly.   '"
      ]
     },
     "execution_count": 41,
     "metadata": {},
     "output_type": "execute_result"
    }
   ],
   "source": [
    "line1 = \"   beautiful is better than ugly.   \"\n",
    "line1.rjust(50)"
   ]
  },
  {
   "cell_type": "code",
   "execution_count": 50,
   "metadata": {},
   "outputs": [
    {
     "name": "stdout",
     "output_type": "stream",
     "text": [
      "36\n",
      "14\n",
      "----------------------------\n"
     ]
    }
   ],
   "source": [
    "# fix any errors\n",
    "\n",
    "MAXCHAR = 50\n",
    "\n",
    "# write code to remove leading and following blanks\n",
    "line1.strip()\n",
    "\n",
    "no_char = len(line1)            # returns a number of charcters in line \n",
    "print(no_char)\n",
    "\n",
    "# find the number of blanks to fill the line\n",
    "no_blank = MAXCHAR - no_char \n",
    "print(no_blank)\n",
    "\n",
    "\n",
    "# fill the leading blanks\n",
    "result = \"--\" * no_blank \n",
    "print(result)\n"
   ]
  },
  {
   "cell_type": "code",
   "execution_count": 51,
   "metadata": {},
   "outputs": [
    {
     "name": "stdout",
     "output_type": "stream",
     "text": [
      "12345678901234567890123456789012345678901234567890\n",
      "----------------------------   beautiful is better than ugly.   \n"
     ]
    }
   ],
   "source": [
    "# concatenate the text to leading blanks\n",
    "\n",
    "result = result + line1\n",
    "\n",
    "# print out\n",
    "print(\"1234567890\"*5)\n",
    "print(result)"
   ]
  },
  {
   "cell_type": "markdown",
   "metadata": {},
   "source": [
    "### Formatted String\n",
    "    {}  : a place holder\n",
    "    ,   : shows commas in thousands place\n",
    "    .2f : shows 2 digits after the decimal point\n",
    "    .2% : shows 2 digits after the decimal point in percentage (%)"
   ]
  },
  {
   "cell_type": "code",
   "execution_count": 52,
   "metadata": {},
   "outputs": [
    {
     "name": "stdout",
     "output_type": "stream",
     "text": [
      "I love Python\n",
      "I love {name}\n"
     ]
    }
   ],
   "source": [
    "message = \"I love {name}\"\n",
    "print(message.format(name = \"Python\"))\n",
    "print(message)"
   ]
  },
  {
   "cell_type": "code",
   "execution_count": 53,
   "metadata": {},
   "outputs": [
    {
     "name": "stdout",
     "output_type": "stream",
     "text": [
      "I love Python\n",
      "I love Python\n"
     ]
    }
   ],
   "source": [
    "print(\"I love {0}\".format(\"Python\"))\n",
    "print(\"I love {}\".format(\"Python\"))"
   ]
  },
  {
   "cell_type": "code",
   "execution_count": 54,
   "metadata": {},
   "outputs": [
    {
     "name": "stdout",
     "output_type": "stream",
     "text": [
      "I love to eat and drink\n"
     ]
    }
   ],
   "source": [
    "print(\"I love {} and {}\".format(\"to eat\", \"drink\"))"
   ]
  },
  {
   "cell_type": "code",
   "execution_count": 55,
   "metadata": {},
   "outputs": [
    {
     "name": "stdout",
     "output_type": "stream",
     "text": [
      "I love drink and to eat\n"
     ]
    }
   ],
   "source": [
    "print(\"I love {} and {}\".format(\"drink\", \"to eat\"))"
   ]
  },
  {
   "cell_type": "code",
   "execution_count": 56,
   "metadata": {},
   "outputs": [
    {
     "name": "stdout",
     "output_type": "stream",
     "text": [
      "I love to eat and drink\n"
     ]
    }
   ],
   "source": [
    "print(\"I love {one} and {two}\".format(two=\"drink\", one=\"to eat\"))"
   ]
  },
  {
   "cell_type": "code",
   "execution_count": 57,
   "metadata": {},
   "outputs": [
    {
     "name": "stdout",
     "output_type": "stream",
     "text": [
      "My name is Elmo.\n"
     ]
    }
   ],
   "source": [
    "msg = \"My name is {fname}.\".format(fname=\"Elmo\")\n",
    "print(msg)\n"
   ]
  },
  {
   "cell_type": "code",
   "execution_count": 59,
   "metadata": {},
   "outputs": [
    {
     "name": "stdout",
     "output_type": "stream",
     "text": [
      "Your name is Big Bird and you are 5.\n"
     ]
    }
   ],
   "source": [
    "msg = \"Your name is {fname} and you are {age}.\".format(fname=\"Big Bird\", age=5)\n",
    "print(msg)"
   ]
  },
  {
   "cell_type": "code",
   "execution_count": 60,
   "metadata": {},
   "outputs": [
    {
     "name": "stdout",
     "output_type": "stream",
     "text": [
      "Your name is Count Von Count and you are 999.\n"
     ]
    }
   ],
   "source": [
    "msg = \"Your name is {0} and you are {1}.\".format(\"Count Von Count\", 999)\n",
    "print(msg)"
   ]
  },
  {
   "cell_type": "code",
   "execution_count": 61,
   "metadata": {},
   "outputs": [
    {
     "name": "stdout",
     "output_type": "stream",
     "text": [
      "Your name is Cookie Monster and you are 9.\n"
     ]
    }
   ],
   "source": [
    "msg = \"Your name is {} and you are {}.\".format(\"Cookie Monster\", 9)\n",
    "print(msg)"
   ]
  },
  {
   "cell_type": "code",
   "execution_count": 62,
   "metadata": {},
   "outputs": [
    {
     "name": "stdout",
     "output_type": "stream",
     "text": [
      "The price is $9.990000\n"
     ]
    }
   ],
   "source": [
    "# :f for fixed point number, default with 6 decimals\n",
    "\n",
    "price = 9.99\n",
    "msg = \"The price is ${:f}\"\n",
    "print(msg.format(price))"
   ]
  },
  {
   "cell_type": "code",
   "execution_count": 63,
   "metadata": {},
   "outputs": [
    {
     "name": "stdout",
     "output_type": "stream",
     "text": [
      "The price is $9.99\n"
     ]
    }
   ],
   "source": [
    "# :.2f for fixed point number, use a period followed by a number to specify the number of decimals\n",
    "\n",
    "msg = \"The price is ${:.2f}\"\n",
    "print(msg.format(price))"
   ]
  },
  {
   "cell_type": "code",
   "execution_count": 67,
   "metadata": {},
   "outputs": [
    {
     "name": "stdout",
     "output_type": "stream",
     "text": [
      "The price is $9.9900\n"
     ]
    }
   ],
   "source": [
    "# :.2f for fixed point number, use a period followed by a number to specify the number of decimals\n",
    "\n",
    "msg = \"The price is ${:.4f}\"\n",
    "print(msg.format(price))"
   ]
  },
  {
   "cell_type": "code",
   "execution_count": 68,
   "metadata": {},
   "outputs": [
    {
     "name": "stdout",
     "output_type": "stream",
     "text": [
      "Total price is $99,900.0\n"
     ]
    }
   ],
   "source": [
    "# :, to display comma as a thousand separator\n",
    "\n",
    "msg = \"Total price is ${:,}\"\n",
    "print(msg.format(price*10000))"
   ]
  },
  {
   "cell_type": "code",
   "execution_count": 69,
   "metadata": {},
   "outputs": [
    {
     "name": "stdout",
     "output_type": "stream",
     "text": [
      "Total price is $9,990,000,000.00\n"
     ]
    }
   ],
   "source": [
    "msg = \"Total price is ${:,.2f}\"\n",
    "print(msg.format(price*1000000000))"
   ]
  },
  {
   "cell_type": "code",
   "execution_count": 70,
   "metadata": {},
   "outputs": [
    {
     "name": "stdout",
     "output_type": "stream",
     "text": [
      "Current interest rate is 5.160000%\n"
     ]
    }
   ],
   "source": [
    "msg = \"Current interest rate is {:%}\"\n",
    "print(msg.format(0.0516))"
   ]
  },
  {
   "cell_type": "code",
   "execution_count": 71,
   "metadata": {},
   "outputs": [
    {
     "name": "stdout",
     "output_type": "stream",
     "text": [
      "Current interest rate is 5.16%\n"
     ]
    }
   ],
   "source": [
    "msg = \"Current interest rate is {:.2%}\"\n",
    "print(msg.format(0.0516))"
   ]
  },
  {
   "cell_type": "code",
   "execution_count": null,
   "metadata": {},
   "outputs": [],
   "source": [
    "msg = \"Current interest rate is {:.1%}\"\n",
    "print(msg.format(0.0516))"
   ]
  },
  {
   "cell_type": "code",
   "execution_count": null,
   "metadata": {},
   "outputs": [],
   "source": []
  },
  {
   "cell_type": "markdown",
   "metadata": {},
   "source": [
    "### Formatted String"
   ]
  },
  {
   "cell_type": "code",
   "execution_count": 72,
   "metadata": {},
   "outputs": [],
   "source": [
    "first_name = \"Big\"\n",
    "last_name = \"Bird\""
   ]
  },
  {
   "cell_type": "code",
   "execution_count": 73,
   "metadata": {},
   "outputs": [
    {
     "name": "stdout",
     "output_type": "stream",
     "text": [
      "The main character is {first_name} {last_name}.\n"
     ]
    }
   ],
   "source": [
    "print(\"The main character is {first_name} {last_name}.\")"
   ]
  },
  {
   "cell_type": "code",
   "execution_count": 74,
   "metadata": {},
   "outputs": [
    {
     "name": "stdout",
     "output_type": "stream",
     "text": [
      "The main character is Big Bird.\n"
     ]
    }
   ],
   "source": [
    "print(f\"The main character is {first_name} {last_name}.\")"
   ]
  },
  {
   "cell_type": "code",
   "execution_count": 75,
   "metadata": {},
   "outputs": [
    {
     "name": "stdout",
     "output_type": "stream",
     "text": [
      "Amount is $1,234,567.891\n"
     ]
    }
   ],
   "source": [
    "amount = 1234567.89123\n",
    "print(f\"Amount is ${amount:,.3f}\")"
   ]
  },
  {
   "cell_type": "code",
   "execution_count": 76,
   "metadata": {},
   "outputs": [
    {
     "name": "stdout",
     "output_type": "stream",
     "text": [
      "Amount is 123,456,789.123%\n"
     ]
    }
   ],
   "source": [
    "print(f\"Amount is {amount:,.3%}\")"
   ]
  },
  {
   "cell_type": "code",
   "execution_count": 77,
   "metadata": {},
   "outputs": [
    {
     "data": {
      "text/plain": [
       "1234567.89123"
      ]
     },
     "execution_count": 77,
     "metadata": {},
     "output_type": "execute_result"
    }
   ],
   "source": [
    "amount"
   ]
  },
  {
   "cell_type": "code",
   "execution_count": 78,
   "metadata": {},
   "outputs": [
    {
     "name": "stdout",
     "output_type": "stream",
     "text": [
      "Subtotal: $5299.469999999999\n"
     ]
    }
   ],
   "source": [
    "unit_price = 99.99\n",
    "qty = 53\n",
    "print(f\"Subtotal: ${unit_price * qty}\")"
   ]
  },
  {
   "cell_type": "code",
   "execution_count": 79,
   "metadata": {},
   "outputs": [
    {
     "name": "stdout",
     "output_type": "stream",
     "text": [
      "Subtotal: $5,299.469999999999\n"
     ]
    }
   ],
   "source": [
    "print(f\"Subtotal: ${unit_price * qty :,}\")  # commas in thousands place"
   ]
  },
  {
   "cell_type": "code",
   "execution_count": 80,
   "metadata": {},
   "outputs": [
    {
     "name": "stdout",
     "output_type": "stream",
     "text": [
      "Subtotal: $5299.47\n"
     ]
    }
   ],
   "source": [
    "print(f\"Subtotal: ${unit_price * qty :.2f}\") #2 digits after the decimal point"
   ]
  },
  {
   "cell_type": "code",
   "execution_count": 81,
   "metadata": {},
   "outputs": [
    {
     "name": "stdout",
     "output_type": "stream",
     "text": [
      "Subtotal: $5,299.47\n"
     ]
    }
   ],
   "source": [
    "print(f\"Subtotal: ${unit_price * qty :,.2f}\") #in dollar amount format"
   ]
  },
  {
   "cell_type": "code",
   "execution_count": 82,
   "metadata": {},
   "outputs": [
    {
     "name": "stdout",
     "output_type": "stream",
     "text": [
      "123.451\n"
     ]
    }
   ],
   "source": [
    "x = 123.45143\n",
    "print(f\"{x:.3f}\")"
   ]
  },
  {
   "cell_type": "code",
   "execution_count": 83,
   "metadata": {},
   "outputs": [
    {
     "name": "stdout",
     "output_type": "stream",
     "text": [
      "Current rate: 3.26%\n"
     ]
    }
   ],
   "source": [
    "rate = 0.03255    # morgage rate 3.255%\n",
    "print(f\"Current rate: {rate:.2%}\")"
   ]
  },
  {
   "cell_type": "code",
   "execution_count": 84,
   "metadata": {},
   "outputs": [
    {
     "name": "stdout",
     "output_type": "stream",
     "text": [
      "Current rate: 3.255000000%\n"
     ]
    }
   ],
   "source": [
    "print(f\"Current rate: {rate:.9%}\")"
   ]
  },
  {
   "cell_type": "code",
   "execution_count": 85,
   "metadata": {},
   "outputs": [
    {
     "name": "stdout",
     "output_type": "stream",
     "text": [
      "Enter a number:\n",
      ">678\n",
      "Enter next number:\n",
      ">298\n",
      "678 * 298 = 202044\n"
     ]
    }
   ],
   "source": [
    "prompt = \">\"\n",
    "print(\"Enter a number:\")\n",
    "numb1 = int(input(prompt))\n",
    "print(\"Enter next number:\")\n",
    "numb2 = int(input(prompt))\n",
    "total = numb1 * numb2\n",
    "print(f\"{numb1} * {numb2} = {total}\")"
   ]
  },
  {
   "cell_type": "code",
   "execution_count": 86,
   "metadata": {},
   "outputs": [
    {
     "name": "stdout",
     "output_type": "stream",
     "text": [
      "678 + 298 = 976.000\n",
      "678 - 298 = 380.000\n",
      "678 * 298 = 202,044.000\n",
      "678 / 298 = 2.275\n"
     ]
    }
   ],
   "source": [
    "print(f\"{numb1} + {numb2} = {numb1 + numb2 :,.3f}\")\n",
    "print(f\"{numb1} - {numb2} = {numb1 - numb2 :,.3f}\")\n",
    "print(f\"{numb1} * {numb2} = {numb1 * numb2 :,.3f}\")\n",
    "print(f\"{numb1} / {numb2} = {numb1 / numb2 :,.3f}\")"
   ]
  },
  {
   "cell_type": "code",
   "execution_count": null,
   "metadata": {},
   "outputs": [],
   "source": []
  },
  {
   "cell_type": "markdown",
   "metadata": {},
   "source": [
    "### Exercise 2\n",
    "Write a program to find out user's annual salary. Then compute user's monthly salary and bi-weekly salary.\n",
    "Display your results in nice formatted output."
   ]
  },
  {
   "cell_type": "markdown",
   "metadata": {},
   "source": [
    "#### Identify IPO\n",
    "\n",
    "input:  Annual Salary\n",
    "\n",
    "process in pseudocode:  \n",
    "    BEGIN\n",
    "        Montly salary =  Annual Salary divide by 12\n",
    "        Bi-weekly = Annual Salary divide by 26\n",
    "    END\n",
    "\n",
    "output:  AnnuaL,Monthly, bi-weekly Salary\n"
   ]
  },
  {
   "cell_type": "markdown",
   "metadata": {},
   "source": [
    "#### Convert your pseudocode in to Python code"
   ]
  },
  {
   "cell_type": "code",
   "execution_count": 87,
   "metadata": {},
   "outputs": [
    {
     "name": "stdout",
     "output_type": "stream",
     "text": [
      "Enter your yearly salary65000\n",
      "Annual Salary: $65,000.00\n",
      "Montly salary: $5,416.67\n",
      "Bi-weekly salary: $2,500.00\n"
     ]
    }
   ],
   "source": [
    "annsal = float(input(\"Enter your yearly salary\"))\n",
    "\n",
    "monsal = annsal/12\n",
    "bisal = annsal/26\n",
    "\n",
    "print(f\"Annual Salary: ${annsal :,.2f}\")\n",
    "print(f\"Montly salary: ${monsal :,.2f}\")\n",
    "print(f\"Bi-weekly salary: ${bisal :,.2f}\")"
   ]
  },
  {
   "cell_type": "code",
   "execution_count": null,
   "metadata": {},
   "outputs": [],
   "source": []
  },
  {
   "cell_type": "markdown",
   "metadata": {},
   "source": [
    "### Scientific Number Notation"
   ]
  },
  {
   "cell_type": "code",
   "execution_count": 88,
   "metadata": {},
   "outputs": [
    {
     "name": "stdout",
     "output_type": "stream",
     "text": [
      "5.800000e+04\n"
     ]
    }
   ],
   "source": [
    "no1 = 58000\n",
    "print(f\"{no1:e}\")"
   ]
  },
  {
   "cell_type": "code",
   "execution_count": 89,
   "metadata": {},
   "outputs": [
    {
     "name": "stdout",
     "output_type": "stream",
     "text": [
      "5.8e+04\n",
      "5.80e+04\n"
     ]
    }
   ],
   "source": [
    "print(f\"{no1:.1e}\")\n",
    "print(f\"{no1:.2e}\")"
   ]
  },
  {
   "cell_type": "code",
   "execution_count": 90,
   "metadata": {},
   "outputs": [
    {
     "name": "stdout",
     "output_type": "stream",
     "text": [
      "1.2e-04\n",
      "1.230e-04\n"
     ]
    }
   ],
   "source": [
    "no2 = 0.000123\n",
    "\n",
    "print(f\"{no2:.1e}\")\n",
    "print(f\"{no2:.3e}\")"
   ]
  },
  {
   "cell_type": "code",
   "execution_count": 91,
   "metadata": {},
   "outputs": [
    {
     "name": "stdout",
     "output_type": "stream",
     "text": [
      "1234.56789\n",
      "1,234.56789\n",
      "1,234.57\n"
     ]
    }
   ],
   "source": [
    "no3 = 1.23456789e3\n",
    "print(f\"{no3}\")\n",
    "print(f\"{no3:,}\")\n",
    "print(f\"{no3:,.2f}\")"
   ]
  },
  {
   "cell_type": "code",
   "execution_count": 92,
   "metadata": {},
   "outputs": [
    {
     "name": "stdout",
     "output_type": "stream",
     "text": [
      "0.00123456\n",
      "0.00123456\n",
      "0.001\n",
      "0.00\n"
     ]
    }
   ],
   "source": [
    "no3 = 1.23456e-3\n",
    "print(f\"{no3}\")\n",
    "print(f\"{no3:,}\")\n",
    "print(f\"{no3:,.3f}\")\n",
    "print(f\"{no3:,.2f}\")"
   ]
  },
  {
   "cell_type": "code",
   "execution_count": 93,
   "metadata": {},
   "outputs": [
    {
     "name": "stdout",
     "output_type": "stream",
     "text": [
      "0.009\n"
     ]
    }
   ],
   "source": [
    "no3 = 9e-3\n",
    "print(f\"{no3}\")"
   ]
  },
  {
   "cell_type": "markdown",
   "metadata": {},
   "source": [
    "### Exercise 3\n"
   ]
  },
  {
   "cell_type": "code",
   "execution_count": 96,
   "metadata": {},
   "outputs": [
    {
     "name": "stdout",
     "output_type": "stream",
     "text": [
      "6.2e+05\n"
     ]
    }
   ],
   "source": [
    "# 1. Write 620000 in a scientific number notation\n",
    "# 6.2e+5\n",
    "num1 = 620000\n",
    "print(f\"{num1 :.1e}\")"
   ]
  },
  {
   "cell_type": "code",
   "execution_count": 97,
   "metadata": {},
   "outputs": [
    {
     "name": "stdout",
     "output_type": "stream",
     "text": [
      "9.1e-03\n"
     ]
    }
   ],
   "source": [
    "# 2. write 0.0091 in a scientific number notation\n",
    "# 9.1e-3\n",
    "num2 = 0.0091\n",
    "print(f\"{num2 :.1e}\")"
   ]
  },
  {
   "cell_type": "markdown",
   "metadata": {},
   "source": [
    "### Exercise 4\n"
   ]
  },
  {
   "cell_type": "markdown",
   "metadata": {},
   "source": [
    "#### 1. Convert 217 to a binary number using FLOOR-DIVISION and MOD arithmetic operations\n"
   ]
  },
  {
   "cell_type": "code",
   "execution_count": 10,
   "metadata": {},
   "outputs": [
    {
     "name": "stdout",
     "output_type": "stream",
     "text": [
      "0\n",
      "1\n"
     ]
    }
   ],
   "source": [
    "# 2 to the power of 0 \n",
    "print(1//2)\n",
    "print(1%2)"
   ]
  },
  {
   "cell_type": "code",
   "execution_count": 9,
   "metadata": {},
   "outputs": [
    {
     "name": "stdout",
     "output_type": "stream",
     "text": [
      "1\n",
      "1\n"
     ]
    }
   ],
   "source": [
    "# power of 1\n",
    "print(3//2)\n",
    "print(3%2)"
   ]
  },
  {
   "cell_type": "code",
   "execution_count": 8,
   "metadata": {},
   "outputs": [
    {
     "name": "stdout",
     "output_type": "stream",
     "text": [
      "3\n",
      "0\n"
     ]
    }
   ],
   "source": [
    "# power of 2\n",
    "print(6//2)\n",
    "print(6%2)"
   ]
  },
  {
   "cell_type": "code",
   "execution_count": 7,
   "metadata": {},
   "outputs": [
    {
     "name": "stdout",
     "output_type": "stream",
     "text": [
      "6\n",
      "1\n"
     ]
    }
   ],
   "source": [
    "# power of 3\n",
    "print(13//2)\n",
    "print(13%2)"
   ]
  },
  {
   "cell_type": "code",
   "execution_count": 6,
   "metadata": {},
   "outputs": [
    {
     "name": "stdout",
     "output_type": "stream",
     "text": [
      "13\n",
      "1\n"
     ]
    }
   ],
   "source": [
    "# power of 4\n",
    "print(27//2)\n",
    "print(27%2)"
   ]
  },
  {
   "cell_type": "code",
   "execution_count": 5,
   "metadata": {},
   "outputs": [
    {
     "name": "stdout",
     "output_type": "stream",
     "text": [
      "27\n",
      "0\n"
     ]
    }
   ],
   "source": [
    "# power of 5\n",
    "print(54//2)\n",
    "print(54%2)"
   ]
  },
  {
   "cell_type": "code",
   "execution_count": 4,
   "metadata": {},
   "outputs": [
    {
     "name": "stdout",
     "output_type": "stream",
     "text": [
      "54\n",
      "0\n"
     ]
    }
   ],
   "source": [
    "# power of 6\n",
    "print(108//2)\n",
    "print(108%2)\n"
   ]
  },
  {
   "cell_type": "code",
   "execution_count": 3,
   "metadata": {},
   "outputs": [
    {
     "name": "stdout",
     "output_type": "stream",
     "text": [
      "108\n",
      "1\n"
     ]
    }
   ],
   "source": [
    "# power of 7\n",
    "print(217//2)\n",
    "print(217%2)"
   ]
  },
  {
   "cell_type": "code",
   "execution_count": 22,
   "metadata": {},
   "outputs": [
    {
     "ename": "TypeError",
     "evalue": "'int' object is not callable",
     "output_type": "error",
     "traceback": [
      "\u001b[1;31m---------------------------------------------------------------------------\u001b[0m",
      "\u001b[1;31mTypeError\u001b[0m                                 Traceback (most recent call last)",
      "\u001b[1;32m<ipython-input-22-51d47808c6af>\u001b[0m in \u001b[0;36m<module>\u001b[1;34m\u001b[0m\n\u001b[0;32m      1\u001b[0m \u001b[1;31m# Now, assemble your answer\u001b[0m\u001b[1;33m\u001b[0m\u001b[1;33m\u001b[0m\u001b[1;33m\u001b[0m\u001b[0m\n\u001b[0;32m      2\u001b[0m \u001b[1;31m#binnum = 0b11011001\u001b[0m\u001b[1;33m\u001b[0m\u001b[1;33m\u001b[0m\u001b[1;33m\u001b[0m\u001b[0m\n\u001b[1;32m----> 3\u001b[1;33m \u001b[0mbin\u001b[0m\u001b[1;33m(\u001b[0m\u001b[1;36m217\u001b[0m\u001b[1;33m)\u001b[0m\u001b[1;33m\u001b[0m\u001b[1;33m\u001b[0m\u001b[0m\n\u001b[0m",
      "\u001b[1;31mTypeError\u001b[0m: 'int' object is not callable"
     ]
    }
   ],
   "source": [
    "# Now, assemble your answer\n",
    "#binnum = 0b11011001\n",
    "bin(217)"
   ]
  },
  {
   "cell_type": "markdown",
   "metadata": {},
   "source": [
    "#### 2. Convert 0b1110 0011 to a decimal number\n"
   ]
  },
  {
   "cell_type": "code",
   "execution_count": 25,
   "metadata": {},
   "outputs": [
    {
     "name": "stdout",
     "output_type": "stream",
     "text": [
      "1\n"
     ]
    }
   ],
   "source": [
    "# 2 to the power of 0\n",
    "1*(1)\n",
    "power0 = 1*(2**0)\n",
    "print(power0)"
   ]
  },
  {
   "cell_type": "code",
   "execution_count": 26,
   "metadata": {},
   "outputs": [
    {
     "name": "stdout",
     "output_type": "stream",
     "text": [
      "2\n"
     ]
    }
   ],
   "source": [
    "# power of 1\n",
    "1*(2)\n",
    "power1 = 1*(2**1)\n",
    "print(power1)"
   ]
  },
  {
   "cell_type": "code",
   "execution_count": 35,
   "metadata": {},
   "outputs": [
    {
     "name": "stdout",
     "output_type": "stream",
     "text": [
      "4\n"
     ]
    }
   ],
   "source": [
    "# power of 2\n",
    "1*(2*2)\n",
    "power2 = 1*(2**2)\n",
    "print(power2)"
   ]
  },
  {
   "cell_type": "code",
   "execution_count": 29,
   "metadata": {},
   "outputs": [
    {
     "name": "stdout",
     "output_type": "stream",
     "text": [
      "8\n"
     ]
    }
   ],
   "source": [
    "# power of 3\n",
    "1*(2*2*2)\n",
    "power3 = 1*(2**3)\n",
    "print(power3)"
   ]
  },
  {
   "cell_type": "code",
   "execution_count": 30,
   "metadata": {},
   "outputs": [
    {
     "name": "stdout",
     "output_type": "stream",
     "text": [
      "16\n"
     ]
    }
   ],
   "source": [
    "# power of 4\n",
    "1*(2*2*2*2)\n",
    "power4 = 1*(2**4)\n",
    "print(power4)"
   ]
  },
  {
   "cell_type": "code",
   "execution_count": 31,
   "metadata": {},
   "outputs": [
    {
     "name": "stdout",
     "output_type": "stream",
     "text": [
      "32\n"
     ]
    }
   ],
   "source": [
    "# power of 5\n",
    "1*(2*2*2*2*2)\n",
    "power5 = 1*(2**5)\n",
    "print(power5)"
   ]
  },
  {
   "cell_type": "code",
   "execution_count": 32,
   "metadata": {},
   "outputs": [
    {
     "name": "stdout",
     "output_type": "stream",
     "text": [
      "64\n"
     ]
    }
   ],
   "source": [
    "# power of 6\n",
    "1*(2*2*2*2*2*2)\n",
    "power6 = 1*(2**6)\n",
    "print(power6)"
   ]
  },
  {
   "cell_type": "code",
   "execution_count": 33,
   "metadata": {},
   "outputs": [
    {
     "name": "stdout",
     "output_type": "stream",
     "text": [
      "128\n"
     ]
    }
   ],
   "source": [
    "# power of 7\n",
    "1*(2*2*2*2*2*2*2)\n",
    "power7 = 1*(2**7)\n",
    "print(power7)"
   ]
  },
  {
   "cell_type": "code",
   "execution_count": 36,
   "metadata": {},
   "outputs": [
    {
     "name": "stdout",
     "output_type": "stream",
     "text": [
      "255\n"
     ]
    }
   ],
   "source": [
    "# Now, assemble your answer\n",
    "1+ 2 + 4 + 8 + 16 + 32 + 64 + 128\n",
    "\n",
    "print(power0+power1+power2+power3+power4+power5+power6+power7)"
   ]
  },
  {
   "cell_type": "code",
   "execution_count": null,
   "metadata": {},
   "outputs": [],
   "source": []
  },
  {
   "cell_type": "code",
   "execution_count": null,
   "metadata": {},
   "outputs": [],
   "source": []
  },
  {
   "cell_type": "markdown",
   "metadata": {},
   "source": [
    "### Use Data Type Casting"
   ]
  },
  {
   "cell_type": "code",
   "execution_count": 1,
   "metadata": {},
   "outputs": [
    {
     "data": {
      "text/plain": [
       "155"
      ]
     },
     "execution_count": 1,
     "metadata": {},
     "output_type": "execute_result"
    }
   ],
   "source": [
    "numb = 0b10011011\n",
    "int(numb)"
   ]
  },
  {
   "cell_type": "code",
   "execution_count": 2,
   "metadata": {},
   "outputs": [
    {
     "data": {
      "text/plain": [
       "155"
      ]
     },
     "execution_count": 2,
     "metadata": {},
     "output_type": "execute_result"
    }
   ],
   "source": [
    "int(0b10011011)"
   ]
  },
  {
   "cell_type": "code",
   "execution_count": 3,
   "metadata": {},
   "outputs": [
    {
     "data": {
      "text/plain": [
       "'0b10011011'"
      ]
     },
     "execution_count": 3,
     "metadata": {},
     "output_type": "execute_result"
    }
   ],
   "source": [
    "bin(155)"
   ]
  },
  {
   "cell_type": "code",
   "execution_count": 4,
   "metadata": {},
   "outputs": [
    {
     "data": {
      "text/plain": [
       "str"
      ]
     },
     "execution_count": 4,
     "metadata": {},
     "output_type": "execute_result"
    }
   ],
   "source": [
    "type(bin(153))"
   ]
  },
  {
   "cell_type": "code",
   "execution_count": 5,
   "metadata": {},
   "outputs": [
    {
     "data": {
      "text/plain": [
       "342391"
      ]
     },
     "execution_count": 5,
     "metadata": {},
     "output_type": "execute_result"
    }
   ],
   "source": [
    "numb = 0o01234567\n",
    "int(numb)"
   ]
  },
  {
   "cell_type": "code",
   "execution_count": 6,
   "metadata": {},
   "outputs": [
    {
     "data": {
      "text/plain": [
       "'0o1234567'"
      ]
     },
     "execution_count": 6,
     "metadata": {},
     "output_type": "execute_result"
    }
   ],
   "source": [
    "oct(342391)"
   ]
  },
  {
   "cell_type": "code",
   "execution_count": 7,
   "metadata": {},
   "outputs": [
    {
     "data": {
      "text/plain": [
       "'0x99'"
      ]
     },
     "execution_count": 7,
     "metadata": {},
     "output_type": "execute_result"
    }
   ],
   "source": [
    "numb = 153\n",
    "hex(153)"
   ]
  },
  {
   "cell_type": "code",
   "execution_count": 8,
   "metadata": {},
   "outputs": [
    {
     "data": {
      "text/plain": [
       "155"
      ]
     },
     "execution_count": 8,
     "metadata": {},
     "output_type": "execute_result"
    }
   ],
   "source": [
    "int(\"0b10011011\", 2)"
   ]
  },
  {
   "cell_type": "code",
   "execution_count": 9,
   "metadata": {},
   "outputs": [
    {
     "data": {
      "text/plain": [
       "2101769"
      ]
     },
     "execution_count": 9,
     "metadata": {},
     "output_type": "execute_result"
    }
   ],
   "source": [
    "int(\"0o10011011\", 8)"
   ]
  },
  {
   "cell_type": "code",
   "execution_count": 10,
   "metadata": {},
   "outputs": [
    {
     "data": {
      "text/plain": [
       "342391"
      ]
     },
     "execution_count": 10,
     "metadata": {},
     "output_type": "execute_result"
    }
   ],
   "source": [
    "int(\"0o1234567\", 8)"
   ]
  },
  {
   "cell_type": "code",
   "execution_count": 11,
   "metadata": {},
   "outputs": [
    {
     "data": {
      "text/plain": [
       "523"
      ]
     },
     "execution_count": 11,
     "metadata": {},
     "output_type": "execute_result"
    }
   ],
   "source": [
    "int(0x20b)"
   ]
  },
  {
   "cell_type": "code",
   "execution_count": 17,
   "metadata": {},
   "outputs": [
    {
     "data": {
      "text/plain": [
       "13"
      ]
     },
     "execution_count": 17,
     "metadata": {},
     "output_type": "execute_result"
    }
   ],
   "source": [
    "int(\"1101\", 2)"
   ]
  },
  {
   "cell_type": "code",
   "execution_count": 18,
   "metadata": {},
   "outputs": [
    {
     "data": {
      "text/plain": [
       "577"
      ]
     },
     "execution_count": 18,
     "metadata": {},
     "output_type": "execute_result"
    }
   ],
   "source": [
    "int(\"1101\", 8)"
   ]
  },
  {
   "cell_type": "code",
   "execution_count": 19,
   "metadata": {},
   "outputs": [
    {
     "data": {
      "text/plain": [
       "4353"
      ]
     },
     "execution_count": 19,
     "metadata": {},
     "output_type": "execute_result"
    }
   ],
   "source": [
    "int(\"1101\", 16)"
   ]
  },
  {
   "cell_type": "code",
   "execution_count": 16,
   "metadata": {},
   "outputs": [
    {
     "name": "stdout",
     "output_type": "stream",
     "text": [
      "Binary 1011 is integer 11\n",
      "Octal 1011 is integer 521\n",
      "Hexa 1011 is integer 4113\n"
     ]
    }
   ],
   "source": [
    "numb = \"1011\"\n",
    "print(f\"Binary {numb} is integer {int(numb, 2)}\\nOctal {numb} is integer {int(numb, 8)}\\nHexa {numb} is integer {int(numb,16)}\")"
   ]
  },
  {
   "cell_type": "code",
   "execution_count": null,
   "metadata": {},
   "outputs": [],
   "source": []
  }
 ],
 "metadata": {
  "kernelspec": {
   "display_name": "Python 3",
   "language": "python",
   "name": "python3"
  },
  "language_info": {
   "codemirror_mode": {
    "name": "ipython",
    "version": 3
   },
   "file_extension": ".py",
   "mimetype": "text/x-python",
   "name": "python",
   "nbconvert_exporter": "python",
   "pygments_lexer": "ipython3",
   "version": "3.7.3"
  }
 },
 "nbformat": 4,
 "nbformat_minor": 4
}
