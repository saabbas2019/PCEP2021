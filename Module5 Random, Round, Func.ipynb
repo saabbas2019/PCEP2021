{
 "cells": [
  {
   "cell_type": "markdown",
   "metadata": {},
   "source": [
    "### random number generator\n"
   ]
  },
  {
   "cell_type": "code",
   "execution_count": 1,
   "metadata": {},
   "outputs": [
    {
     "data": {
      "text/plain": [
       "0.8135579595518109"
      ]
     },
     "execution_count": 1,
     "metadata": {},
     "output_type": "execute_result"
    }
   ],
   "source": [
    "import random \n",
    "\n",
    "random.random()"
   ]
  },
  {
   "cell_type": "code",
   "execution_count": 3,
   "metadata": {},
   "outputs": [],
   "source": [
    "import random as rand"
   ]
  },
  {
   "cell_type": "code",
   "execution_count": 3,
   "metadata": {},
   "outputs": [
    {
     "data": {
      "text/plain": [
       "0.6068801919104301"
      ]
     },
     "execution_count": 3,
     "metadata": {},
     "output_type": "execute_result"
    }
   ],
   "source": [
    "# .random generate random number between 0-1\n",
    "rand.random()"
   ]
  },
  {
   "cell_type": "code",
   "execution_count": 6,
   "metadata": {},
   "outputs": [
    {
     "name": "stdout",
     "output_type": "stream",
     "text": [
      "4\n",
      "1\n",
      "5\n",
      "5\n",
      "1\n"
     ]
    }
   ],
   "source": [
    "# rand.randint(start, end) where start and end are enclusive (including end int ex: 1-5)\n",
    "\n",
    "print(rand.randint(1, 5))\n",
    "print(rand.randint(1, 5))\n",
    "print(rand.randint(1, 5))\n",
    "print(rand.randint(1, 5))\n",
    "print(rand.randint(1, 5))"
   ]
  },
  {
   "cell_type": "code",
   "execution_count": 7,
   "metadata": {},
   "outputs": [
    {
     "data": {
      "text/plain": [
       "16"
      ]
     },
     "execution_count": 7,
     "metadata": {},
     "output_type": "execute_result"
    }
   ],
   "source": [
    "rand.randint(10, 19)    # from 10-19 including 19"
   ]
  },
  {
   "cell_type": "markdown",
   "metadata": {},
   "source": [
    "### round( arg [, decimal_places] )\n",
    "take argument and round-up after 5 decimal"
   ]
  },
  {
   "cell_type": "code",
   "execution_count": 8,
   "metadata": {},
   "outputs": [
    {
     "data": {
      "text/plain": [
       "3"
      ]
     },
     "execution_count": 8,
     "metadata": {},
     "output_type": "execute_result"
    }
   ],
   "source": [
    "round(3.142857)       #default"
   ]
  },
  {
   "cell_type": "code",
   "execution_count": 9,
   "metadata": {},
   "outputs": [
    {
     "data": {
      "text/plain": [
       "4.0"
      ]
     },
     "execution_count": 9,
     "metadata": {},
     "output_type": "execute_result"
    }
   ],
   "source": [
    "round(3.662857, 0)   #round-up after 5 decimal"
   ]
  },
  {
   "cell_type": "code",
   "execution_count": 10,
   "metadata": {},
   "outputs": [
    {
     "data": {
      "text/plain": [
       "3.1"
      ]
     },
     "execution_count": 10,
     "metadata": {},
     "output_type": "execute_result"
    }
   ],
   "source": [
    "round(3.142857, 1)   # 1 decimal"
   ]
  },
  {
   "cell_type": "code",
   "execution_count": 11,
   "metadata": {},
   "outputs": [
    {
     "data": {
      "text/plain": [
       "3.14286"
      ]
     },
     "execution_count": 11,
     "metadata": {},
     "output_type": "execute_result"
    }
   ],
   "source": [
    "round(3.142856, 5)   # 5 decimal (round up)"
   ]
  },
  {
   "cell_type": "code",
   "execution_count": 12,
   "metadata": {},
   "outputs": [
    {
     "data": {
      "text/plain": [
       "100"
      ]
     },
     "execution_count": 12,
     "metadata": {},
     "output_type": "execute_result"
    }
   ],
   "source": [
    "round(100, 4)   #don't have decimal"
   ]
  },
  {
   "cell_type": "code",
   "execution_count": 13,
   "metadata": {},
   "outputs": [
    {
     "data": {
      "text/plain": [
       "100.1"
      ]
     },
     "execution_count": 13,
     "metadata": {},
     "output_type": "execute_result"
    }
   ],
   "source": [
    "round(100.1, 3) #only have 1 decimal"
   ]
  },
  {
   "cell_type": "code",
   "execution_count": 15,
   "metadata": {},
   "outputs": [
    {
     "data": {
      "text/plain": [
       "100.526"
      ]
     },
     "execution_count": 15,
     "metadata": {},
     "output_type": "execute_result"
    }
   ],
   "source": [
    "round(100.5257, 3)  #only have 2 decimal"
   ]
  },
  {
   "cell_type": "markdown",
   "metadata": {},
   "source": [
    "## Exercise 1\n",
    "\n",
    "Ask a user for two numbers. Then \n",
    "1. generate 2 random numbers between 2 numbers provided by a user. \n",
    "2. compute two numbers' multiplication\n",
    "3. compute two numbers' division - round the result to the nearest 100th places (2 decimal places) using round() function. \n",
    "4. print out computation results using string format method. \n",
    "5. print out computation results using f-string\n"
   ]
  },
  {
   "cell_type": "code",
   "execution_count": 16,
   "metadata": {},
   "outputs": [
    {
     "name": "stdout",
     "output_type": "stream",
     "text": [
      "Enter a number: 6\n",
      "Enter a number: 8\n"
     ]
    }
   ],
   "source": [
    "# Do you need to import any library?\n",
    "\n",
    "import random as rand\n",
    "\n",
    "# get two numbers from a user - what data type is it?\n",
    "\n",
    "rand_1 = int(input(\"Enter a number: \"))\n",
    "\n",
    "# get two numbers from a user - what data type is it?\n",
    "\n",
    "rand_2 = int(input(\"Enter a number: \"))"
   ]
  },
  {
   "cell_type": "code",
   "execution_count": 17,
   "metadata": {},
   "outputs": [],
   "source": [
    "# generate two random numbers\n",
    "num1 = rand.randint(rand_1, rand_2)\n",
    "num2 = rand.randint(rand_1, rand_2)\n"
   ]
  },
  {
   "cell_type": "code",
   "execution_count": 18,
   "metadata": {},
   "outputs": [
    {
     "name": "stdout",
     "output_type": "stream",
     "text": [
      "8 7\n"
     ]
    }
   ],
   "source": [
    "print(num1, num2)"
   ]
  },
  {
   "cell_type": "code",
   "execution_count": 19,
   "metadata": {},
   "outputs": [],
   "source": [
    "# compute multipliction\n",
    "result1 = num1 * num2\n",
    "\n",
    "# compute division\n",
    "result2 = num1 / num2\n",
    "\n",
    "# Round the result to the nearest 100th places (2 decimal places) using round() function.\n",
    "\n",
    "result2 = round(result2, 2)"
   ]
  },
  {
   "cell_type": "code",
   "execution_count": 20,
   "metadata": {},
   "outputs": [
    {
     "name": "stdout",
     "output_type": "stream",
     "text": [
      "56 1.14\n"
     ]
    }
   ],
   "source": [
    "print(result1, result2)"
   ]
  },
  {
   "cell_type": "code",
   "execution_count": 21,
   "metadata": {},
   "outputs": [
    {
     "name": "stdout",
     "output_type": "stream",
     "text": [
      "8*7 = 56\n"
     ]
    }
   ],
   "source": [
    "# print out computation results using string format method\n",
    "\n",
    "print(\"{}*{} = {}\".format(num1, num2, result1))"
   ]
  },
  {
   "cell_type": "code",
   "execution_count": 22,
   "metadata": {},
   "outputs": [
    {
     "name": "stdout",
     "output_type": "stream",
     "text": [
      "8*7 = 1.14\n"
     ]
    }
   ],
   "source": [
    "# print out computation results using f-string\n",
    "\n",
    "print(f\"{num1}*{num2} = {result2}\")"
   ]
  },
  {
   "cell_type": "code",
   "execution_count": null,
   "metadata": {},
   "outputs": [],
   "source": []
  },
  {
   "cell_type": "markdown",
   "metadata": {},
   "source": [
    "### Customized Functions\n",
    "\n",
    "syntax: def function_name (when you defind a function, argument called 'parameter'):\n",
    "4 indention: other language use {, but python use indention (statement)\n",
    "return: to catch the value, and need to have 'variable' to catch the return\n",
    "\n",
    "ex: \n",
    "    index =25 \n",
    "    \n",
    "    def function_name(x)\n",
    "    \n",
    "    x +=10\n",
    "    \n",
    "    return x [x now is 35]\n",
    "\n",
    "    val [ after function is 35] = function_name(index)\n"
   ]
  },
  {
   "cell_type": "code",
   "execution_count": 8,
   "metadata": {},
   "outputs": [],
   "source": [
    "#defind my function, but have no return statment\n",
    "def my_function() :\n",
    "    x = rand.randint(2, 5)\n",
    "    print(x)\n",
    "    print(\"#\" * x)"
   ]
  },
  {
   "cell_type": "code",
   "execution_count": 9,
   "metadata": {},
   "outputs": [
    {
     "name": "stdout",
     "output_type": "stream",
     "text": [
      "4\n",
      "####\n"
     ]
    }
   ],
   "source": [
    "#check the function output\n",
    "\n",
    "my_function()     #print a random number that .randint generate = 5\n",
    "                  #print # * 5"
   ]
  },
  {
   "cell_type": "code",
   "execution_count": 10,
   "metadata": {},
   "outputs": [
    {
     "name": "stdout",
     "output_type": "stream",
     "text": [
      "2\n",
      "##\n",
      "2\n",
      "##\n",
      "None\n"
     ]
    }
   ],
   "source": [
    "my_function()\n",
    "print(my_function())    # check what has printed[ .randint, #*5, and return of function = None]\n"
   ]
  },
  {
   "cell_type": "code",
   "execution_count": 11,
   "metadata": {},
   "outputs": [],
   "source": [
    "# customized function with arguments\n",
    "# when you return with 'no' variable == has no return 'result is lost'\n",
    "\n",
    "def my_function2(start_no, end_no) :\n",
    "    x = rand.randint(start_no, end_no)   #assigned by variable name\n",
    "    pattern = \"-\" * x\n",
    "    print(f\"x={x}\\t{pattern}\")\n",
    "    return                         # returns = None\n",
    "    "
   ]
  },
  {
   "cell_type": "code",
   "execution_count": 12,
   "metadata": {},
   "outputs": [
    {
     "name": "stdout",
     "output_type": "stream",
     "text": [
      "x=4\t----\n",
      "None\n",
      "x=5\t-----\n",
      "x=10\t----------\n"
     ]
    }
   ],
   "source": [
    "print(my_function2(1, 5))    #when you use print() function, it will print the \"returns\" = None\n",
    "my_function2(1, 10)\n",
    "my_function2(10, 14)"
   ]
  },
  {
   "cell_type": "code",
   "execution_count": 13,
   "metadata": {},
   "outputs": [
    {
     "name": "stdout",
     "output_type": "stream",
     "text": [
      "x=2\t--\n",
      "None\n"
     ]
    }
   ],
   "source": [
    "print(my_function2(1,5))   #output = print(f\"x={x}\\t{pattern}\")\n",
    "                           # print() will print the output of the 'return' value of the function my_function2"
   ]
  },
  {
   "cell_type": "code",
   "execution_count": 14,
   "metadata": {},
   "outputs": [
    {
     "name": "stdout",
     "output_type": "stream",
     "text": [
      "x=11\t-----------\n",
      "x=11\t-----------\n",
      "x=14\t--------------\n"
     ]
    }
   ],
   "source": [
    "#without print, it will not print 'returns'\n",
    "my_function2(10, 14)\n",
    "my_function2(10, 14)\n",
    "my_function2(10, 14)"
   ]
  },
  {
   "cell_type": "code",
   "execution_count": 15,
   "metadata": {},
   "outputs": [
    {
     "name": "stdout",
     "output_type": "stream",
     "text": [
      "I love @may\n",
      "None\n",
      "I love @2\n"
     ]
    }
   ],
   "source": [
    "#**simplify version** the definding function parameter and passing argument when calling function\n",
    "\n",
    "def dum1(silly) :\n",
    "    x = str(silly) \n",
    "    dumdum = \"@\"+x\n",
    "    print(\"I love\",dumdum)\n",
    "    \n",
    "print(dum1('may'))\n",
    "dum1(2)"
   ]
  },
  {
   "cell_type": "code",
   "execution_count": 16,
   "metadata": {},
   "outputs": [
    {
     "name": "stdout",
     "output_type": "stream",
     "text": [
      "x=1\t-\n"
     ]
    }
   ],
   "source": [
    "# customized function with arguments and return value\n",
    "\n",
    "def my_function3(start_no, end_no) :\n",
    "    x = rand.randint(start_no, end_no)\n",
    "    pattern = \"-\" * x\n",
    "    result = f\"x={x}\\t{pattern}\"          \n",
    "    return result                        # returns a string\n",
    "    \n",
    "print(my_function3(1, 5))  # when print() print the 'return' value = print(f\"x={x}\\t{pattern}\") = x=2 --\n",
    "\n"
   ]
  },
  {
   "cell_type": "code",
   "execution_count": 17,
   "metadata": {},
   "outputs": [
    {
     "name": "stdout",
     "output_type": "stream",
     "text": [
      "I love @3\n",
      "@3\n"
     ]
    }
   ],
   "source": [
    "#**simplify version** \n",
    "def dum2(silly) :\n",
    "    x = str(silly) \n",
    "    dumdum = \"@\"+x\n",
    "    print(\"I love\",dumdum)\n",
    "    return dumdum\n",
    "\n",
    "print(dum2(3))\n",
    "    "
   ]
  },
  {
   "cell_type": "code",
   "execution_count": 18,
   "metadata": {},
   "outputs": [
    {
     "data": {
      "text/plain": [
       "'x=5\\t-----'"
      ]
     },
     "execution_count": 18,
     "metadata": {},
     "output_type": "execute_result"
    }
   ],
   "source": [
    "#without print() return [result variable == string value]\n",
    "\n",
    "my_function3(1, 5)  # why didn't this get printed? it returns a string, not an \"out put\" of print()function"
   ]
  },
  {
   "cell_type": "code",
   "execution_count": 20,
   "metadata": {},
   "outputs": [
    {
     "name": "stdout",
     "output_type": "stream",
     "text": [
      "--------------------\n",
      "--------------------\n",
      "x=2\t--\n"
     ]
    }
   ],
   "source": [
    "my_function3(1, 5)\n",
    "print(\"-\"*20)\n",
    "print(\"-\"*20)\n",
    "\n",
    "print(my_function3(1, 5))"
   ]
  },
  {
   "cell_type": "code",
   "execution_count": 21,
   "metadata": {},
   "outputs": [],
   "source": [
    "# returning something with a function\n",
    "#start by writing function\n",
    "\n",
    "def add(a, b):\n",
    "    print(f\"ADDING {a} + {b}\")     #this is a debug statment to check the function!\n",
    "    # without the f, it looks like ADDING {a} + {b}\n",
    "    # with the f, it looks like ADDING 30 + 5\n",
    "    return a + b\n",
    "\n",
    "def subtract(a, b):\n",
    "    #print(f\"SUBTRACTING {a} - {b}\")\n",
    "    c = a - b\n",
    "    #print(\"return with \", c)\n",
    "    return c\n",
    "\n",
    "def multiply(a, b):\n",
    "    print(f\"MULTIPLYING {a} * {b}\")\n",
    "    return a * b\n",
    "\n",
    "def divide(a, b):\n",
    "    print(f\"DIVIDING {a} / {b}\")\n",
    "    return a / b\n"
   ]
  },
  {
   "cell_type": "code",
   "execution_count": 22,
   "metadata": {},
   "outputs": [
    {
     "name": "stdout",
     "output_type": "stream",
     "text": [
      "Let's do some math with just functions!\n",
      "Enter an integer: 44\n",
      "Enter a float: 6\n",
      "ADDING 44 + 6.0\n",
      "MULTIPLYING 44 * 6.0\n",
      "DIVIDING 44 / 6.0\n",
      "Before: numb1 = 44\tnumb2 = 6.0\n",
      "\n",
      "\n",
      "\n",
      "\n",
      "addition: 50.0                      #span string over multiple lines \"Python's triple qoutes\"\n",
      "subtraction: 38.0\n",
      "multiplication:                 264.0\n",
      "division: 7.333333333333333\n"
     ]
    }
   ],
   "source": [
    "#not that complicate as it seems\n",
    "\n",
    "print(\"Let's do some math with just functions!\")  #out put in the first line\n",
    "\n",
    "numb1 = int(input(\"Enter an integer: \"))  # enter 1, out put in the second line\n",
    "numb2 = float(input(\"Enter a float: \"))   # enter 2, out put in the third line\n",
    "\n",
    "addition = add(numb1, numb2)              # assign variable and call the function at the same time\n",
    "subtraction = subtract(numb1, numb2)  \n",
    "multiplication = multiply(numb1, numb2) \n",
    "division = divide(numb1, numb2) \n",
    "\n",
    "print(f\"Before: numb1 = {numb1}\\tnumb2 = {numb2}\\n\\n\")     #how many new lines are here? 4 right!\n",
    "print(f\"\"\"\\n\\naddition: {addition}                      #span string over multiple lines \"Python's triple qoutes\"\n",
    "subtraction: {subtraction}\n",
    "multiplication:                 {multiplication}\n",
    "division: {division}\"\"\")"
   ]
  },
  {
   "cell_type": "code",
   "execution_count": 23,
   "metadata": {},
   "outputs": [
    {
     "name": "stdout",
     "output_type": "stream",
     "text": [
      "ADDING 44 + 6.0\n"
     ]
    }
   ],
   "source": [
    "addition = add(numb1, numb2)  # assign variable and call the function at the same time, \n",
    "                              #so in the function \"add\" it has {print(f\"ADDING {a} + {b}\") }statement,\n",
    "                              #so \"ADDING...\" got print"
   ]
  },
  {
   "cell_type": "code",
   "execution_count": 24,
   "metadata": {},
   "outputs": [
    {
     "name": "stdout",
     "output_type": "stream",
     "text": [
      "ADDING 44 + 6.0\n"
     ]
    },
    {
     "data": {
      "text/plain": [
       "50.0"
      ]
     },
     "execution_count": 24,
     "metadata": {},
     "output_type": "execute_result"
    }
   ],
   "source": [
    "add(numb1, numb2)             #not it show \"print\" {print(f\"ADDING {a} + {b}\") } in \"add\"fuction\n",
    "                              #and show output the return value"
   ]
  },
  {
   "cell_type": "code",
   "execution_count": 25,
   "metadata": {},
   "outputs": [
    {
     "name": "stdout",
     "output_type": "stream",
     "text": [
      "ADDING 44 + 6.0\n",
      "50.0\n"
     ]
    }
   ],
   "source": [
    "print(add(numb1, numb2))  # print the \"print\"output of add func, and \"print\" the return output"
   ]
  },
  {
   "cell_type": "code",
   "execution_count": 26,
   "metadata": {},
   "outputs": [
    {
     "name": "stdout",
     "output_type": "stream",
     "text": [
      "50.0\n"
     ]
    }
   ],
   "source": [
    "print(addition) # only print the return value"
   ]
  },
  {
   "cell_type": "code",
   "execution_count": 27,
   "metadata": {},
   "outputs": [
    {
     "name": "stdout",
     "output_type": "stream",
     "text": [
      "After: numb1 = 44\tnumb2 = 6.0\n",
      "\n",
      "\n"
     ]
    }
   ],
   "source": [
    "print(f\"After: numb1 = {numb1}\\tnumb2 = {numb2}\\n\\n\")"
   ]
  },
  {
   "cell_type": "code",
   "execution_count": 28,
   "metadata": {},
   "outputs": [],
   "source": [
    "#defind a new function with 3 parameters passing\n",
    "def add(a, b, c):\n",
    "    return a + b + c\n",
    "\n",
    "def multiply(a, b, c):\n",
    "    return a * b * c"
   ]
  },
  {
   "cell_type": "code",
   "execution_count": 29,
   "metadata": {},
   "outputs": [
    {
     "ename": "TypeError",
     "evalue": "add() missing 1 required positional argument: 'c'",
     "output_type": "error",
     "traceback": [
      "\u001b[1;31m---------------------------------------------------------------------------\u001b[0m",
      "\u001b[1;31mTypeError\u001b[0m                                 Traceback (most recent call last)",
      "\u001b[1;32m<ipython-input-29-64fc48d8cdcd>\u001b[0m in \u001b[0;36m<module>\u001b[1;34m\u001b[0m\n\u001b[0;32m      1\u001b[0m \u001b[1;31m#missing the third argument will cause an ***error\u001b[0m\u001b[1;33m\u001b[0m\u001b[1;33m\u001b[0m\u001b[1;33m\u001b[0m\u001b[0m\n\u001b[1;32m----> 2\u001b[1;33m \u001b[0mprint\u001b[0m\u001b[1;33m(\u001b[0m\u001b[0madd\u001b[0m\u001b[1;33m(\u001b[0m\u001b[1;36m1\u001b[0m\u001b[1;33m,\u001b[0m \u001b[1;36m2\u001b[0m\u001b[1;33m)\u001b[0m\u001b[1;33m)\u001b[0m\u001b[1;33m\u001b[0m\u001b[1;33m\u001b[0m\u001b[0m\n\u001b[0m",
      "\u001b[1;31mTypeError\u001b[0m: add() missing 1 required positional argument: 'c'"
     ]
    }
   ],
   "source": [
    "#missing the third argument will cause an ***error\n",
    "print(add(1, 2))"
   ]
  },
  {
   "cell_type": "markdown",
   "metadata": {},
   "source": [
    "### Function with default value(s)\n",
    "1. you can defind a default value or default arguments(optional)\n",
    "\n",
    "ex: def function_name(x, y =0)\n",
    "so if you dont give the second argument it will take y=0\n",
    "\n",
    "2. 'name argument' will presidence the 'default argument'\n",
    "ex: function_name(x =7)"
   ]
  },
  {
   "cell_type": "code",
   "execution_count": 30,
   "metadata": {},
   "outputs": [],
   "source": [
    "# to handle missing the third argument, we can use default vale c=0\n",
    "\n",
    "\n",
    "def add(a, b, c=0):    # c=0 is a default value just incase when the third argument is not given\n",
    "    return a + b + c\n",
    "\n",
    "def multiply(a, b, c=1):\n",
    "    return a * b * c"
   ]
  },
  {
   "cell_type": "code",
   "execution_count": 31,
   "metadata": {},
   "outputs": [
    {
     "name": "stdout",
     "output_type": "stream",
     "text": [
      "\n",
      "10 + 20 = 30    # the third argument is not given\n",
      "10 + 20 + 30 = 60 \n",
      "10 * 2 = 20         # the third argument is not given\n",
      "10 * 2 * 3 = 60\n",
      "\n"
     ]
    }
   ],
   "source": [
    "print(f\"\"\"\n",
    "10 + 20 = {add(10, 20)}    # the third argument is not given\n",
    "10 + 20 + 30 = {add(10, 20, 30)} \n",
    "10 * 2 = {multiply(10, 2)}         # the third argument is not given\n",
    "10 * 2 * 3 = {multiply(10, 2, 3)}\n",
    "\"\"\")"
   ]
  },
  {
   "cell_type": "code",
   "execution_count": 32,
   "metadata": {},
   "outputs": [],
   "source": [
    "def divide(a=1, b=1):    #assigned argument name\n",
    "    return a / b"
   ]
  },
  {
   "cell_type": "code",
   "execution_count": 33,
   "metadata": {},
   "outputs": [
    {
     "name": "stdout",
     "output_type": "stream",
     "text": [
      "3.0\n"
     ]
    }
   ],
   "source": [
    "print(divide(9, 3))"
   ]
  },
  {
   "cell_type": "code",
   "execution_count": 34,
   "metadata": {},
   "outputs": [
    {
     "name": "stdout",
     "output_type": "stream",
     "text": [
      "9.0\n"
     ]
    }
   ],
   "source": [
    "print(divide(9))   #9/1(b)"
   ]
  },
  {
   "cell_type": "code",
   "execution_count": 35,
   "metadata": {},
   "outputs": [
    {
     "name": "stdout",
     "output_type": "stream",
     "text": [
      "0.1111111111111111\n"
     ]
    }
   ],
   "source": [
    "print(divide(b=9))  #(a)1/9"
   ]
  },
  {
   "cell_type": "code",
   "execution_count": 36,
   "metadata": {},
   "outputs": [
    {
     "name": "stdout",
     "output_type": "stream",
     "text": [
      "Miss Piggy likes Kermit\n"
     ]
    }
   ],
   "source": [
    "def matching(person1, person2) :\n",
    "    print(person1 + \" likes \" + person2)\n",
    "\n",
    "name1 = \"Miss Piggy\"\n",
    "name2 = \"Kermit\"\n",
    "matching(name1, name2)\n",
    "    "
   ]
  },
  {
   "cell_type": "code",
   "execution_count": 37,
   "metadata": {},
   "outputs": [
    {
     "ename": "NameError",
     "evalue": "name 'a' is not defined",
     "output_type": "error",
     "traceback": [
      "\u001b[1;31m---------------------------------------------------------------------------\u001b[0m",
      "\u001b[1;31mNameError\u001b[0m                                 Traceback (most recent call last)",
      "\u001b[1;32m<ipython-input-37-ac8ccefd5aec>\u001b[0m in \u001b[0;36m<module>\u001b[1;34m\u001b[0m\n\u001b[1;32m----> 1\u001b[1;33m \u001b[0mx\u001b[0m \u001b[1;33m=\u001b[0m \u001b[0ma\u001b[0m\u001b[1;33m\u001b[0m\u001b[1;33m\u001b[0m\u001b[0m\n\u001b[0m\u001b[0;32m      2\u001b[0m \u001b[0my\u001b[0m \u001b[1;33m=\u001b[0m \u001b[0mb\u001b[0m\u001b[1;33m\u001b[0m\u001b[1;33m\u001b[0m\u001b[0m\n\u001b[0;32m      3\u001b[0m \u001b[0mmatching\u001b[0m\u001b[1;33m(\u001b[0m\u001b[0ma\u001b[0m\u001b[1;33m,\u001b[0m\u001b[0mb\u001b[0m\u001b[1;33m)\u001b[0m\u001b[1;33m\u001b[0m\u001b[1;33m\u001b[0m\u001b[0m\n",
      "\u001b[1;31mNameError\u001b[0m: name 'a' is not defined"
     ]
    }
   ],
   "source": [
    "x = a\n",
    "y = b\n",
    "matching(a,b)"
   ]
  },
  {
   "cell_type": "code",
   "execution_count": 38,
   "metadata": {},
   "outputs": [
    {
     "name": "stdout",
     "output_type": "stream",
     "text": [
      "Kermit likes Miss Piggy\n"
     ]
    }
   ],
   "source": [
    "matching(name2, name1) #you can switch place"
   ]
  },
  {
   "cell_type": "code",
   "execution_count": 39,
   "metadata": {},
   "outputs": [
    {
     "name": "stdout",
     "output_type": "stream",
     "text": [
      "Miss Piggy likes Kermit\n",
      "Miss Piggy likes Kermit\n"
     ]
    }
   ],
   "source": [
    "matching(person1= name1, person2=name2) #person1 is Miss Piggy (Print(person1 +like+ person2)\n",
    "matching(person2=name2, person1= name1) #person1 still Miss Piggy"
   ]
  },
  {
   "cell_type": "code",
   "execution_count": 40,
   "metadata": {},
   "outputs": [
    {
     "name": "stdout",
     "output_type": "stream",
     "text": [
      "retval = 10\n",
      "x = 5\n"
     ]
    }
   ],
   "source": [
    "def double_func(x) : #named function \"double_func\"\n",
    "    x *= 2           #code x = x*2\n",
    "    return x\n",
    "\n",
    "\n",
    "x = 5\n",
    "retval = double_func(x)      #5 = 5*2    return x = 10\n",
    "print(f\"retval = {retval}\")  #returnval = 10\n",
    "print(f\"x = {x}\")             #x=5\n"
   ]
  },
  {
   "cell_type": "code",
   "execution_count": 41,
   "metadata": {},
   "outputs": [
    {
     "name": "stdout",
     "output_type": "stream",
     "text": [
      "retval = what?what?\n",
      "x = what?\n"
     ]
    }
   ],
   "source": [
    "x = \"what?\"\n",
    "retval = double_func(x)      #what? = what?*2 \n",
    "print(f\"retval = {retval}\")  #reternval = what?what?\n",
    "print(f\"x = {x}\")            #x = what?\n"
   ]
  },
  {
   "cell_type": "markdown",
   "metadata": {},
   "source": [
    "## Exercise 2\n",
    "Write a function called compute() to calculate an area and a perimeter of a rectangle.\n",
    "compute() function will be used in a program as below cell. Fix bugs and edit cells if needed.\n",
    "Run all necessary cells in order to show your function works.\n",
    "\n",
    "The output should be something like this:\n",
    "\n",
    "    Please enter length: 25\n",
    "    Please enter width: 10\n",
    "\n",
    "    Area is 250\n",
    "    Perimeter is 70"
   ]
  },
  {
   "cell_type": "code",
   "execution_count": 42,
   "metadata": {},
   "outputs": [],
   "source": [
    "# write code for function called compute() here\n",
    "def compute(width, length) :\n",
    "    area = width * length\n",
    "    perimeter = (2 * width) + (2 * length)\n",
    "    \n",
    "    print(f\"Area is {area}\\nPerimeter is {perimeter}\\n\\n\") "
   ]
  },
  {
   "cell_type": "code",
   "execution_count": 45,
   "metadata": {},
   "outputs": [
    {
     "name": "stdout",
     "output_type": "stream",
     "text": [
      "The Area and Perimeter Program\n",
      "Please enter length: 6\n",
      "Please enter width: 8.5\n",
      "\n",
      "Area is 51.0\n",
      "Perimeter is 29.0\n",
      "\n",
      "\n",
      "Area is 51.0\n",
      "Perimeter is 29.0\n",
      "\n",
      "\n"
     ]
    }
   ],
   "source": [
    "# run this cell and fix any errors\n",
    "\n",
    "print(\"The Area and Perimeter Program\")  \n",
    "\n",
    "length = float(input(\"Please enter length: \"))\n",
    "width = float(input(\"Please enter width: \"))\n",
    "\n",
    "print(\"\")\n",
    "compute(width, length)\n",
    "compute(length, width)"
   ]
  },
  {
   "cell_type": "code",
   "execution_count": null,
   "metadata": {},
   "outputs": [],
   "source": []
  },
  {
   "cell_type": "markdown",
   "metadata": {},
   "source": [
    "### Lambda Functions\n",
    "A lambda function is a \"small anonymous function.\"\n",
    "\n",
    "A lambda function can take any number of arguments, but can only have one expression.\n",
    "syntax = lambda arguments : expression​\n",
    "\n",
    "The expression is executed and the result is returned:   ​\n",
    "\n",
    "(take one argument)​\n",
    "\n",
    "x = lambda a : a + 10​\n",
    "\n",
    "print(x(5))​\n",
    "\n",
    "(take multiple argument)​\n",
    "\n",
    "x = lambda a, b : a * b​\n",
    "\n",
    "print(x(5, 6))​"
   ]
  },
  {
   "cell_type": "code",
   "execution_count": 46,
   "metadata": {},
   "outputs": [
    {
     "name": "stdout",
     "output_type": "stream",
     "text": [
      "3\n"
     ]
    }
   ],
   "source": [
    "value = lambda a,b : a - b        # lambda a (argument) : a * 2 (expression)\n",
    "print(value(5,2))                 #reassign function to variable 'value'. now 'value' is a function, can take argumeent"
   ]
  },
  {
   "cell_type": "code",
   "execution_count": 47,
   "metadata": {},
   "outputs": [
    {
     "data": {
      "text/plain": [
       "<function __main__.<lambda>(a, b)>"
      ]
     },
     "execution_count": 47,
     "metadata": {},
     "output_type": "execute_result"
    }
   ],
   "source": [
    "value"
   ]
  },
  {
   "cell_type": "code",
   "execution_count": 48,
   "metadata": {},
   "outputs": [
    {
     "data": {
      "text/plain": [
       "function"
      ]
     },
     "execution_count": 48,
     "metadata": {},
     "output_type": "execute_result"
    }
   ],
   "source": [
    "type(value)"
   ]
  },
  {
   "cell_type": "code",
   "execution_count": 49,
   "metadata": {},
   "outputs": [
    {
     "ename": "TypeError",
     "evalue": "<lambda>() missing 1 required positional argument: 'b'",
     "output_type": "error",
     "traceback": [
      "\u001b[1;31m---------------------------------------------------------------------------\u001b[0m",
      "\u001b[1;31mTypeError\u001b[0m                                 Traceback (most recent call last)",
      "\u001b[1;32m<ipython-input-49-94a9ff152e1b>\u001b[0m in \u001b[0;36m<module>\u001b[1;34m\u001b[0m\n\u001b[1;32m----> 1\u001b[1;33m \u001b[0mprint\u001b[0m\u001b[1;33m(\u001b[0m\u001b[0mvalue\u001b[0m\u001b[1;33m(\u001b[0m\u001b[1;36m10\u001b[0m\u001b[1;33m)\u001b[0m\u001b[1;33m)\u001b[0m\u001b[1;33m\u001b[0m\u001b[1;33m\u001b[0m\u001b[0m\n\u001b[0m",
      "\u001b[1;31mTypeError\u001b[0m: <lambda>() missing 1 required positional argument: 'b'"
     ]
    }
   ],
   "source": [
    "print(value(10))"
   ]
  },
  {
   "cell_type": "code",
   "execution_count": 50,
   "metadata": {},
   "outputs": [
    {
     "name": "stdout",
     "output_type": "stream",
     "text": [
      "6\n"
     ]
    }
   ],
   "source": [
    "print(value(10, 4))"
   ]
  },
  {
   "cell_type": "code",
   "execution_count": 51,
   "metadata": {},
   "outputs": [
    {
     "name": "stdout",
     "output_type": "stream",
     "text": [
      "thank goodness\n"
     ]
    }
   ],
   "source": [
    "sample = lambda a : a\n",
    "print(sample(\"thank goodness\"))      #a == \"thank goodness\""
   ]
  },
  {
   "cell_type": "code",
   "execution_count": 52,
   "metadata": {},
   "outputs": [
    {
     "name": "stdout",
     "output_type": "stream",
     "text": [
      "<function func.<locals>.<lambda> at 0x000002413DA75158>\n"
     ]
    }
   ],
   "source": [
    "def func(n) :\n",
    "    return lambda a : a * n\n",
    "    \n",
    "print(func(3))    # what is happening?  #it is return lambda function is saved in the kernel."
   ]
  },
  {
   "cell_type": "code",
   "execution_count": 53,
   "metadata": {},
   "outputs": [
    {
     "name": "stdout",
     "output_type": "stream",
     "text": [
      "inside func: n = 3\n",
      "<function func.<locals>.<lambda> at 0x000002413DA75158>\n"
     ]
    }
   ],
   "source": [
    "def func(n) :\n",
    "    print(f\"inside func: n = {n}\")\n",
    "    return lambda a : a * n\n",
    "    \n",
    "print(func(3))    # what does func() function return? #return lambda function"
   ]
  },
  {
   "cell_type": "code",
   "execution_count": 54,
   "metadata": {},
   "outputs": [
    {
     "name": "stdout",
     "output_type": "stream",
     "text": [
      "inside func: n = 3\n"
     ]
    },
    {
     "data": {
      "text/plain": [
       "<function __main__.func.<locals>.<lambda>(a)>"
      ]
     },
     "execution_count": 54,
     "metadata": {},
     "output_type": "execute_result"
    }
   ],
   "source": [
    "func(3)"
   ]
  },
  {
   "cell_type": "code",
   "execution_count": 55,
   "metadata": {},
   "outputs": [
    {
     "name": "stdout",
     "output_type": "stream",
     "text": [
      "inside func: n = 2\n",
      "10\n"
     ]
    }
   ],
   "source": [
    "db_val = func(2)    #by calling func(2) will = return lambda a : a * (n=2) to variable db_val.\n",
    "                    # db_val now = lambda function that can take 'a' argument\n",
    "print(db_val(5))    # n = 2, a = 5\n",
    "                    # db_val(5) == lambda a : 5 * 2"
   ]
  },
  {
   "cell_type": "code",
   "execution_count": 56,
   "metadata": {},
   "outputs": [
    {
     "name": "stdout",
     "output_type": "stream",
     "text": [
      "inside func: n = 3\n",
      "15\n"
     ]
    }
   ],
   "source": [
    "tri_val = func(3)\n",
    "print(tri_val(5))"
   ]
  },
  {
   "cell_type": "markdown",
   "metadata": {},
   "source": [
    "## Exercise 3\n",
    "Write a lambda function to convert an integer to a binary number. <br>\n",
    "Show that your lambda function works, using int() function."
   ]
  },
  {
   "cell_type": "code",
   "execution_count": 60,
   "metadata": {},
   "outputs": [
    {
     "name": "stdout",
     "output_type": "stream",
     "text": [
      "0b11\n"
     ]
    }
   ],
   "source": [
    "# lambda function definition\n",
    "binary = lambda a : bin(a)\n",
    "\n",
    "print(binary(3))\n"
   ]
  },
  {
   "cell_type": "code",
   "execution_count": 63,
   "metadata": {},
   "outputs": [
    {
     "data": {
      "text/plain": [
       "3"
      ]
     },
     "execution_count": 63,
     "metadata": {},
     "output_type": "execute_result"
    }
   ],
   "source": [
    "# confirm, using int() function\n",
    "int(str(bin(0b11)),2)"
   ]
  },
  {
   "cell_type": "markdown",
   "metadata": {},
   "source": [
    "### Name Scope\n",
    "variable scope in Python: LEGB (rule) = Local, Enclosing, Global, Buid-in ( Python will check this exact order when check variable)​ Only talk about **Global and Local scope:​\n"
   ]
  },
  {
   "cell_type": "code",
   "execution_count": 64,
   "metadata": {},
   "outputs": [
    {
     "name": "stdout",
     "output_type": "stream",
     "text": [
      "Great!\n"
     ]
    }
   ],
   "source": [
    "msg = \"Great!\"  #global\n",
    "\n",
    "def fun() :      #check local, then check global, for 'passing value'\n",
    "    print(msg)\n",
    "    \n",
    "fun()    "
   ]
  },
  {
   "cell_type": "code",
   "execution_count": 65,
   "metadata": {},
   "outputs": [
    {
     "name": "stdout",
     "output_type": "stream",
     "text": [
      "You got this!\n"
     ]
    }
   ],
   "source": [
    "def fun2() :\n",
    "    print(msg2)\n",
    "    \n",
    "msg2 = \"You got this!\"   #when the local variable is not defind, the func will go out to find the 'global'variable\n",
    "\n",
    "fun2()"
   ]
  },
  {
   "cell_type": "code",
   "execution_count": 66,
   "metadata": {},
   "outputs": [
    {
     "name": "stdout",
     "output_type": "stream",
     "text": [
      "Oh May!\n",
      "After func3(): msg=Oh, dear\n"
     ]
    }
   ],
   "source": [
    "#error\n",
    "def fun3() :\n",
    "    msg3 = \"Oh May\"\n",
    "    msg3 = msg3 + \"!\"    #interpretor cannot reassign msg3 value. msg3 is global variable, can only passing value\n",
    "    print(msg3)\n",
    "    \n",
    "msg3 = \"Oh, dear\"\n",
    "fun3()\n",
    "print(f\"After func3(): msg={msg3}\")"
   ]
  },
  {
   "cell_type": "code",
   "execution_count": 67,
   "metadata": {},
   "outputs": [
    {
     "data": {
      "text/plain": [
       "'Oh, dear'"
      ]
     },
     "execution_count": 67,
     "metadata": {},
     "output_type": "execute_result"
    }
   ],
   "source": [
    "msg3"
   ]
  },
  {
   "cell_type": "code",
   "execution_count": 68,
   "metadata": {},
   "outputs": [
    {
     "name": "stdout",
     "output_type": "stream",
     "text": [
      "Oh May!\n"
     ]
    }
   ],
   "source": [
    "fun3()"
   ]
  },
  {
   "cell_type": "code",
   "execution_count": 69,
   "metadata": {},
   "outputs": [
    {
     "ename": "UnboundLocalError",
     "evalue": "local variable 'msg4' referenced before assignment",
     "output_type": "error",
     "traceback": [
      "\u001b[1;31m---------------------------------------------------------------------------\u001b[0m",
      "\u001b[1;31mUnboundLocalError\u001b[0m                         Traceback (most recent call last)",
      "\u001b[1;32m<ipython-input-69-19da6a8f918a>\u001b[0m in \u001b[0;36m<module>\u001b[1;34m\u001b[0m\n\u001b[0;32m      7\u001b[0m \u001b[1;33m\u001b[0m\u001b[0m\n\u001b[0;32m      8\u001b[0m \u001b[1;33m\u001b[0m\u001b[0m\n\u001b[1;32m----> 9\u001b[1;33m \u001b[0mfun4\u001b[0m\u001b[1;33m(\u001b[0m\u001b[1;33m)\u001b[0m\u001b[1;33m\u001b[0m\u001b[1;33m\u001b[0m\u001b[0m\n\u001b[0m\u001b[0;32m     10\u001b[0m \u001b[0mprint\u001b[0m\u001b[1;33m(\u001b[0m\u001b[1;34mf\"After func4(): msg={msg4}\"\u001b[0m\u001b[1;33m)\u001b[0m\u001b[1;33m\u001b[0m\u001b[1;33m\u001b[0m\u001b[0m\n",
      "\u001b[1;32m<ipython-input-69-19da6a8f918a>\u001b[0m in \u001b[0;36mfun4\u001b[1;34m()\u001b[0m\n\u001b[0;32m      3\u001b[0m \u001b[1;33m\u001b[0m\u001b[0m\n\u001b[0;32m      4\u001b[0m \u001b[1;32mdef\u001b[0m \u001b[0mfun4\u001b[0m\u001b[1;33m(\u001b[0m\u001b[1;33m)\u001b[0m \u001b[1;33m:\u001b[0m\u001b[1;33m\u001b[0m\u001b[1;33m\u001b[0m\u001b[0m\n\u001b[1;32m----> 5\u001b[1;33m     \u001b[0mmsg4\u001b[0m \u001b[1;33m=\u001b[0m \u001b[0mmsg4\u001b[0m \u001b[1;33m+\u001b[0m \u001b[1;34m\"!\"\u001b[0m\u001b[1;33m\u001b[0m\u001b[1;33m\u001b[0m\u001b[0m\n\u001b[0m\u001b[0;32m      6\u001b[0m     \u001b[0mprint\u001b[0m\u001b[1;33m(\u001b[0m\u001b[0mmsg4\u001b[0m\u001b[1;33m)\u001b[0m\u001b[1;33m\u001b[0m\u001b[1;33m\u001b[0m\u001b[0m\n\u001b[0;32m      7\u001b[0m \u001b[1;33m\u001b[0m\u001b[0m\n",
      "\u001b[1;31mUnboundLocalError\u001b[0m: local variable 'msg4' referenced before assignment"
     ]
    }
   ],
   "source": [
    "#error\n",
    "msg4 = \"Oh, dear\"   #it doesn't matter if you assigned it before the function. it still global variable\n",
    "\n",
    "def fun4() :\n",
    "    msg4 = msg4 + \"!\"\n",
    "    print(msg4)\n",
    "    \n",
    "\n",
    "fun4()\n",
    "print(f\"After func4(): msg={msg4}\")"
   ]
  },
  {
   "cell_type": "code",
   "execution_count": 71,
   "metadata": {},
   "outputs": [
    {
     "name": "stdout",
     "output_type": "stream",
     "text": [
      "Oh, dear!\n",
      "After func4(): msg=Oh, dear\n"
     ]
    }
   ],
   "source": [
    "#error\n",
    "msg4 = \"Oh, dear\"   #it doesn't matter if you assigned it before the function. it still global variable\n",
    "\n",
    "def fun4(msg4) :\n",
    "    msg4 = msg4 + \"!\"\n",
    "    print(msg4)\n",
    "    \n",
    "\n",
    "fun4(msg4)\n",
    "print(f\"After func4(): msg={msg4}\")"
   ]
  },
  {
   "cell_type": "code",
   "execution_count": 72,
   "metadata": {},
   "outputs": [
    {
     "name": "stdout",
     "output_type": "stream",
     "text": [
      "Oh, yeah!\n",
      "After func3(): msg=Oh, yeah!\n"
     ]
    }
   ],
   "source": [
    "def fun3() :            \n",
    "    global msg3    #We can explicitly tell the Python that we want to work with is the global variable\n",
    "    \n",
    "    msg3 = msg3 + \"!\"   #now, msg3, can be reassigned\n",
    "    print(msg3)\n",
    "    \n",
    "msg3 = \"Oh, yeah\"\n",
    "fun3()\n",
    "print(f\"After func3(): msg={msg3}\")"
   ]
  },
  {
   "cell_type": "code",
   "execution_count": 73,
   "metadata": {},
   "outputs": [
    {
     "name": "stdout",
     "output_type": "stream",
     "text": [
      "Oh, yeah!\n",
      "Oh, yeah!!\n",
      "None\n"
     ]
    }
   ],
   "source": [
    "print(msg3)       #original\n",
    "print(fun3())     # go through the function fun3()"
   ]
  },
  {
   "cell_type": "code",
   "execution_count": 74,
   "metadata": {},
   "outputs": [
    {
     "name": "stdout",
     "output_type": "stream",
     "text": [
      "Oh, yeah!!\n",
      "Oh, yeah!!!\n",
      "None\n"
     ]
    }
   ],
   "source": [
    "print(msg3)      #new value\n",
    "print(fun3())    #reassgined again after run the function the second time"
   ]
  },
  {
   "cell_type": "code",
   "execution_count": 75,
   "metadata": {},
   "outputs": [
    {
     "name": "stdout",
     "output_type": "stream",
     "text": [
      "Oh, yeah!\n",
      "After func4(): msg=Oh, yeah\n"
     ]
    }
   ],
   "source": [
    "#this one, we do not assign 'global'to variable msg in 'local function'\n",
    "def fun4(msg) :\n",
    "    msg = msg + \"!\"\n",
    "    print(msg)\n",
    "    \n",
    "msg3 = \"Oh, yeah\"     #this msg3 value will not be reassigned\n",
    "fun4(msg3)\n",
    "print(f\"After func4(): msg={msg3}\")"
   ]
  },
  {
   "cell_type": "code",
   "execution_count": 77,
   "metadata": {},
   "outputs": [
    {
     "name": "stdout",
     "output_type": "stream",
     "text": [
      "Oh, yeah-def!\n",
      "After func5(): msg=Oh, yeah\n"
     ]
    }
   ],
   "source": [
    "def fun5(msg3) :\n",
    "    msg3 = msg3 + \"-def!\"\n",
    "    print(msg3)\n",
    "    \n",
    "msg3 = \"Oh, yeah\"\n",
    "fun5(msg3)\n",
    "print(f\"After func5(): msg={msg3}\")"
   ]
  },
  {
   "cell_type": "code",
   "execution_count": 78,
   "metadata": {},
   "outputs": [
    {
     "data": {
      "text/plain": [
       "'Oh, yeah'"
      ]
     },
     "execution_count": 78,
     "metadata": {},
     "output_type": "execute_result"
    }
   ],
   "source": [
    "msg3"
   ]
  },
  {
   "cell_type": "code",
   "execution_count": 83,
   "metadata": {},
   "outputs": [
    {
     "name": "stdout",
     "output_type": "stream",
     "text": [
      "hello -def1***\n",
      " -def2$$$\n",
      "\n",
      "hello -def1***\n",
      "\n",
      "hello -def1***\n",
      " -def2$$$\n",
      "\n"
     ]
    }
   ],
   "source": [
    "def fun6(msg) :\n",
    "    msg = msg + \" -def1***\\n\"   #msg = hello = hello+***\n",
    "    \n",
    "    def fun7(x) :\n",
    "        x = x + ' -def2$$$\\n'   \n",
    "        print(x)\n",
    "        return x\n",
    "    \n",
    "    msg1 = fun7(msg)\n",
    "    print(msg)\n",
    "    print(msg1)\n",
    "    \n",
    "    \n",
    "fun6(\"hello\")    # func6(msg)== hello == msg == func7(x)== x == hello+***\n",
    "                 #then do func7 == x is 0+$$$ = $$$. \n",
    "     \n",
    "                # print(msg) = run fuc7 again..=="
   ]
  },
  {
   "cell_type": "code",
   "execution_count": 80,
   "metadata": {
    "scrolled": true
   },
   "outputs": [
    {
     "name": "stdout",
     "output_type": "stream",
     "text": [
      "try***\n",
      "$$$\n",
      "\n",
      "try***\n",
      "\n",
      "try***\n",
      "$$$\n",
      "\n"
     ]
    },
    {
     "ename": "NameError",
     "evalue": "name 'fun7' is not defined",
     "output_type": "error",
     "traceback": [
      "\u001b[1;31m---------------------------------------------------------------------------\u001b[0m",
      "\u001b[1;31mNameError\u001b[0m                                 Traceback (most recent call last)",
      "\u001b[1;32m<ipython-input-80-9dbf782771d8>\u001b[0m in \u001b[0;36m<module>\u001b[1;34m\u001b[0m\n\u001b[0;32m      1\u001b[0m \u001b[1;31m# what is going on?\u001b[0m\u001b[1;33m\u001b[0m\u001b[1;33m\u001b[0m\u001b[1;33m\u001b[0m\u001b[0m\n\u001b[0;32m      2\u001b[0m \u001b[0mfun6\u001b[0m\u001b[1;33m(\u001b[0m\u001b[1;34m'try'\u001b[0m\u001b[1;33m)\u001b[0m\u001b[1;33m\u001b[0m\u001b[1;33m\u001b[0m\u001b[0m\n\u001b[1;32m----> 3\u001b[1;33m \u001b[0mfun7\u001b[0m\u001b[1;33m(\u001b[0m\u001b[1;34m'now'\u001b[0m\u001b[1;33m)\u001b[0m   \u001b[1;31m#fun7 is definded ****only inside the fun6, outside the fun6, ****fun7 doesn't exit!\u001b[0m\u001b[1;33m\u001b[0m\u001b[1;33m\u001b[0m\u001b[0m\n\u001b[0m",
      "\u001b[1;31mNameError\u001b[0m: name 'fun7' is not defined"
     ]
    }
   ],
   "source": [
    "# what is going on?\n",
    "fun6('try')\n",
    "fun7('now')   #fun7 is definded ****only inside the fun6, outside the fun6, ****fun7 doesn't exit!"
   ]
  },
  {
   "cell_type": "code",
   "execution_count": 85,
   "metadata": {
    "scrolled": true
   },
   "outputs": [
    {
     "name": "stdout",
     "output_type": "stream",
     "text": [
      "try -def1***\n",
      " -def2$$$\n",
      "\n",
      "try -def1***\n",
      "\n",
      "try -def1***\n",
      " -def2$$$\n",
      "\n"
     ]
    },
    {
     "ename": "NameError",
     "evalue": "name 'fun7' is not defined",
     "output_type": "error",
     "traceback": [
      "\u001b[1;31m---------------------------------------------------------------------------\u001b[0m",
      "\u001b[1;31mNameError\u001b[0m                                 Traceback (most recent call last)",
      "\u001b[1;32m<ipython-input-85-86c865a8cedc>\u001b[0m in \u001b[0;36m<module>\u001b[1;34m\u001b[0m\n\u001b[0;32m      1\u001b[0m \u001b[1;31m# what is going on?\u001b[0m\u001b[1;33m\u001b[0m\u001b[1;33m\u001b[0m\u001b[1;33m\u001b[0m\u001b[0m\n\u001b[0;32m      2\u001b[0m \u001b[0mfun6\u001b[0m\u001b[1;33m(\u001b[0m\u001b[1;34m'try'\u001b[0m\u001b[1;33m)\u001b[0m\u001b[1;33m\u001b[0m\u001b[1;33m\u001b[0m\u001b[0m\n\u001b[1;32m----> 3\u001b[1;33m \u001b[0mfun6\u001b[0m\u001b[1;33m(\u001b[0m\u001b[0mfun7\u001b[0m\u001b[1;33m(\u001b[0m\u001b[1;34m'now'\u001b[0m\u001b[1;33m)\u001b[0m\u001b[1;33m)\u001b[0m   \u001b[1;31m#fun7 is definded ****only inside the fun6, outside the fun6, ****fun7 doesn't exit!\u001b[0m\u001b[1;33m\u001b[0m\u001b[1;33m\u001b[0m\u001b[0m\n\u001b[0m",
      "\u001b[1;31mNameError\u001b[0m: name 'fun7' is not defined"
     ]
    }
   ],
   "source": [
    "# what is going on?\n",
    "fun6('try')\n",
    "fun6(fun7('now'))   #fun7 is definded ****only inside the fun6, outside the fun6, ****fun7 doesn't exit!"
   ]
  },
  {
   "cell_type": "code",
   "execution_count": 86,
   "metadata": {},
   "outputs": [
    {
     "data": {
      "text/plain": [
       "9"
      ]
     },
     "execution_count": 86,
     "metadata": {},
     "output_type": "execute_result"
    }
   ],
   "source": [
    "def add (x) :\n",
    "    return x + 2\n",
    "\n",
    "add(add(add(3)))   # what is going on?  go from inside parameter, and going out. so, add(3)= 3+2 = 5  >> 5+2=7 >> 7+2 =9"
   ]
  },
  {
   "cell_type": "code",
   "execution_count": 87,
   "metadata": {},
   "outputs": [],
   "source": [
    "#set global variable and defind function\n",
    "x = 1\n",
    "def test_x():\n",
    "    x += 10    # x = x+10\n",
    "    print(x)            "
   ]
  },
  {
   "cell_type": "code",
   "execution_count": 88,
   "metadata": {},
   "outputs": [
    {
     "ename": "UnboundLocalError",
     "evalue": "local variable 'x' referenced before assignment",
     "output_type": "error",
     "traceback": [
      "\u001b[1;31m---------------------------------------------------------------------------\u001b[0m",
      "\u001b[1;31mUnboundLocalError\u001b[0m                         Traceback (most recent call last)",
      "\u001b[1;32m<ipython-input-88-7f15bcb1f0fa>\u001b[0m in \u001b[0;36m<module>\u001b[1;34m\u001b[0m\n\u001b[0;32m      1\u001b[0m \u001b[1;31m#error\u001b[0m\u001b[1;33m\u001b[0m\u001b[1;33m\u001b[0m\u001b[1;33m\u001b[0m\u001b[0m\n\u001b[1;32m----> 2\u001b[1;33m \u001b[0mprint\u001b[0m\u001b[1;33m(\u001b[0m\u001b[0mtest_x\u001b[0m\u001b[1;33m(\u001b[0m\u001b[1;33m)\u001b[0m\u001b[1;33m)\u001b[0m             \u001b[1;31m#can't find x referenced\u001b[0m\u001b[1;33m\u001b[0m\u001b[1;33m\u001b[0m\u001b[0m\n\u001b[0m",
      "\u001b[1;32m<ipython-input-87-3b1a992bc1d3>\u001b[0m in \u001b[0;36mtest_x\u001b[1;34m()\u001b[0m\n\u001b[0;32m      2\u001b[0m \u001b[0mx\u001b[0m \u001b[1;33m=\u001b[0m \u001b[1;36m1\u001b[0m\u001b[1;33m\u001b[0m\u001b[1;33m\u001b[0m\u001b[0m\n\u001b[0;32m      3\u001b[0m \u001b[1;32mdef\u001b[0m \u001b[0mtest_x\u001b[0m\u001b[1;33m(\u001b[0m\u001b[1;33m)\u001b[0m\u001b[1;33m:\u001b[0m\u001b[1;33m\u001b[0m\u001b[1;33m\u001b[0m\u001b[0m\n\u001b[1;32m----> 4\u001b[1;33m     \u001b[0mx\u001b[0m \u001b[1;33m+=\u001b[0m \u001b[1;36m10\u001b[0m    \u001b[1;31m# x = x+10\u001b[0m\u001b[1;33m\u001b[0m\u001b[1;33m\u001b[0m\u001b[0m\n\u001b[0m\u001b[0;32m      5\u001b[0m     \u001b[0mprint\u001b[0m\u001b[1;33m(\u001b[0m\u001b[0mx\u001b[0m\u001b[1;33m)\u001b[0m\u001b[1;33m\u001b[0m\u001b[1;33m\u001b[0m\u001b[0m\n",
      "\u001b[1;31mUnboundLocalError\u001b[0m: local variable 'x' referenced before assignment"
     ]
    }
   ],
   "source": [
    "#error\n",
    "print(test_x())             #can't find x referenced"
   ]
  },
  {
   "cell_type": "code",
   "execution_count": 89,
   "metadata": {
    "scrolled": true
   },
   "outputs": [
    {
     "ename": "TypeError",
     "evalue": "test_x() takes 0 positional arguments but 1 was given",
     "output_type": "error",
     "traceback": [
      "\u001b[1;31m---------------------------------------------------------------------------\u001b[0m",
      "\u001b[1;31mTypeError\u001b[0m                                 Traceback (most recent call last)",
      "\u001b[1;32m<ipython-input-89-9218f07a15be>\u001b[0m in \u001b[0;36m<module>\u001b[1;34m\u001b[0m\n\u001b[0;32m      1\u001b[0m \u001b[1;31m#error\u001b[0m\u001b[1;33m\u001b[0m\u001b[1;33m\u001b[0m\u001b[1;33m\u001b[0m\u001b[0m\n\u001b[1;32m----> 2\u001b[1;33m \u001b[0mprint\u001b[0m\u001b[1;33m(\u001b[0m\u001b[0mtest_x\u001b[0m\u001b[1;33m(\u001b[0m\u001b[0mx\u001b[0m\u001b[1;33m)\u001b[0m\u001b[1;33m)\u001b[0m             \u001b[1;31m#can't find x referenced\u001b[0m\u001b[1;33m\u001b[0m\u001b[1;33m\u001b[0m\u001b[0m\n\u001b[0m",
      "\u001b[1;31mTypeError\u001b[0m: test_x() takes 0 positional arguments but 1 was given"
     ]
    }
   ],
   "source": [
    "#error\n",
    "print(test_x(x))             #can't find x referenced"
   ]
  },
  {
   "cell_type": "code",
   "execution_count": 90,
   "metadata": {},
   "outputs": [],
   "source": [
    "y = 1\n",
    "def test_y(y):\n",
    "    y += 10\n",
    "    print(y)          #passing argument from outside to function"
   ]
  },
  {
   "cell_type": "code",
   "execution_count": 91,
   "metadata": {},
   "outputs": [
    {
     "data": {
      "text/plain": [
       "1"
      ]
     },
     "execution_count": 91,
     "metadata": {},
     "output_type": "execute_result"
    }
   ],
   "source": [
    "y"
   ]
  },
  {
   "cell_type": "code",
   "execution_count": 92,
   "metadata": {},
   "outputs": [
    {
     "name": "stdout",
     "output_type": "stream",
     "text": [
      "11\n",
      "None\n"
     ]
    }
   ],
   "source": [
    "print(test_y(y))   # y = 1+10  #local print(y)"
   ]
  },
  {
   "cell_type": "code",
   "execution_count": 93,
   "metadata": {},
   "outputs": [
    {
     "name": "stdout",
     "output_type": "stream",
     "text": [
      "13\n",
      "None\n"
     ]
    }
   ],
   "source": [
    "a = 3\n",
    "print(test_y(a))   # a = 3+10   #local print(a)     #Python understand that to use 'a' instead of 'y'"
   ]
  },
  {
   "cell_type": "code",
   "execution_count": 94,
   "metadata": {},
   "outputs": [
    {
     "data": {
      "text/plain": [
       "1"
      ]
     },
     "execution_count": 94,
     "metadata": {},
     "output_type": "execute_result"
    }
   ],
   "source": [
    "y   #global"
   ]
  },
  {
   "cell_type": "code",
   "execution_count": 95,
   "metadata": {},
   "outputs": [
    {
     "data": {
      "text/plain": [
       "3"
      ]
     },
     "execution_count": 95,
     "metadata": {},
     "output_type": "execute_result"
    }
   ],
   "source": [
    "a   #global"
   ]
  },
  {
   "cell_type": "code",
   "execution_count": 96,
   "metadata": {},
   "outputs": [],
   "source": [
    "#test_x doesn't work, so now we add: global z (to allows local function to access the global z value)\n",
    "\n",
    "z = 1\n",
    "def test_z():\n",
    "    global z\n",
    "    z += 10\n",
    "    print(z) "
   ]
  },
  {
   "cell_type": "code",
   "execution_count": 97,
   "metadata": {},
   "outputs": [
    {
     "name": "stdout",
     "output_type": "stream",
     "text": [
      "11\n",
      "None\n"
     ]
    }
   ],
   "source": [
    "print(test_z())"
   ]
  },
  {
   "cell_type": "code",
   "execution_count": 98,
   "metadata": {},
   "outputs": [
    {
     "data": {
      "text/plain": [
       "11"
      ]
     },
     "execution_count": 98,
     "metadata": {},
     "output_type": "execute_result"
    }
   ],
   "source": [
    "z"
   ]
  },
  {
   "cell_type": "markdown",
   "metadata": {},
   "source": [
    "### Simultaneous Assignment"
   ]
  },
  {
   "cell_type": "code",
   "execution_count": 99,
   "metadata": {},
   "outputs": [
    {
     "name": "stdout",
     "output_type": "stream",
     "text": [
      "x=1 y=3\n"
     ]
    }
   ],
   "source": [
    "x = 1            #assigned variable\n",
    "y = 3\n",
    "\n",
    "print(f\"x={x} y={y}\")"
   ]
  },
  {
   "cell_type": "code",
   "execution_count": 100,
   "metadata": {},
   "outputs": [
    {
     "name": "stdout",
     "output_type": "stream",
     "text": [
      "x=1 y=3\n"
     ]
    }
   ],
   "source": [
    "x, y = 1, 3      # or assigned it this way(x, y = 1, 3)happending simultaneously, (not in sequence)\n",
    "\n",
    "print(f\"x={x} y={y}\")"
   ]
  },
  {
   "cell_type": "code",
   "execution_count": 101,
   "metadata": {},
   "outputs": [
    {
     "name": "stdout",
     "output_type": "stream",
     "text": [
      "Before: a=11 b=54.2 c=apple pie\n",
      "After: a=54.2 b=apple pie c=54.2\n"
     ]
    }
   ],
   "source": [
    "#switching the value a hardway, ****in sequence\n",
    "\n",
    "a = 11\n",
    "b = 54.2\n",
    "c = \"apple pie\"\n",
    "print(f\"Before: a={a} b={b} c={c}\")\n",
    "\n",
    "temp = a      #temp hold a value of a     temp = 11\n",
    "a = b                                     #a = 54.2\n",
    "b = c                                     #b = apple pie\n",
    "c = a         # c now hold a value of a   #c = 54.2\n",
    "print(f\"After: a={a} b={b} c={c}\")"
   ]
  },
  {
   "cell_type": "code",
   "execution_count": 102,
   "metadata": {},
   "outputs": [
    {
     "name": "stdout",
     "output_type": "stream",
     "text": [
      "11 54.2\n"
     ]
    }
   ],
   "source": [
    "#check\n",
    "print(temp, c)"
   ]
  },
  {
   "cell_type": "code",
   "execution_count": 103,
   "metadata": {},
   "outputs": [
    {
     "name": "stdout",
     "output_type": "stream",
     "text": [
      "Before: a=11 b=54.2 c=apple pie\n",
      "After: a=54.2 b=apple pie c=11\n"
     ]
    }
   ],
   "source": [
    "#switch value, *****happening all at onece \"Simultaneous Assignment\"\n",
    "#a = 11\n",
    "#b = 54.2\n",
    "#c = \"apple pie\"\n",
    "\n",
    "a, b, c = 11, 54.2, \"apple pie\"\n",
    "print(f\"Before: a={a} b={b} c={c}\")\n",
    "\n",
    "a, b, c = b, c, a                    #a == @b = 54.2\n",
    "                                     #b == @c = apple pie\n",
    "                                     #c == @a = 11\n",
    "print(f\"After: a={a} b={b} c={c}\")"
   ]
  },
  {
   "cell_type": "code",
   "execution_count": 104,
   "metadata": {},
   "outputs": [
    {
     "name": "stdout",
     "output_type": "stream",
     "text": [
      "54.2 apple pie 11\n"
     ]
    }
   ],
   "source": [
    "print(a,b,c)"
   ]
  },
  {
   "cell_type": "code",
   "execution_count": 105,
   "metadata": {},
   "outputs": [
    {
     "name": "stdout",
     "output_type": "stream",
     "text": [
      "x = 1 y=3\n"
     ]
    }
   ],
   "source": [
    "#Python can take multiple return\n",
    "\n",
    "def func() :\n",
    "    return 1, 3           #1 is value x, and 3 is value of y\n",
    "\n",
    "x, y = func()                   # return x,y = 1,3\n",
    "print(f\"x = {x} y={y}\")"
   ]
  },
  {
   "cell_type": "code",
   "execution_count": 106,
   "metadata": {},
   "outputs": [],
   "source": [
    "#you can create function to switch the value\n",
    "\n",
    "def switch(val1, val2) :\n",
    "    print (val2, val1)       # with no 'reutrn' #switch place value using variable map\n"
   ]
  },
  {
   "cell_type": "code",
   "execution_count": 107,
   "metadata": {},
   "outputs": [
    {
     "name": "stdout",
     "output_type": "stream",
     "text": [
      "2 1\n"
     ]
    }
   ],
   "source": [
    "#the function is working!\n",
    "#function switch get \"passed value\" of c,d global\n",
    "c = 1\n",
    "d = 2\n",
    "switch(c, d)    #1, 2"
   ]
  },
  {
   "cell_type": "code",
   "execution_count": 108,
   "metadata": {},
   "outputs": [
    {
     "name": "stdout",
     "output_type": "stream",
     "text": [
      "1 2\n"
     ]
    }
   ],
   "source": [
    "#check the global value of c, d\n",
    "print(c,d)"
   ]
  },
  {
   "cell_type": "code",
   "execution_count": 109,
   "metadata": {},
   "outputs": [],
   "source": [
    "def test_cd(c,d):\n",
    "    c += d\n",
    "    print(c)"
   ]
  },
  {
   "cell_type": "code",
   "execution_count": 110,
   "metadata": {},
   "outputs": [
    {
     "name": "stdout",
     "output_type": "stream",
     "text": [
      "3\n",
      "None\n"
     ]
    }
   ],
   "source": [
    "#c in function now is 3\n",
    "print(test_cd(c,d))"
   ]
  },
  {
   "cell_type": "code",
   "execution_count": 111,
   "metadata": {},
   "outputs": [
    {
     "data": {
      "text/plain": [
       "1"
      ]
     },
     "execution_count": 111,
     "metadata": {},
     "output_type": "execute_result"
    }
   ],
   "source": [
    "#global 3 still 1\n",
    "c"
   ]
  },
  {
   "cell_type": "code",
   "execution_count": 112,
   "metadata": {},
   "outputs": [],
   "source": [
    "e = 7\n",
    "def test_e():\n",
    "     ee = 10 + 10\n",
    "     e = ee + 8 + e        #can't reassigned the value, python will only look for 'local variable', not outside\n",
    "     print(ee, e)"
   ]
  },
  {
   "cell_type": "code",
   "execution_count": 113,
   "metadata": {},
   "outputs": [
    {
     "ename": "UnboundLocalError",
     "evalue": "local variable 'e' referenced before assignment",
     "output_type": "error",
     "traceback": [
      "\u001b[1;31m---------------------------------------------------------------------------\u001b[0m",
      "\u001b[1;31mUnboundLocalError\u001b[0m                         Traceback (most recent call last)",
      "\u001b[1;32m<ipython-input-113-382772b36acb>\u001b[0m in \u001b[0;36m<module>\u001b[1;34m\u001b[0m\n\u001b[1;32m----> 1\u001b[1;33m \u001b[0mprint\u001b[0m\u001b[1;33m(\u001b[0m\u001b[0mtest_e\u001b[0m\u001b[1;33m(\u001b[0m\u001b[1;33m)\u001b[0m\u001b[1;33m)\u001b[0m\u001b[1;33m\u001b[0m\u001b[1;33m\u001b[0m\u001b[0m\n\u001b[0m",
      "\u001b[1;32m<ipython-input-112-80ed03e8fcfe>\u001b[0m in \u001b[0;36mtest_e\u001b[1;34m()\u001b[0m\n\u001b[0;32m      2\u001b[0m \u001b[1;32mdef\u001b[0m \u001b[0mtest_e\u001b[0m\u001b[1;33m(\u001b[0m\u001b[1;33m)\u001b[0m\u001b[1;33m:\u001b[0m\u001b[1;33m\u001b[0m\u001b[1;33m\u001b[0m\u001b[0m\n\u001b[0;32m      3\u001b[0m      \u001b[0mee\u001b[0m \u001b[1;33m=\u001b[0m \u001b[1;36m10\u001b[0m \u001b[1;33m+\u001b[0m \u001b[1;36m10\u001b[0m\u001b[1;33m\u001b[0m\u001b[1;33m\u001b[0m\u001b[0m\n\u001b[1;32m----> 4\u001b[1;33m      \u001b[0me\u001b[0m \u001b[1;33m=\u001b[0m \u001b[0mee\u001b[0m \u001b[1;33m+\u001b[0m \u001b[1;36m8\u001b[0m \u001b[1;33m+\u001b[0m \u001b[0me\u001b[0m        \u001b[1;31m#can't reassigned the value, python will only look for 'local variable', not outside\u001b[0m\u001b[1;33m\u001b[0m\u001b[1;33m\u001b[0m\u001b[0m\n\u001b[0m\u001b[0;32m      5\u001b[0m      \u001b[0mprint\u001b[0m\u001b[1;33m(\u001b[0m\u001b[0mee\u001b[0m\u001b[1;33m,\u001b[0m \u001b[0me\u001b[0m\u001b[1;33m)\u001b[0m\u001b[1;33m\u001b[0m\u001b[1;33m\u001b[0m\u001b[0m\n",
      "\u001b[1;31mUnboundLocalError\u001b[0m: local variable 'e' referenced before assignment"
     ]
    }
   ],
   "source": [
    "print(test_e())"
   ]
  },
  {
   "cell_type": "code",
   "execution_count": 114,
   "metadata": {},
   "outputs": [],
   "source": [
    "e = 7\n",
    "def test_e():\n",
    "     ee = 10 + 10\n",
    "     e = ee + 8 + e        #can't reassigned the value, python will only look for 'local variable', not outside\n",
    "     print(ee, e)"
   ]
  },
  {
   "cell_type": "code",
   "execution_count": 115,
   "metadata": {},
   "outputs": [],
   "source": [
    "e = 7\n",
    "def test_e():\n",
    "     ee = 10 + 10\n",
    "     e = ee + 8 \n",
    "     print(ee, e)   #because python find loca 'e', so e == 28,not 7 global e"
   ]
  },
  {
   "cell_type": "code",
   "execution_count": 116,
   "metadata": {},
   "outputs": [
    {
     "name": "stdout",
     "output_type": "stream",
     "text": [
      "20 28\n",
      "None\n"
     ]
    }
   ],
   "source": [
    "print(test_e())"
   ]
  },
  {
   "cell_type": "code",
   "execution_count": 117,
   "metadata": {},
   "outputs": [
    {
     "data": {
      "text/plain": [
       "7"
      ]
     },
     "execution_count": 117,
     "metadata": {},
     "output_type": "execute_result"
    }
   ],
   "source": [
    "e"
   ]
  },
  {
   "cell_type": "code",
   "execution_count": 119,
   "metadata": {},
   "outputs": [],
   "source": [
    "e = 7\n",
    "def test_e():\n",
    "     ee = 10 + 10\n",
    "     ee = e + ee      #you can refered to 'global value' to pass a value, but 'not reassign the value'\n",
    "     print(ee, e)     # e is value of global"
   ]
  },
  {
   "cell_type": "code",
   "execution_count": 120,
   "metadata": {},
   "outputs": [
    {
     "name": "stdout",
     "output_type": "stream",
     "text": [
      "27 7\n",
      "None\n"
     ]
    }
   ],
   "source": [
    "print(test_e())"
   ]
  },
  {
   "cell_type": "code",
   "execution_count": 121,
   "metadata": {},
   "outputs": [
    {
     "name": "stdout",
     "output_type": "stream",
     "text": [
      "apple pie 54.2\n"
     ]
    },
    {
     "ename": "TypeError",
     "evalue": "cannot unpack non-iterable NoneType object",
     "output_type": "error",
     "traceback": [
      "\u001b[1;31m---------------------------------------------------------------------------\u001b[0m",
      "\u001b[1;31mTypeError\u001b[0m                                 Traceback (most recent call last)",
      "\u001b[1;32m<ipython-input-121-113f54073d8d>\u001b[0m in \u001b[0;36m<module>\u001b[1;34m\u001b[0m\n\u001b[0;32m      3\u001b[0m \u001b[1;31m#it still switch a, b, but it can't reassign value back to a, b <<<=\u001b[0m\u001b[1;33m\u001b[0m\u001b[1;33m\u001b[0m\u001b[1;33m\u001b[0m\u001b[0m\n\u001b[0;32m      4\u001b[0m \u001b[1;33m\u001b[0m\u001b[0m\n\u001b[1;32m----> 5\u001b[1;33m \u001b[0ma\u001b[0m\u001b[1;33m,\u001b[0m \u001b[0mb\u001b[0m \u001b[1;33m=\u001b[0m \u001b[0mswitch\u001b[0m\u001b[1;33m(\u001b[0m\u001b[0ma\u001b[0m\u001b[1;33m,\u001b[0m \u001b[0mb\u001b[0m\u001b[1;33m)\u001b[0m\u001b[1;33m\u001b[0m\u001b[1;33m\u001b[0m\u001b[0m\n\u001b[0m",
      "\u001b[1;31mTypeError\u001b[0m: cannot unpack non-iterable NoneType object"
     ]
    }
   ],
   "source": [
    "#***error \n",
    "#try to use a function to switch variable a,b \n",
    "#it still switch a, b, but it can't reassign value back to a, b <<<=\n",
    "\n",
    "a, b = switch(a, b)           \n"
   ]
  },
  {
   "cell_type": "code",
   "execution_count": 122,
   "metadata": {},
   "outputs": [
    {
     "name": "stdout",
     "output_type": "stream",
     "text": [
      "a = 10 b=99.9\n"
     ]
    }
   ],
   "source": [
    "#to fix this let's start over\n",
    "# assign a = 10,  b = 99.9\n",
    "a, b = 10, 99.9               \n",
    "print(f\"a = {a} b={b}\")"
   ]
  },
  {
   "cell_type": "code",
   "execution_count": 123,
   "metadata": {},
   "outputs": [],
   "source": [
    "#change the code \"print\" to \"return\"\n",
    "def switch_return(val1, val2) :\n",
    "    return (val2, val1) "
   ]
  },
  {
   "cell_type": "code",
   "execution_count": 124,
   "metadata": {},
   "outputs": [
    {
     "name": "stdout",
     "output_type": "stream",
     "text": [
      "a = 99.9 b=10\n"
     ]
    }
   ],
   "source": [
    "a, b = switch_return(a, b)           #the return value after the function, got reassigned back to a, b (global) by 'return'\n",
    "                                     # a = val1 = 10, b = val 2 = 99.9\n",
    "print(f\"a = {a} b={b}\")             "
   ]
  },
  {
   "cell_type": "code",
   "execution_count": 125,
   "metadata": {},
   "outputs": [
    {
     "name": "stdout",
     "output_type": "stream",
     "text": [
      "99.9 10\n"
     ]
    }
   ],
   "source": [
    "#global a,b variable, now got reassign from this code \"a,b = switch_return(a,b)\"\n",
    "print(a,b)"
   ]
  },
  {
   "cell_type": "code",
   "execution_count": null,
   "metadata": {},
   "outputs": [],
   "source": []
  }
 ],
 "metadata": {
  "kernelspec": {
   "display_name": "Python 3",
   "language": "python",
   "name": "python3"
  },
  "language_info": {
   "codemirror_mode": {
    "name": "ipython",
    "version": 3
   },
   "file_extension": ".py",
   "mimetype": "text/x-python",
   "name": "python",
   "nbconvert_exporter": "python",
   "pygments_lexer": "ipython3",
   "version": "3.7.3"
  }
 },
 "nbformat": 4,
 "nbformat_minor": 4
}
