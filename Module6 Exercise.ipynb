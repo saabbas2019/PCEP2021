{
 "cells": [
  {
   "cell_type": "markdown",
   "metadata": {},
   "source": [
    "### Exercise 1\n",
    "Convert following decimal number to a binary number by hand:\n",
    "\n",
    "    61\n",
    "    15\n",
    "    71\n",
    "    "
   ]
  },
  {
   "cell_type": "markdown",
   "metadata": {},
   "source": [
    "61 % 2 = 1\n",
    "30 % 2 = 0\n",
    "15 % 2 = 1\n",
    "7 % 2 = 1\n",
    "3 % 2 = 1\n",
    "1 % 2 = 1\n",
    "\n",
    "binary(61) = 0b111101\n",
    "binary(15) = 0b1111\n",
    "\n",
    "71 % 2 = 1\n",
    "35 % 2 = 1\n",
    "17 % 2 = 1\n",
    "8 % 2 = 0\n",
    "4 % 2 = 0\n",
    "2 % 2 = 0\n",
    "1 % 2 = 1\n",
    "\n",
    "binary(71) = 0b1000111"
   ]
  },
  {
   "cell_type": "markdown",
   "metadata": {},
   "source": [
    "### Exercise 2\n",
    "When a = 61 and b = 15, what is the result of following bitwise opertion? Use inline comments to show your result in a binary number. Find your answer by hand.\n",
    "\n",
    "    a & b\n",
    "    a | b\n",
    "    a ^ b\n",
    "    a >> 2\n",
    "    "
   ]
  },
  {
   "cell_type": "code",
   "execution_count": null,
   "metadata": {},
   "outputs": [],
   "source": [
    "# convert a in to a binary number\n",
    "# binarya = 0b111101\n",
    "\n",
    "# convert b in to a binary number\n",
    "# binaryb = 0b1111\n"
   ]
  },
  {
   "cell_type": "code",
   "execution_count": null,
   "metadata": {},
   "outputs": [],
   "source": [
    "# a & b\n",
    "#0b111101 & 0b001111 = 0b001101\n"
   ]
  },
  {
   "cell_type": "code",
   "execution_count": null,
   "metadata": {},
   "outputs": [],
   "source": [
    "# a | b\n",
    "#0b111101 | 0b001111 = 0b111111\n"
   ]
  },
  {
   "cell_type": "code",
   "execution_count": null,
   "metadata": {},
   "outputs": [],
   "source": [
    "# a ^ b\n",
    "#0b111101 ^ 0b001111 = 0b110010"
   ]
  },
  {
   "cell_type": "code",
   "execution_count": null,
   "metadata": {},
   "outputs": [],
   "source": [
    "# a >> 2\n",
    "#0b00111101 >> 2 = 0b00001111\n"
   ]
  },
  {
   "cell_type": "markdown",
   "metadata": {},
   "source": [
    "### Exercise 3\n",
    "Ask a user for a code and store that answer. \n",
    "If the answer is <b>grey</b> then print \"You found secret code.\"\n",
    "Otherwise print that the entered code is not the secret code."
   ]
  },
  {
   "cell_type": "code",
   "execution_count": 33,
   "metadata": {},
   "outputs": [
    {
     "name": "stdout",
     "output_type": "stream",
     "text": [
      "Enter the seret code: Grey\n",
      "Grey is not secret code.\n"
     ]
    }
   ],
   "source": [
    "def entered_code (arg):\n",
    "    if arg == \"grey\":\n",
    "        print(\"You found secret code.\" )\n",
    "    else:\n",
    "        print(f\"{arg} is not secret code.\" )\n",
    "               \n",
    "code = input(\"Enter the seret code: \")\n",
    "entered_code (code)"
   ]
  },
  {
   "cell_type": "markdown",
   "metadata": {},
   "source": [
    "### Exercise 4\n",
    "Ask for an exam score and store that number. If the number is greater than 100, then print out 'You cannot have an exam score higher than 100'. If the number doesn't exceeed 100 but is greater than or equal to 75, then print out 'You did great on your exam!'. Otherwise if they scored lower than 75, then print out 'You need to study harder'."
   ]
  },
  {
   "cell_type": "markdown",
   "metadata": {},
   "source": [
    "def score_result(score) :\n",
    "    if score > 100\n",
    "        'You cannot have an exam score higher than 100'\n",
    "    if score >= 75 and <=100\n",
    "        'You did great on your exam!'\n",
    "    else\n",
    "        'You need to study harder'.\n",
    "\n",
    "exam_score = float(input(\"Enter the seret code:\")\n",
    "score_result(exam_score)\n",
    "                   "
   ]
  },
  {
   "cell_type": "code",
   "execution_count": 31,
   "metadata": {},
   "outputs": [],
   "source": [
    "def score_result(score):\n",
    "    if score > 100:\n",
    "        print('You cannot have an exam score higher than 100')\n",
    "    elif score >= 75 and score <=100 :\n",
    "        print('You did great on your exam!')\n",
    "    else:\n",
    "        print('You need to study harder.')"
   ]
  },
  {
   "cell_type": "code",
   "execution_count": 32,
   "metadata": {},
   "outputs": [
    {
     "name": "stdout",
     "output_type": "stream",
     "text": [
      "Enter the exam: 56\n",
      "You need to study harder.\n"
     ]
    }
   ],
   "source": [
    "#Request exam score\n",
    "exam_score = float(input(\"Enter the exam: \"))\n",
    "              \n",
    "#print(score_result(exam_score))\n",
    "score_result(exam_score)"
   ]
  },
  {
   "cell_type": "markdown",
   "metadata": {},
   "source": [
    "### Exercise 5\n",
    "Write a function to convert a test score to a grade where  \n",
    " - 90 - 100: A\n",
    " - 80 - 89:  B\n",
    " - 70 - 79:  C\n",
    " - 60 - 69:  D\n",
    " - < 60   :  F\n",
    " \n",
    "If a score is not between 0 and 100 then print out an error message. In the program, ask the user for a score and then call your function. "
   ]
  },
  {
   "cell_type": "markdown",
   "metadata": {},
   "source": [
    "# define your function\n",
    "def score_to_grade(score):\n",
    "    if score >= 90 and <= 100\n",
    "        \"Your grade is an A\"\n",
    "    if score >= 80 and < 90\n",
    "        \"Your grade is a B\"\n",
    "    if score >= 70 and < 80\n",
    "        \"Your grade is a C\"n\n",
    "    if score >= 60 and < 70\n",
    "        \"Your grade is a D\"\n",
    "    if score < 60\n",
    "        \"Your grade is a F\"\n",
    "        \n",
    "        "
   ]
  },
  {
   "cell_type": "code",
   "execution_count": 26,
   "metadata": {},
   "outputs": [],
   "source": [
    "def score_to_grade(score):\n",
    "    if score >= 90 and score <= 100:\n",
    "        print(\"Your grade is an A\")\n",
    "    elif score >= 80 and score < 90:\n",
    "        print(\"Your grade is a B\")\n",
    "    elif score >= 70 and score < 80:\n",
    "         print(\"Your grade is a C\")\n",
    "    elif score >= 60 and score < 70:\n",
    "         print(\"Your grade is a D\")\n",
    "    else: \n",
    "         print(\"Your grade is a F\")\n"
   ]
  },
  {
   "cell_type": "code",
   "execution_count": 30,
   "metadata": {},
   "outputs": [
    {
     "name": "stdout",
     "output_type": "stream",
     "text": [
      "Enter your test score: 80.5\n",
      "Your grade is a B\n"
     ]
    }
   ],
   "source": [
    "# ask the user for a score and then call your function\n",
    "test_score = float(input(\"Enter your test score: \"))\n",
    "\n",
    "score_to_grade(test_score)"
   ]
  },
  {
   "cell_type": "code",
   "execution_count": null,
   "metadata": {},
   "outputs": [],
   "source": []
  }
 ],
 "metadata": {
  "kernelspec": {
   "display_name": "Python 3",
   "language": "python",
   "name": "python3"
  },
  "language_info": {
   "codemirror_mode": {
    "name": "ipython",
    "version": 3
   },
   "file_extension": ".py",
   "mimetype": "text/x-python",
   "name": "python",
   "nbconvert_exporter": "python",
   "pygments_lexer": "ipython3",
   "version": "3.7.3"
  }
 },
 "nbformat": 4,
 "nbformat_minor": 4
}
