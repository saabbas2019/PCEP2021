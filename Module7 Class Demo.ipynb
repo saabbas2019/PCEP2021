{
 "cells": [
  {
   "cell_type": "markdown",
   "metadata": {},
   "source": [
    "### List\n",
    "1. Use numbers to index into a list, meaning you can use numbers to find out what’s in lists. \n",
    "2. List uses square brackets. "
   ]
  },
  {
   "cell_type": "code",
   "execution_count": 1,
   "metadata": {},
   "outputs": [],
   "source": [
    "clothes = ['shirts', 'jacket', 'pants', 'shorts']\n",
    "scores = [99, 86, 79, 91, 88]"
   ]
  },
  {
   "cell_type": "code",
   "execution_count": 2,
   "metadata": {},
   "outputs": [
    {
     "name": "stdout",
     "output_type": "stream",
     "text": [
      "['shirts', 'jacket', 'pants', 'shorts']\n"
     ]
    }
   ],
   "source": [
    "print(clothes)"
   ]
  },
  {
   "cell_type": "code",
   "execution_count": 3,
   "metadata": {},
   "outputs": [
    {
     "name": "stdout",
     "output_type": "stream",
     "text": [
      "['George Washington', 1789, 1797]\n"
     ]
    }
   ],
   "source": [
    "president1 = [\"George Washington\", 1789, 1797]\n",
    "print(president1)"
   ]
  },
  {
   "cell_type": "code",
   "execution_count": 4,
   "metadata": {},
   "outputs": [
    {
     "ename": "TypeError",
     "evalue": "'<' not supported between instances of 'int' and 'str'",
     "output_type": "error",
     "traceback": [
      "\u001b[1;31m---------------------------------------------------------------------------\u001b[0m",
      "\u001b[1;31mTypeError\u001b[0m                                 Traceback (most recent call last)",
      "\u001b[1;32m<ipython-input-4-803914bf8f69>\u001b[0m in \u001b[0;36m<module>\u001b[1;34m\u001b[0m\n\u001b[1;32m----> 1\u001b[1;33m \u001b[0mpresident1\u001b[0m\u001b[1;33m.\u001b[0m\u001b[0msort\u001b[0m\u001b[1;33m(\u001b[0m\u001b[1;33m)\u001b[0m\u001b[1;33m\u001b[0m\u001b[1;33m\u001b[0m\u001b[0m\n\u001b[0m",
      "\u001b[1;31mTypeError\u001b[0m: '<' not supported between instances of 'int' and 'str'"
     ]
    }
   ],
   "source": [
    "president1.sort()"
   ]
  },
  {
   "cell_type": "code",
   "execution_count": 5,
   "metadata": {},
   "outputs": [
    {
     "ename": "TypeError",
     "evalue": "'<' not supported between instances of 'int' and 'str'",
     "output_type": "error",
     "traceback": [
      "\u001b[1;31m---------------------------------------------------------------------------\u001b[0m",
      "\u001b[1;31mTypeError\u001b[0m                                 Traceback (most recent call last)",
      "\u001b[1;32m<ipython-input-5-0aec471a26fc>\u001b[0m in \u001b[0;36m<module>\u001b[1;34m\u001b[0m\n\u001b[1;32m----> 1\u001b[1;33m \u001b[0msorted\u001b[0m\u001b[1;33m(\u001b[0m\u001b[0mpresident1\u001b[0m\u001b[1;33m)\u001b[0m\u001b[1;33m\u001b[0m\u001b[1;33m\u001b[0m\u001b[0m\n\u001b[0m",
      "\u001b[1;31mTypeError\u001b[0m: '<' not supported between instances of 'int' and 'str'"
     ]
    }
   ],
   "source": [
    "sorted(president1)"
   ]
  },
  {
   "cell_type": "code",
   "execution_count": 6,
   "metadata": {},
   "outputs": [
    {
     "name": "stdout",
     "output_type": "stream",
     "text": [
      "[['George Washington', 1789, 1797], ['John Adams', 1797, 1801], ['Thomas Jefferson', 1801, 1809]]\n"
     ]
    }
   ],
   "source": [
    "president2 = [\"John Adams\", 1797, 1801]\n",
    "president3 = [\"Thomas Jefferson\", 1801, 1809]\n",
    "\n",
    "presidents = [president1, president2, president3]\n",
    "print(presidents)"
   ]
  },
  {
   "cell_type": "code",
   "execution_count": 7,
   "metadata": {},
   "outputs": [
    {
     "name": "stdout",
     "output_type": "stream",
     "text": [
      "['John Adams', 1797, 1801]\n"
     ]
    }
   ],
   "source": [
    "pres = presidents[1]\n",
    "print(pres)"
   ]
  },
  {
   "cell_type": "code",
   "execution_count": 8,
   "metadata": {},
   "outputs": [
    {
     "name": "stdout",
     "output_type": "stream",
     "text": [
      "['shirts', 'jacket', 'pants', 'shorts']\n",
      "shirts\n"
     ]
    }
   ],
   "source": [
    "# indexing\n",
    "\n",
    "print(clothes)\n",
    "cloth = clothes[0]\n",
    "print(cloth)"
   ]
  },
  {
   "cell_type": "code",
   "execution_count": 9,
   "metadata": {},
   "outputs": [
    {
     "data": {
      "text/plain": [
       "4"
      ]
     },
     "execution_count": 9,
     "metadata": {},
     "output_type": "execute_result"
    }
   ],
   "source": [
    "len(clothes)"
   ]
  },
  {
   "cell_type": "code",
   "execution_count": 10,
   "metadata": {},
   "outputs": [
    {
     "data": {
      "text/plain": [
       "3"
      ]
     },
     "execution_count": 10,
     "metadata": {},
     "output_type": "execute_result"
    }
   ],
   "source": [
    "len(presidents)"
   ]
  },
  {
   "cell_type": "code",
   "execution_count": 11,
   "metadata": {},
   "outputs": [
    {
     "ename": "IndexError",
     "evalue": "list index out of range",
     "output_type": "error",
     "traceback": [
      "\u001b[1;31m---------------------------------------------------------------------------\u001b[0m",
      "\u001b[1;31mIndexError\u001b[0m                                Traceback (most recent call last)",
      "\u001b[1;32m<ipython-input-11-ef66de72c7b4>\u001b[0m in \u001b[0;36m<module>\u001b[1;34m\u001b[0m\n\u001b[1;32m----> 1\u001b[1;33m \u001b[0mclothes\u001b[0m\u001b[1;33m[\u001b[0m\u001b[1;36m4\u001b[0m\u001b[1;33m]\u001b[0m\u001b[1;33m\u001b[0m\u001b[1;33m\u001b[0m\u001b[0m\n\u001b[0m",
      "\u001b[1;31mIndexError\u001b[0m: list index out of range"
     ]
    }
   ],
   "source": [
    "clothes[4]"
   ]
  },
  {
   "cell_type": "code",
   "execution_count": 12,
   "metadata": {},
   "outputs": [
    {
     "name": "stdout",
     "output_type": "stream",
     "text": [
      "['shirts', 'jacket', 'pants', 'shorts']\n",
      "['shirts', 'jacket', 'pants', 'coat']\n"
     ]
    }
   ],
   "source": [
    "print(clothes)\n",
    "clothes[3] = \"coat\"\n",
    "print(clothes)"
   ]
  },
  {
   "cell_type": "code",
   "execution_count": 13,
   "metadata": {},
   "outputs": [
    {
     "name": "stdout",
     "output_type": "stream",
     "text": [
      "['shirts', 'jacket', 'pants', 'coat']\n",
      "['shirts', 'jacket', 'pants', ['president1', 'abc']]\n",
      "['president1', 'abc']\n"
     ]
    },
    {
     "data": {
      "text/plain": [
       "4"
      ]
     },
     "execution_count": 13,
     "metadata": {},
     "output_type": "execute_result"
    }
   ],
   "source": [
    "print(clothes)\n",
    "clothes[3] = [\"president1\", \"abc\"]\n",
    "print(clothes)\n",
    "print(clothes[3])\n",
    "len(clothes)"
   ]
  },
  {
   "cell_type": "code",
   "execution_count": 14,
   "metadata": {},
   "outputs": [
    {
     "name": "stdout",
     "output_type": "stream",
     "text": [
      "['president1', 'abc']\n",
      "abc\n",
      "abc\n"
     ]
    }
   ],
   "source": [
    "print(clothes[3])\n",
    "a = clothes[3]\n",
    "print(a[1])\n",
    "print(clothes[3][1])"
   ]
  },
  {
   "cell_type": "code",
   "execution_count": 15,
   "metadata": {},
   "outputs": [
    {
     "name": "stdout",
     "output_type": "stream",
     "text": [
      "[99, 86, 79, 91, 88]\n",
      "[86, 79]\n"
     ]
    }
   ],
   "source": [
    "# slicing\n",
    "\n",
    "print(scores)\n",
    "new_scores = scores[1 : 3]\n",
    "print(new_scores)"
   ]
  },
  {
   "cell_type": "code",
   "execution_count": 16,
   "metadata": {},
   "outputs": [
    {
     "name": "stdout",
     "output_type": "stream",
     "text": [
      "[['George Washington', 1789, 1797], ['John Adams', 1797, 1801], ['Thomas Jefferson', 1801, 1809]]\n",
      "['John Adams', 1797, 1801]\n"
     ]
    }
   ],
   "source": [
    "print(presidents)\n",
    "person = presidents[1]\n",
    "print(person)"
   ]
  },
  {
   "cell_type": "code",
   "execution_count": 17,
   "metadata": {},
   "outputs": [
    {
     "name": "stdout",
     "output_type": "stream",
     "text": [
      "John Adams\n",
      "John Adams\n"
     ]
    },
    {
     "ename": "IndexError",
     "evalue": "list index out of range",
     "output_type": "error",
     "traceback": [
      "\u001b[1;31m---------------------------------------------------------------------------\u001b[0m",
      "\u001b[1;31mIndexError\u001b[0m                                Traceback (most recent call last)",
      "\u001b[1;32m<ipython-input-17-3c44257b06d7>\u001b[0m in \u001b[0;36m<module>\u001b[1;34m\u001b[0m\n\u001b[0;32m      1\u001b[0m \u001b[0mprint\u001b[0m\u001b[1;33m(\u001b[0m\u001b[0mperson\u001b[0m\u001b[1;33m[\u001b[0m\u001b[1;36m0\u001b[0m\u001b[1;33m]\u001b[0m\u001b[1;33m)\u001b[0m\u001b[1;33m\u001b[0m\u001b[1;33m\u001b[0m\u001b[0m\n\u001b[0;32m      2\u001b[0m \u001b[0mprint\u001b[0m\u001b[1;33m(\u001b[0m\u001b[0mpresidents\u001b[0m\u001b[1;33m[\u001b[0m\u001b[1;36m1\u001b[0m\u001b[1;33m]\u001b[0m\u001b[1;33m[\u001b[0m\u001b[1;36m0\u001b[0m\u001b[1;33m]\u001b[0m\u001b[1;33m)\u001b[0m\u001b[1;33m\u001b[0m\u001b[1;33m\u001b[0m\u001b[0m\n\u001b[1;32m----> 3\u001b[1;33m \u001b[0mprint\u001b[0m\u001b[1;33m(\u001b[0m\u001b[0mpresidents\u001b[0m\u001b[1;33m[\u001b[0m\u001b[1;36m1\u001b[0m\u001b[1;33m]\u001b[0m\u001b[1;33m[\u001b[0m\u001b[1;36m3\u001b[0m\u001b[1;33m]\u001b[0m\u001b[1;33m)\u001b[0m\u001b[1;33m\u001b[0m\u001b[1;33m\u001b[0m\u001b[0m\n\u001b[0m",
      "\u001b[1;31mIndexError\u001b[0m: list index out of range"
     ]
    }
   ],
   "source": [
    "print(person[0])\n",
    "print(presidents[1][0])\n",
    "print(presidents[1][3])"
   ]
  },
  {
   "cell_type": "code",
   "execution_count": 18,
   "metadata": {},
   "outputs": [
    {
     "name": "stdout",
     "output_type": "stream",
     "text": [
      "[['George Washington', 1789, 1797], ['John Adams', 1797, 1801], ['Thomas Jefferson', 1801, 1809]]\n",
      "['George Washington', 1789, 1797]\n"
     ]
    }
   ],
   "source": [
    "print(presidents)\n",
    "print(presidents[0:2][0])   # why?"
   ]
  },
  {
   "cell_type": "code",
   "execution_count": 19,
   "metadata": {},
   "outputs": [
    {
     "name": "stdout",
     "output_type": "stream",
     "text": [
      "[['George Washington', 1789, 1797], ['John Adams', 1797, 1801]]\n"
     ]
    }
   ],
   "source": [
    "print(presidents[0:2])"
   ]
  },
  {
   "cell_type": "code",
   "execution_count": 20,
   "metadata": {},
   "outputs": [
    {
     "name": "stdout",
     "output_type": "stream",
     "text": [
      "1\n",
      "100\n"
     ]
    }
   ],
   "source": [
    "# remember, indexing returns an item\n",
    "\n",
    "squares = [1, 4, 9, 16, 25, 36, 49, 64, 81, 100]\n",
    "#squares = [1, 4, 9, 16, 25, 36, 49, 64, 81]\n",
    "print(squares[0])\n",
    "print(squares[-1])"
   ]
  },
  {
   "cell_type": "code",
   "execution_count": 21,
   "metadata": {},
   "outputs": [
    {
     "name": "stdout",
     "output_type": "stream",
     "text": [
      "[1, 4, 9, 16, 25, 36, 49, 64, 81, 100]\n",
      "[64, 81, 100]\n",
      "[1, 4, 9, 16, 25, 36, 49]\n",
      "[100, 49, 16, 1]\n"
     ]
    }
   ],
   "source": [
    "# slicing returns a new list\n",
    "print(squares)\n",
    "print(squares[-3:])\n",
    "print(squares[:-3])\n",
    "print(squares[::-3])"
   ]
  },
  {
   "cell_type": "code",
   "execution_count": 22,
   "metadata": {
    "scrolled": true
   },
   "outputs": [
    {
     "name": "stdout",
     "output_type": "stream",
     "text": [
      "[1, 4, 9, 16, 25, 36, 49, 64, 81, 100]\n",
      "[64, 81, 100]\n"
     ]
    }
   ],
   "source": [
    "print(squares)\n",
    "print(squares[7:])"
   ]
  },
  {
   "cell_type": "code",
   "execution_count": 23,
   "metadata": {},
   "outputs": [
    {
     "name": "stdout",
     "output_type": "stream",
     "text": [
      "[1, 4, 9, 16, 25, 36, 49]\n"
     ]
    }
   ],
   "source": [
    "print(squares[:-3])"
   ]
  },
  {
   "cell_type": "code",
   "execution_count": 24,
   "metadata": {},
   "outputs": [
    {
     "name": "stdout",
     "output_type": "stream",
     "text": [
      "[1, 4, 9, 16, 25, 36, 49, 64, 81, 100]\n",
      "[1, 4, 9, 16, 25, 36, 49, 64, 81, 100]\n",
      "[100, 81, 64, 49, 36, 25, 16, 9, 4, 1]\n"
     ]
    }
   ],
   "source": [
    "# remember, slicing - [start(inclusive) : end (exclusive) : step (default is 1)]\n",
    "print(squares)\n",
    "print(squares[:: 1])\n",
    "print(squares[:: -1])"
   ]
  },
  {
   "cell_type": "code",
   "execution_count": 25,
   "metadata": {},
   "outputs": [
    {
     "name": "stdout",
     "output_type": "stream",
     "text": [
      "[1, 4, 9, 16, 25, 36, 49, 64, 81, 100]\n",
      "[9, 16, 25, 36, 49]\n",
      "[9, 25, 49]\n"
     ]
    }
   ],
   "source": [
    "print(squares)\n",
    "print(squares[2:7])\n",
    "print(squares[2:7:2])"
   ]
  },
  {
   "cell_type": "code",
   "execution_count": 26,
   "metadata": {},
   "outputs": [
    {
     "name": "stdout",
     "output_type": "stream",
     "text": [
      "[1, 4, 9, 16, 25, 36, 49, 64, 81, 100]\n",
      "[100, 81, 64, 49, 36, 25, 16, 9, 4, 1]\n",
      "[100, 81, 64, 49, 36, 25, 16]\n"
     ]
    }
   ],
   "source": [
    "print(squares)             # original list\n",
    "print(squares[::-1])       # reversed order\n",
    "print(squares[:2:-1])      # squares[2] == 9, not inclusive\n",
    "                           # squares[8], [7], ... [4], [3] "
   ]
  },
  {
   "cell_type": "code",
   "execution_count": 27,
   "metadata": {},
   "outputs": [
    {
     "name": "stdout",
     "output_type": "stream",
     "text": [
      "[1, 4, 9, 16, 25, 36, 49, 64, 81, 100]\n",
      "[100, 64, 36, 16, 4]\n",
      "[100, 64, 36, 16]\n"
     ]
    }
   ],
   "source": [
    "print(squares)             # original list\n",
    "print(squares[::-2])       # reversed order, every other item\n",
    "print(squares[:2:-2])      # squares[2] == 9, not inclusive\n",
    "                           # squares[8], squares[6], squares[4]"
   ]
  },
  {
   "cell_type": "code",
   "execution_count": 28,
   "metadata": {},
   "outputs": [],
   "source": [
    "# initialize list\n",
    "shopping = []\n",
    "scores = [0] *10\n",
    "names = [\"\"] *5\n",
    "chars = \"\" *5  #no chars or space"
   ]
  },
  {
   "cell_type": "code",
   "execution_count": 29,
   "metadata": {},
   "outputs": [
    {
     "name": "stdout",
     "output_type": "stream",
     "text": [
      "[] has a length of 0\n",
      "[0, 0, 0, 0, 0, 0, 0, 0, 0, 0] has a length of 10\n",
      "['', '', '', '', ''] has a length of 5\n",
      ">>><<< has a length of 0\n"
     ]
    }
   ],
   "source": [
    "print(f\"{shopping} has a length of {len(shopping)}\")\n",
    "print(f\"{scores} has a length of {len(scores)}\")\n",
    "print(f\"{names} has a length of {len(names)}\")\n",
    "print(f\">>>{chars}<<< has a length of {len(chars)}\")"
   ]
  },
  {
   "cell_type": "code",
   "execution_count": 30,
   "metadata": {},
   "outputs": [
    {
     "name": "stdout",
     "output_type": "stream",
     "text": [
      "['George', 'Washington,', '1789,', '1797']\n"
     ]
    }
   ],
   "source": [
    "person = \"George Washington, 1789, 1797\"\n",
    "person_list = person.split()\n",
    "print(person_list)"
   ]
  },
  {
   "cell_type": "code",
   "execution_count": 31,
   "metadata": {},
   "outputs": [
    {
     "name": "stdout",
     "output_type": "stream",
     "text": [
      "George Washington, 1789, 1797\n",
      "29\n",
      "['George Washington, 1', '89, 1', '9', '']\n",
      "4\n",
      "['Ge', 'rge Washingt', 'n, 1789, 1797']\n",
      "3\n"
     ]
    }
   ],
   "source": [
    "print(person)   #stateent\n",
    "print(len(person))\n",
    "\n",
    "#Splits the statement at \"7\" and removes the char\n",
    "print(person.split(\"7\"))     \n",
    "print(len(person.split(\"7\")))\n",
    "\n",
    "#Splits the statement at \"0\" and This removes the char\n",
    "print(person.split(\"o\"))\n",
    "print(len(person.split(\"o\")))"
   ]
  },
  {
   "cell_type": "code",
   "execution_count": 32,
   "metadata": {},
   "outputs": [
    {
     "data": {
      "text/plain": [
       "['George Washington, 1', '89, 1', '9', '3']"
      ]
     },
     "execution_count": 32,
     "metadata": {},
     "output_type": "execute_result"
    }
   ],
   "source": [
    "\"George Washington, 1789, 17973\".split(\"7\")"
   ]
  },
  {
   "cell_type": "code",
   "execution_count": 33,
   "metadata": {},
   "outputs": [
    {
     "data": {
      "text/plain": [
       "['George Washington', '1789', '1797']"
      ]
     },
     "execution_count": 33,
     "metadata": {},
     "output_type": "execute_result"
    }
   ],
   "source": [
    "person.split(\", \", 2)"
   ]
  },
  {
   "cell_type": "code",
   "execution_count": 34,
   "metadata": {},
   "outputs": [
    {
     "data": {
      "text/plain": [
       "'George Washington'"
      ]
     },
     "execution_count": 34,
     "metadata": {},
     "output_type": "execute_result"
    }
   ],
   "source": [
    "person.split(\",\", 1)[0]"
   ]
  },
  {
   "cell_type": "code",
   "execution_count": 35,
   "metadata": {},
   "outputs": [
    {
     "data": {
      "text/plain": [
       "' 1789, 1797'"
      ]
     },
     "execution_count": 35,
     "metadata": {},
     "output_type": "execute_result"
    }
   ],
   "source": [
    "person.split(\",\", 1)[1]"
   ]
  },
  {
   "cell_type": "code",
   "execution_count": 36,
   "metadata": {},
   "outputs": [
    {
     "name": "stdout",
     "output_type": "stream",
     "text": [
      "[\"I'm\", 'just', 'a', 'simple', 'man', 'trying', 'to', 'make', 'my', 'way', 'in', 'the', 'universe.']\n"
     ]
    }
   ],
   "source": [
    "msg = \"I'm just a simple man trying to make my way in the universe.\"\n",
    "msg_list = msg.split()\n",
    "print(msg_list)"
   ]
  },
  {
   "cell_type": "code",
   "execution_count": 37,
   "metadata": {},
   "outputs": [
    {
     "name": "stdout",
     "output_type": "stream",
     "text": [
      "[\"I'\", ' just a si', 'ple ', 'an trying to ', 'ake ', 'y way in the universe.']\n"
     ]
    }
   ],
   "source": [
    "msg = \"I'm just a simple man trying to make my way in the universe.\"\n",
    "msg_list = msg.split('m')\n",
    "print(msg_list)"
   ]
  },
  {
   "cell_type": "code",
   "execution_count": 38,
   "metadata": {},
   "outputs": [
    {
     "data": {
      "text/plain": [
       "6"
      ]
     },
     "execution_count": 38,
     "metadata": {},
     "output_type": "execute_result"
    }
   ],
   "source": [
    "len(msg_list)"
   ]
  },
  {
   "cell_type": "code",
   "execution_count": 39,
   "metadata": {},
   "outputs": [
    {
     "name": "stdout",
     "output_type": "stream",
     "text": [
      "[\"I'm\", 'just', 'a', 'simple man trying to make my way in the universe.']\n",
      "4\n",
      "I'm\n",
      "just\n",
      "a\n",
      "simple man trying to make my way in the universe.\n",
      "\n",
      "['just', 'a']\n"
     ]
    }
   ],
   "source": [
    "msg = \"I'm just a simple man trying to make my way in the universe.\"\n",
    "msg_list = msg.split(' ', 3)\n",
    "print(msg_list)\n",
    "print(len(msg_list))\n",
    "print(msg_list[0])\n",
    "print(msg_list[1])\n",
    "print(msg_list[2])\n",
    "print(msg_list[3])\n",
    "print()\n",
    "\n",
    "print(msg.split(' ',3)[1:3])"
   ]
  },
  {
   "cell_type": "markdown",
   "metadata": {},
   "source": [
    "### Exercise 1\n",
    "Find the fourth word in a phrase, \"Python is a great first language\". \n",
    "First, split \"Python is a great first language\" into a list and then display the fourth word."
   ]
  },
  {
   "cell_type": "code",
   "execution_count": 40,
   "metadata": {},
   "outputs": [
    {
     "name": "stdout",
     "output_type": "stream",
     "text": [
      "['Python', 'is', 'a', 'great', 'first', 'language']\n",
      "great\n",
      "\n"
     ]
    }
   ],
   "source": [
    "msg = \"Python is a great first language\"\n",
    "msg_list = msg.split(' ')\n",
    "print(msg_list)\n",
    "\n",
    "print(msg_list[3])\n",
    "print()"
   ]
  },
  {
   "cell_type": "markdown",
   "metadata": {},
   "source": [
    "### List Methods \n",
    "add item to a list"
   ]
  },
  {
   "cell_type": "code",
   "execution_count": 41,
   "metadata": {},
   "outputs": [
    {
     "name": "stdout",
     "output_type": "stream",
     "text": [
      "[1, 4, 9, 16, 25, 36, 49, 64, 81, 100]\n"
     ]
    },
    {
     "ename": "IndexError",
     "evalue": "list assignment index out of range",
     "output_type": "error",
     "traceback": [
      "\u001b[1;31m---------------------------------------------------------------------------\u001b[0m",
      "\u001b[1;31mIndexError\u001b[0m                                Traceback (most recent call last)",
      "\u001b[1;32m<ipython-input-41-c3bf86035b21>\u001b[0m in \u001b[0;36m<module>\u001b[1;34m\u001b[0m\n\u001b[0;32m      1\u001b[0m \u001b[0mprint\u001b[0m\u001b[1;33m(\u001b[0m\u001b[0msquares\u001b[0m\u001b[1;33m)\u001b[0m\u001b[1;33m\u001b[0m\u001b[1;33m\u001b[0m\u001b[0m\n\u001b[1;32m----> 2\u001b[1;33m \u001b[0msquares\u001b[0m\u001b[1;33m[\u001b[0m\u001b[0mlen\u001b[0m\u001b[1;33m(\u001b[0m\u001b[0msquares\u001b[0m\u001b[1;33m)\u001b[0m\u001b[1;33m]\u001b[0m \u001b[1;33m=\u001b[0m \u001b[1;36m100\u001b[0m\u001b[1;33m\u001b[0m\u001b[1;33m\u001b[0m\u001b[0m\n\u001b[0m",
      "\u001b[1;31mIndexError\u001b[0m: list assignment index out of range"
     ]
    }
   ],
   "source": [
    "print(squares)\n",
    "squares[len(squares)] = 100"
   ]
  },
  {
   "cell_type": "code",
   "execution_count": 42,
   "metadata": {},
   "outputs": [
    {
     "name": "stdout",
     "output_type": "stream",
     "text": [
      "[1, 4, 9, 16, 25, 36, 49, 64, 81, 100, 100]\n"
     ]
    }
   ],
   "source": [
    "# list method - append()\n",
    "\n",
    "squares.append(100)\n",
    "print(squares)"
   ]
  },
  {
   "cell_type": "code",
   "execution_count": 43,
   "metadata": {},
   "outputs": [
    {
     "name": "stdout",
     "output_type": "stream",
     "text": [
      "['shirts', 'hat', 'shoes', 99]\n"
     ]
    }
   ],
   "source": [
    "items = [\"shirts\", \"hat\", \"shoes\"]\n",
    "items.append(99)\n",
    "print(items)"
   ]
  },
  {
   "cell_type": "code",
   "execution_count": 44,
   "metadata": {},
   "outputs": [
    {
     "name": "stdout",
     "output_type": "stream",
     "text": [
      "[['George Washington', 1789, 1797], ['John Adams', 1797, 1801], ['Thomas Jefferson', 1801, 1809]]\n"
     ]
    }
   ],
   "source": [
    "print(presidents)"
   ]
  },
  {
   "cell_type": "code",
   "execution_count": 45,
   "metadata": {},
   "outputs": [
    {
     "name": "stdout",
     "output_type": "stream",
     "text": [
      "['James Monroe', 1817, 1825]\n"
     ]
    }
   ],
   "source": [
    "person = []\n",
    "person.append(\"James Monroe\")\n",
    "person.append(1817)\n",
    "person.append(1825)\n",
    "print(person)"
   ]
  },
  {
   "cell_type": "code",
   "execution_count": 46,
   "metadata": {},
   "outputs": [
    {
     "name": "stdout",
     "output_type": "stream",
     "text": [
      "[['George Washington', 1789, 1797], ['John Adams', 1797, 1801], ['Thomas Jefferson', 1801, 1809], ['James Monroe', 1817, 1825]]\n"
     ]
    }
   ],
   "source": [
    "presidents.append(person)\n",
    "print(presidents)"
   ]
  },
  {
   "cell_type": "code",
   "execution_count": 47,
   "metadata": {},
   "outputs": [
    {
     "name": "stdout",
     "output_type": "stream",
     "text": [
      "[1809, 1817]\n"
     ]
    }
   ],
   "source": [
    "person = []\n",
    "person.append(1809)\n",
    "person.append(1817)\n",
    "print(person)"
   ]
  },
  {
   "cell_type": "code",
   "execution_count": 48,
   "metadata": {},
   "outputs": [
    {
     "name": "stdout",
     "output_type": "stream",
     "text": [
      "['James Madison', 1809, 1817]\n"
     ]
    }
   ],
   "source": [
    "# list method - insert()\n",
    "\n",
    "person.insert(0, \"James Madison\")\n",
    "print(person)"
   ]
  },
  {
   "cell_type": "code",
   "execution_count": 49,
   "metadata": {},
   "outputs": [
    {
     "name": "stdout",
     "output_type": "stream",
     "text": [
      "[['George Washington', 1789, 1797], ['John Adams', 1797, 1801], ['Thomas Jefferson', 1801, 1809], ['James Monroe', 1817, 1825]]\n"
     ]
    }
   ],
   "source": [
    "print(presidents)"
   ]
  },
  {
   "cell_type": "code",
   "execution_count": 50,
   "metadata": {},
   "outputs": [
    {
     "name": "stdout",
     "output_type": "stream",
     "text": [
      "[['George Washington', 1789, 1797], ['John Adams', 1797, 1801], ['Thomas Jefferson', 1801, 1809], ['James Madison', 1809, 1817], ['James Monroe', 1817, 1825]]\n"
     ]
    }
   ],
   "source": [
    "presidents.insert(3, person)\n",
    "print(presidents)"
   ]
  },
  {
   "cell_type": "code",
   "execution_count": 51,
   "metadata": {},
   "outputs": [
    {
     "name": "stdout",
     "output_type": "stream",
     "text": [
      "org_names:  ['George Washington', 'John Adams', 'Thomas Jefferson']\n",
      "names:      ['George Washington', 'John Adams', 'Thomas Jefferson', 'James Madison', 'James Monroe']\n",
      "more_names: ['James Madison', 'James Monroe']\n"
     ]
    }
   ],
   "source": [
    "# list method - extend()\n",
    "\n",
    "names = ['George Washington', 'John Adams', 'Thomas Jefferson']\n",
    "more_names = ['James Madison', 'James Monroe']\n",
    "\n",
    "org_names = names.copy()\n",
    "\n",
    "names.extend(more_names)\n",
    "\n",
    "print(f\"org_names:  {org_names}\")\n",
    "print(f\"names:      {names}\")\n",
    "print(f\"more_names: {more_names}\")"
   ]
  },
  {
   "cell_type": "code",
   "execution_count": 52,
   "metadata": {},
   "outputs": [
    {
     "name": "stdout",
     "output_type": "stream",
     "text": [
      "org_names:  ['George Washington', 'John Adams', 'Thomas Jefferson']\n",
      "names:      ['George Washington', 'John Adams', 'Thomas Jefferson', 'James Madison', 'James Monroe']\n",
      "more_names: ['James Madison', 'James Monroe', 'test']\n"
     ]
    }
   ],
   "source": [
    "more_names.append(\"test\")\n",
    "\n",
    "print(f\"org_names:  {org_names}\")\n",
    "print(f\"names:      {names}\")\n",
    "print(f\"more_names: {more_names}\")"
   ]
  },
  {
   "cell_type": "code",
   "execution_count": 59,
   "metadata": {},
   "outputs": [
    {
     "name": "stdout",
     "output_type": "stream",
     "text": [
      "['March', 'April', 'May', 'June', 'July', 'Aug', 'September', 'October', 'November', 'December', 'January', 'February']\n",
      "12\n",
      "['March', 'April', 'May', ['June', 'July', 'Aug'], ['September', 'October', 'November'], ['December', 'January', 'February']]\n",
      "6\n",
      "['March', 'April', 'May']\n"
     ]
    }
   ],
   "source": [
    "spring = [\"March\", \"April\", \"May\"]\n",
    "summer = [\"June\", \"July\", \"Aug\"]\n",
    "fall = [\"September\", \"October\", \"November\"]\n",
    "winter = [\"December\", \"January\", \"February\"]\n",
    "\n",
    "year = spring.copy()\n",
    "#year = spring\n",
    "year.extend(summer)\n",
    "year.extend(fall)\n",
    "year.extend(winter)\n",
    "\n",
    "yeara = spring.copy()\n",
    "#yeara = spring\n",
    "yeara.append(summer)\n",
    "yeara.append(fall)\n",
    "yeara.append(winter)\n",
    "             \n",
    "print(year)\n",
    "print(len(year))\n",
    "print(yeara)\n",
    "print(len(yeara))\n",
    "print(spring)"
   ]
  },
  {
   "cell_type": "code",
   "execution_count": 60,
   "metadata": {},
   "outputs": [
    {
     "name": "stdout",
     "output_type": "stream",
     "text": [
      "['March', 'April', 'May'] ['June', 'July', 'Aug'] ['September', 'October', 'November'] ['December', 'January', 'February']\n"
     ]
    }
   ],
   "source": [
    "print(spring, summer, fall, winter)"
   ]
  },
  {
   "cell_type": "code",
   "execution_count": 61,
   "metadata": {},
   "outputs": [
    {
     "name": "stdout",
     "output_type": "stream",
     "text": [
      "['March', 'April', 'May', 'J', 'u', 'n', 'e']\n",
      "['March', 'April', 'May', 'J', 'u', 'n', 'e']\n"
     ]
    }
   ],
   "source": [
    "spr = spring.copy()\n",
    "spr.extend(\"June\")\n",
    "spra = spring.copy()\n",
    "spra.extend('June')\n",
    "print(spr)     # what do you think?\n",
    "print(spra)\n",
    "\n",
    "#June is viewd as a list and each character is in an element"
   ]
  },
  {
   "cell_type": "code",
   "execution_count": 63,
   "metadata": {},
   "outputs": [
    {
     "name": "stdout",
     "output_type": "stream",
     "text": [
      "['March', 'April', 'May', 'June']\n"
     ]
    }
   ],
   "source": [
    "spr = spring.copy()\n",
    "spr.extend([\"June\"])  #June is in a list\n",
    "print(spr)     "
   ]
  },
  {
   "cell_type": "code",
   "execution_count": 64,
   "metadata": {},
   "outputs": [
    {
     "name": "stdout",
     "output_type": "stream",
     "text": [
      "['James Madison', 1809, 1817]\n",
      "0\n"
     ]
    }
   ],
   "source": [
    "# list method - index()\n",
    "print(person)\n",
    "print(person.index(\"James Madison\"))"
   ]
  },
  {
   "cell_type": "code",
   "execution_count": 65,
   "metadata": {},
   "outputs": [
    {
     "data": {
      "text/plain": [
       "1"
      ]
     },
     "execution_count": 65,
     "metadata": {},
     "output_type": "execute_result"
    }
   ],
   "source": [
    "person.index(1809)"
   ]
  },
  {
   "cell_type": "code",
   "execution_count": 66,
   "metadata": {},
   "outputs": [
    {
     "ename": "ValueError",
     "evalue": "1819 is not in list",
     "output_type": "error",
     "traceback": [
      "\u001b[1;31m---------------------------------------------------------------------------\u001b[0m",
      "\u001b[1;31mValueError\u001b[0m                                Traceback (most recent call last)",
      "\u001b[1;32m<ipython-input-66-56aac7e8b09d>\u001b[0m in \u001b[0;36m<module>\u001b[1;34m\u001b[0m\n\u001b[1;32m----> 1\u001b[1;33m \u001b[0mperson\u001b[0m\u001b[1;33m.\u001b[0m\u001b[0mindex\u001b[0m\u001b[1;33m(\u001b[0m\u001b[1;36m1819\u001b[0m\u001b[1;33m)\u001b[0m\u001b[1;33m\u001b[0m\u001b[1;33m\u001b[0m\u001b[0m\n\u001b[0m",
      "\u001b[1;31mValueError\u001b[0m: 1819 is not in list"
     ]
    }
   ],
   "source": [
    "person.index(1819)"
   ]
  },
  {
   "cell_type": "code",
   "execution_count": 67,
   "metadata": {},
   "outputs": [
    {
     "name": "stdout",
     "output_type": "stream",
     "text": [
      "[1, 4, 9, 16, 25, 36, 49, 64, 81, 100, 100]\n",
      "9\n"
     ]
    }
   ],
   "source": [
    "print(squares)\n",
    "print(squares.index(100))"
   ]
  },
  {
   "cell_type": "code",
   "execution_count": 68,
   "metadata": {},
   "outputs": [
    {
     "name": "stdout",
     "output_type": "stream",
     "text": [
      "['James Madison', 1809, 1817]\n",
      "3\n",
      "[['George Washington', 1789, 1797], ['John Adams', 1797, 1801], ['Thomas Jefferson', 1801, 1809], ['James Madison', 1809, 1817], ['James Monroe', 1817, 1825]]\n"
     ]
    }
   ],
   "source": [
    "print(person)\n",
    "print(presidents.index(person))\n",
    "print(presidents)"
   ]
  },
  {
   "cell_type": "code",
   "execution_count": 69,
   "metadata": {},
   "outputs": [
    {
     "name": "stdout",
     "output_type": "stream",
     "text": [
      "3\n"
     ]
    }
   ],
   "source": [
    "print(presidents.index(['James Madison', 1809, 1817]))"
   ]
  },
  {
   "cell_type": "code",
   "execution_count": 72,
   "metadata": {},
   "outputs": [
    {
     "name": "stdout",
     "output_type": "stream",
     "text": [
      "3\n"
     ]
    },
    {
     "ename": "ValueError",
     "evalue": "['james madison', 1809, 1817] is not in list",
     "output_type": "error",
     "traceback": [
      "\u001b[1;31m---------------------------------------------------------------------------\u001b[0m",
      "\u001b[1;31mValueError\u001b[0m                                Traceback (most recent call last)",
      "\u001b[1;32m<ipython-input-72-f20d06fabab0>\u001b[0m in \u001b[0;36m<module>\u001b[1;34m\u001b[0m\n\u001b[0;32m      1\u001b[0m \u001b[0mprint\u001b[0m\u001b[1;33m(\u001b[0m\u001b[0mpresidents\u001b[0m\u001b[1;33m.\u001b[0m\u001b[0mindex\u001b[0m\u001b[1;33m(\u001b[0m\u001b[1;33m[\u001b[0m\u001b[1;34m'James Madison'\u001b[0m\u001b[1;33m,\u001b[0m \u001b[1;36m1809\u001b[0m\u001b[1;33m,\u001b[0m \u001b[1;36m1817\u001b[0m\u001b[1;33m]\u001b[0m\u001b[1;33m)\u001b[0m\u001b[1;33m)\u001b[0m\u001b[1;33m\u001b[0m\u001b[1;33m\u001b[0m\u001b[0m\n\u001b[1;32m----> 2\u001b[1;33m \u001b[0mprint\u001b[0m\u001b[1;33m(\u001b[0m\u001b[0mpresidents\u001b[0m\u001b[1;33m.\u001b[0m\u001b[0mindex\u001b[0m\u001b[1;33m(\u001b[0m\u001b[1;33m[\u001b[0m\u001b[1;34m'james madison'\u001b[0m\u001b[1;33m,\u001b[0m \u001b[1;36m1809\u001b[0m\u001b[1;33m,\u001b[0m \u001b[1;36m1817\u001b[0m\u001b[1;33m]\u001b[0m\u001b[1;33m)\u001b[0m\u001b[1;33m)\u001b[0m\u001b[1;33m\u001b[0m\u001b[1;33m\u001b[0m\u001b[0m\n\u001b[0m",
      "\u001b[1;31mValueError\u001b[0m: ['james madison', 1809, 1817] is not in list"
     ]
    }
   ],
   "source": [
    "print(presidents.index(['James Madison', 1809, 1817]))\n",
    "print(presidents.index(['james madison', 1809, 1817]))"
   ]
  },
  {
   "cell_type": "code",
   "execution_count": 73,
   "metadata": {},
   "outputs": [
    {
     "name": "stdout",
     "output_type": "stream",
     "text": [
      "1\n"
     ]
    }
   ],
   "source": [
    "scores = [100, 99, 89, 99, 78]\n",
    "print(scores.index(99))"
   ]
  },
  {
   "cell_type": "code",
   "execution_count": 80,
   "metadata": {},
   "outputs": [
    {
     "name": "stdout",
     "output_type": "stream",
     "text": [
      "['shirts', 'jacket', 'pants', 'shorts']\n",
      "['shirts', 'jacket', 'pants', 'shorts']\n",
      "['shirts', 'jacket', 'pants', 'shorts', 'coat']\n"
     ]
    }
   ],
   "source": [
    "# list method - copy()\n",
    "\n",
    "clothes = ['shirts', 'jacket', 'pants', 'shorts']\n",
    "print(clothes)\n",
    "\n",
    "org_clothes = clothes\n",
    "print(org_clothes)\n",
    "\n",
    "clothes.append('coat')\n",
    "print(clothes)"
   ]
  },
  {
   "cell_type": "code",
   "execution_count": 81,
   "metadata": {},
   "outputs": [
    {
     "name": "stdout",
     "output_type": "stream",
     "text": [
      "['shirts', 'jacket', 'pants', 'shorts', 'coat']\n"
     ]
    }
   ],
   "source": [
    "print(org_clothes) #The org_clothes now contains the new clothes"
   ]
  },
  {
   "cell_type": "code",
   "execution_count": 82,
   "metadata": {},
   "outputs": [
    {
     "name": "stdout",
     "output_type": "stream",
     "text": [
      "['shirts', 'jacket', 'pants', 'shorts', 'coat']\n",
      "\n",
      "['shirts', 'jacket', 'pants', 'shorts']\n"
     ]
    }
   ],
   "source": [
    "clothes = ['shirts', 'jacket', 'pants', 'shorts']\n",
    "org_clothes = clothes.copy()\n",
    "clothes.append('coat')\n",
    "\n",
    "print(clothes)\n",
    "print()\n",
    "print(org_clothes)"
   ]
  },
  {
   "cell_type": "markdown",
   "metadata": {},
   "source": [
    "### Exercise 2\n",
    "    1. Ask a user for 2 numbers. \n",
    "    2. Generate 5 random numbers between those 2 numbers and save it to a list called nos1. \n",
    "    3. Generate 3 random numbers between those 2 numbers and save it to a list called nos2. \n",
    "    4. Make a copy of nos1 and save it to variable called all_nos.\n",
    "    5. Extend nos2 to the end of nos1.\n",
    "    6. Print original 5 random numbers, 3 random numbers, and all 8 numbers.\n",
    "    "
   ]
  },
  {
   "cell_type": "code",
   "execution_count": 86,
   "metadata": {},
   "outputs": [
    {
     "name": "stdout",
     "output_type": "stream",
     "text": [
      "Enter a number: 4\n",
      "Enter a number: 89\n"
     ]
    }
   ],
   "source": [
    "# ask a user for 2 numbers - do you need to import anything?\n",
    "num1 = int(input(\"Enter a number: \"))\n",
    "num2 = int(input(\"Enter a number: \"))           "
   ]
  },
  {
   "cell_type": "code",
   "execution_count": 98,
   "metadata": {},
   "outputs": [
    {
     "name": "stdout",
     "output_type": "stream",
     "text": [
      "[59, 64, 14, 62, 68]\n"
     ]
    }
   ],
   "source": [
    "# generate 5 random numbers between those 2 numbers and save it to a list called nos1\n",
    "import random as rand\n",
    "\n",
    "nos1 = [rand.randint(num1,num2), rand.randint(num1,num2), rand.randint(num1,num2), rand.randint(num1,num2), rand.randint(num1,num2)]\n",
    "print(nos1)"
   ]
  },
  {
   "cell_type": "code",
   "execution_count": 99,
   "metadata": {},
   "outputs": [
    {
     "name": "stdout",
     "output_type": "stream",
     "text": [
      "[89, 49, 36]\n"
     ]
    }
   ],
   "source": [
    "# generate 3 random numbers between those 2 numbers and save it to a list called nos2\n",
    "nos2 = [rand.randint(num1,num2), rand.randint(num1,num2), rand.randint(num1,num2)]\n",
    "\n",
    "print(nos2)"
   ]
  },
  {
   "cell_type": "code",
   "execution_count": 100,
   "metadata": {},
   "outputs": [
    {
     "name": "stdout",
     "output_type": "stream",
     "text": [
      "[59, 64, 14, 62, 68]\n"
     ]
    }
   ],
   "source": [
    "# copy nos1 and save to all_nos variable\n",
    "all_nos = nos1.copy()\n",
    "print(all_nos)"
   ]
  },
  {
   "cell_type": "code",
   "execution_count": 101,
   "metadata": {},
   "outputs": [
    {
     "name": "stdout",
     "output_type": "stream",
     "text": [
      "[59, 64, 14, 62, 68, 89, 49, 36]\n"
     ]
    }
   ],
   "source": [
    "# extend nos2 to the end of all_nos\n",
    "\n",
    "all_nos.extend(nos2)\n",
    "print(all_nos)"
   ]
  },
  {
   "cell_type": "code",
   "execution_count": 104,
   "metadata": {},
   "outputs": [
    {
     "name": "stdout",
     "output_type": "stream",
     "text": [
      "5 random numbers: [59, 64, 14, 62, 68]\n",
      "3 random numbers: [89, 49, 36]\n",
      "All random numbers: [59, 64, 14, 62, 68, 89, 49, 36]\n"
     ]
    }
   ],
   "source": [
    "# print original 5 random numbers, 3 random numbers, and all 8 numbers\n",
    "\n",
    "print(f\"5 random numbers: {nos1}\")\n",
    "print(f\"3 random numbers: {nos2}\")\n",
    "print(f\"All random numbers: {all_nos}\")"
   ]
  },
  {
   "cell_type": "markdown",
   "metadata": {},
   "source": [
    "### List Methods\n",
    "remove item in a list"
   ]
  },
  {
   "cell_type": "code",
   "execution_count": 53,
   "metadata": {},
   "outputs": [],
   "source": [
    "# pop()\n",
    "\n",
    "clothes = ['shirts', 'jacket', 'pants', 'shorts', 'coat']\n",
    "org_clothes = clothes.copy()\n",
    "x = clothes"
   ]
  },
  {
   "cell_type": "code",
   "execution_count": 54,
   "metadata": {},
   "outputs": [
    {
     "name": "stdout",
     "output_type": "stream",
     "text": [
      "coat\n",
      "['shirts', 'jacket', 'pants', 'shorts']\n"
     ]
    }
   ],
   "source": [
    "item = clothes.pop()\n",
    "print(item)\n",
    "print(clothes)"
   ]
  },
  {
   "cell_type": "code",
   "execution_count": 116,
   "metadata": {},
   "outputs": [
    {
     "name": "stdout",
     "output_type": "stream",
     "text": [
      "pants\n",
      "['shirts', 'jacket', 'shorts']\n"
     ]
    }
   ],
   "source": [
    "item = clothes.pop(2)\n",
    "print(item)\n",
    "print(clothes)"
   ]
  },
  {
   "cell_type": "code",
   "execution_count": 117,
   "metadata": {},
   "outputs": [
    {
     "name": "stdout",
     "output_type": "stream",
     "text": [
      "None\n",
      "['shirts', 'shorts']\n"
     ]
    }
   ],
   "source": [
    "# remove()\n",
    "\n",
    "itemr = clothes.remove(\"jacket\")\n",
    "print(itemr)\n",
    "print(clothes)"
   ]
  },
  {
   "cell_type": "code",
   "execution_count": 118,
   "metadata": {},
   "outputs": [
    {
     "name": "stdout",
     "output_type": "stream",
     "text": [
      "['shirts', 'pants', 'shorts', 'pants', 'pants']\n"
     ]
    }
   ],
   "source": [
    "clothes.append(item)\n",
    "clothes.insert(1, item)\n",
    "clothes.append(item)\n",
    "print(clothes)"
   ]
  },
  {
   "cell_type": "code",
   "execution_count": 119,
   "metadata": {},
   "outputs": [
    {
     "name": "stdout",
     "output_type": "stream",
     "text": [
      "['shirts', 'shorts', 'pants', 'pants']\n"
     ]
    }
   ],
   "source": [
    "clothes.remove(\"pants\")\n",
    "print(clothes)"
   ]
  },
  {
   "cell_type": "code",
   "execution_count": 120,
   "metadata": {},
   "outputs": [
    {
     "ename": "ValueError",
     "evalue": "list.remove(x): x not in list",
     "output_type": "error",
     "traceback": [
      "\u001b[1;31m---------------------------------------------------------------------------\u001b[0m",
      "\u001b[1;31mValueError\u001b[0m                                Traceback (most recent call last)",
      "\u001b[1;32m<ipython-input-120-6f241114e340>\u001b[0m in \u001b[0;36m<module>\u001b[1;34m\u001b[0m\n\u001b[1;32m----> 1\u001b[1;33m \u001b[0mclothes\u001b[0m\u001b[1;33m.\u001b[0m\u001b[0mremove\u001b[0m\u001b[1;33m(\u001b[0m\u001b[1;34m\"jacket\"\u001b[0m\u001b[1;33m)\u001b[0m\u001b[1;33m\u001b[0m\u001b[1;33m\u001b[0m\u001b[0m\n\u001b[0m",
      "\u001b[1;31mValueError\u001b[0m: list.remove(x): x not in list"
     ]
    }
   ],
   "source": [
    "clothes.remove(\"jacket\")"
   ]
  },
  {
   "cell_type": "code",
   "execution_count": 121,
   "metadata": {},
   "outputs": [
    {
     "name": "stdout",
     "output_type": "stream",
     "text": [
      "['shirts', 'jacket', 'pants', 'shorts', 'coat']\n",
      "['shirts', 'shorts', 'pants', 'pants']\n",
      "['shirts', 'shorts', 'pants', 'pants']\n"
     ]
    }
   ],
   "source": [
    "print(org_clothes)\n",
    "print(x)\n",
    "print(clothes)"
   ]
  },
  {
   "cell_type": "code",
   "execution_count": 122,
   "metadata": {},
   "outputs": [
    {
     "data": {
      "text/plain": [
       "False"
      ]
     },
     "execution_count": 122,
     "metadata": {},
     "output_type": "execute_result"
    }
   ],
   "source": [
    "\"aple\" in \"apple pie\""
   ]
  },
  {
   "cell_type": "code",
   "execution_count": 123,
   "metadata": {},
   "outputs": [
    {
     "data": {
      "text/plain": [
       "True"
      ]
     },
     "execution_count": 123,
     "metadata": {},
     "output_type": "execute_result"
    }
   ],
   "source": [
    "# count()\n",
    "\n",
    "\"pants\" in clothes  #Use 'in' to determine that item is in list"
   ]
  },
  {
   "cell_type": "code",
   "execution_count": 124,
   "metadata": {},
   "outputs": [
    {
     "data": {
      "text/plain": [
       "2"
      ]
     },
     "execution_count": 124,
     "metadata": {},
     "output_type": "execute_result"
    }
   ],
   "source": [
    "clothes.count(\"pants\")"
   ]
  },
  {
   "cell_type": "code",
   "execution_count": 125,
   "metadata": {},
   "outputs": [
    {
     "data": {
      "text/plain": [
       "0"
      ]
     },
     "execution_count": 125,
     "metadata": {},
     "output_type": "execute_result"
    }
   ],
   "source": [
    "clothes.count(\"jacket\")"
   ]
  },
  {
   "cell_type": "code",
   "execution_count": 126,
   "metadata": {},
   "outputs": [
    {
     "name": "stdout",
     "output_type": "stream",
     "text": [
      "names:     ['$', '1', '9', 'Count', 'big bird', 'count', 'elmo']\n",
      "org_names: ['elmo', 'big bird', '1', '9', '$', 'count', 'Count']\n"
     ]
    }
   ],
   "source": [
    "# list method: sort()\n",
    "names = ['elmo', 'big bird', '1', '9', '$', 'count', 'Count']\n",
    "org_names = names.copy()\n",
    "names.sort()\n",
    "\n",
    "print(f\"names:     {names}\")\n",
    "print(f\"org_names: {org_names}\")"
   ]
  },
  {
   "cell_type": "code",
   "execution_count": 127,
   "metadata": {},
   "outputs": [
    {
     "name": "stdout",
     "output_type": "stream",
     "text": [
      "names:     ['elmo', 'count', 'big bird', 'Count', '9', '1', '$']\n",
      "org_names: ['elmo', 'big bird', '1', '9', '$', 'count', 'Count']\n"
     ]
    }
   ],
   "source": [
    "names = org_names.copy()\n",
    "names.sort(reverse=True)\n",
    "\n",
    "print(f\"names:     {names}\")\n",
    "print(f\"org_names: {org_names}\")"
   ]
  },
  {
   "cell_type": "code",
   "execution_count": 128,
   "metadata": {},
   "outputs": [
    {
     "name": "stdout",
     "output_type": "stream",
     "text": [
      "Before: ['elmo', 'big bird', '1', '9', '$', 'count', 'Count']\n",
      "After:  ['$', '1', '9', 'Count', 'big bird', 'count', 'elmo']\n"
     ]
    }
   ],
   "source": [
    "# sorted() built-in function\n",
    "\n",
    "names = org_names.copy()\n",
    "print(f\"Before: {names}\")\n",
    "ordered = sorted(names)\n",
    "print(f\"After:  {ordered}\")"
   ]
  },
  {
   "cell_type": "code",
   "execution_count": 132,
   "metadata": {},
   "outputs": [
    {
     "name": "stdout",
     "output_type": "stream",
     "text": [
      "Before: ['George Washington', 1789, 1797]\n"
     ]
    },
    {
     "ename": "TypeError",
     "evalue": "'<' not supported between instances of 'int' and 'str'",
     "output_type": "error",
     "traceback": [
      "\u001b[1;31m---------------------------------------------------------------------------\u001b[0m",
      "\u001b[1;31mTypeError\u001b[0m                                 Traceback (most recent call last)",
      "\u001b[1;32m<ipython-input-132-5c31e71dac2f>\u001b[0m in \u001b[0;36m<module>\u001b[1;34m\u001b[0m\n\u001b[0;32m      2\u001b[0m \u001b[0mprint\u001b[0m\u001b[1;33m(\u001b[0m\u001b[1;34mf\"Before: {president1}\"\u001b[0m\u001b[1;33m)\u001b[0m\u001b[1;33m\u001b[0m\u001b[1;33m\u001b[0m\u001b[0m\n\u001b[0;32m      3\u001b[0m \u001b[1;33m\u001b[0m\u001b[0m\n\u001b[1;32m----> 4\u001b[1;33m \u001b[0mordered\u001b[0m \u001b[1;33m=\u001b[0m \u001b[0msorted\u001b[0m\u001b[1;33m(\u001b[0m\u001b[0mpresident1\u001b[0m\u001b[1;33m)\u001b[0m\u001b[1;33m\u001b[0m\u001b[1;33m\u001b[0m\u001b[0m\n\u001b[0m\u001b[0;32m      5\u001b[0m \u001b[0mprint\u001b[0m\u001b[1;33m(\u001b[0m\u001b[1;34mf\"After:  {ordered}\"\u001b[0m\u001b[1;33m)\u001b[0m\u001b[1;33m\u001b[0m\u001b[1;33m\u001b[0m\u001b[0m\n",
      "\u001b[1;31mTypeError\u001b[0m: '<' not supported between instances of 'int' and 'str'"
     ]
    }
   ],
   "source": [
    "president1 = ['George Washington', 1789, 1797]\n",
    "print(f\"Before: {president1}\")\n",
    "\n",
    "ordered = sorted(president1)\n",
    "print(f\"After:  {ordered}\")"
   ]
  },
  {
   "cell_type": "code",
   "execution_count": 133,
   "metadata": {},
   "outputs": [
    {
     "name": "stdout",
     "output_type": "stream",
     "text": [
      "After:  [' ', ' ', ' ', \"'\", \"'\", ',', ',', '1', '1', '7', '7', '7', '8', '9', '9', 'G', 'W', '[', ']', 'a', 'e', 'e', 'g', 'g', 'h', 'i', 'n', 'n', 'o', 'o', 'r', 's', 't']\n"
     ]
    }
   ],
   "source": [
    "#Bad idea to resolve above error\n",
    "\n",
    "ordered = sorted(str(president1))\n",
    "print(f\"After:  {ordered}\")"
   ]
  },
  {
   "cell_type": "code",
   "execution_count": 134,
   "metadata": {},
   "outputs": [
    {
     "name": "stdout",
     "output_type": "stream",
     "text": [
      "Before: [['George Washington', 1789, 1797], ['Thomas Jefferson', 1801, 1809], ['John Adams', 1797, 1801]]\n",
      "After:  [['George Washington', 1789, 1797], ['John Adams', 1797, 1801], ['Thomas Jefferson', 1801, 1809]]\n"
     ]
    }
   ],
   "source": [
    "presidents = [['George Washington', 1789, 1797], \n",
    "              ['Thomas Jefferson', 1801, 1809], \n",
    "              ['John Adams', 1797, 1801]]\n",
    "\n",
    "print(f\"Before: {presidents}\")\n",
    "ordered = sorted(presidents)\n",
    "print(f\"After:  {ordered}\")"
   ]
  },
  {
   "cell_type": "code",
   "execution_count": 135,
   "metadata": {},
   "outputs": [],
   "source": [
    "l1 = [ 1, 11, 111]\n",
    "l2 = [1, 12]\n",
    "l3 = [1, 12, '124']\n",
    "\n",
    "test = [l2, l1, l3]\n",
    "org_test = test.copy()"
   ]
  },
  {
   "cell_type": "code",
   "execution_count": null,
   "metadata": {},
   "outputs": [],
   "source": []
  },
  {
   "cell_type": "code",
   "execution_count": 136,
   "metadata": {},
   "outputs": [
    {
     "name": "stdout",
     "output_type": "stream",
     "text": [
      "Before: [[1, 12], [1, 11, 111], [1, 12, '124']]\n",
      "After:  [[1, 11, 111], [1, 12], [1, 12, '124']]\n"
     ]
    }
   ],
   "source": [
    "print(f\"Before: {test}\")\n",
    "ordered = sorted(test)\n",
    "print(f\"After:  {ordered}\")"
   ]
  },
  {
   "cell_type": "code",
   "execution_count": 137,
   "metadata": {},
   "outputs": [
    {
     "name": "stdout",
     "output_type": "stream",
     "text": [
      "10 20\n"
     ]
    }
   ],
   "source": [
    "def replace(arg) :\n",
    "    arg = arg * 2\n",
    "    return arg\n",
    "\n",
    "a = 10\n",
    "b = replace(a)\n",
    "print(a, b)"
   ]
  },
  {
   "cell_type": "code",
   "execution_count": 140,
   "metadata": {},
   "outputs": [
    {
     "name": "stdout",
     "output_type": "stream",
     "text": [
      "[1, 2, 3]\n",
      "[1, '*', 3]\n"
     ]
    }
   ],
   "source": [
    "# list is a mutable data type\n",
    "\n",
    "def replace(sample, index) :\n",
    "    sample[index] = '*'\n",
    "    \n",
    "orig = [1, 2, 3]\n",
    "print(orig)\n",
    "replace(orig, 1)\n",
    "print(orig)\n",
    "    "
   ]
  },
  {
   "cell_type": "code",
   "execution_count": 144,
   "metadata": {},
   "outputs": [
    {
     "name": "stdout",
     "output_type": "stream",
     "text": [
      "entered xfer():arg1=5, arg2=[1, 2, 3]\n",
      "exiting xfer():arg1=[1, 2, 3], arg2=5\n",
      "5\n",
      "[1, 2, 3]\n"
     ]
    }
   ],
   "source": [
    "def xfer(arg1, arg2) :\n",
    "    print(f\"entered xfer():arg1={arg1}, arg2={arg2}\")\n",
    "    temp = arg1\n",
    "    arg1 = arg2\n",
    "    arg2 = temp\n",
    "    print(f\"exiting xfer():arg1={arg1}, arg2={arg2}\")\n",
    "    \n",
    "x = 5\n",
    "y = [1, 2, 3]\n",
    "xfer(x, y)  #the argumets are changeable in the function, moving around variables\n",
    "\n",
    "print(x, y, sep=\"\\n\")  #the new value were not returned"
   ]
  },
  {
   "cell_type": "code",
   "execution_count": 145,
   "metadata": {},
   "outputs": [
    {
     "name": "stdout",
     "output_type": "stream",
     "text": [
      "entered xfer2():arg1=5, arg2=[1, 2, 3]\n",
      "exiting xfer2():arg1=10, arg2=[10, 2, 3]\n",
      "\n",
      "x=5 y=[10, 2, 3]\n"
     ]
    }
   ],
   "source": [
    "# data types (integer, float, string) are not mutable but list is \n",
    "\n",
    "#this changes an element of list\n",
    "def xfer2(arg1, arg2) :\n",
    "    print(f\"entered xfer2():arg1={arg1}, arg2={arg2}\")\n",
    "    arg1 *= 2\n",
    "    arg2[0] = arg1\n",
    "    print(f\"exiting xfer2():arg1={arg1}, arg2={arg2}\")\n",
    "    \n",
    "    \n",
    "x = 5\n",
    "y = [1, 2, 3]\n",
    "xfer2(x, y)\n",
    "\n",
    "print(f\"\\nx={x} y={y}\")"
   ]
  },
  {
   "cell_type": "markdown",
   "metadata": {},
   "source": [
    "### Exercise 3\n",
    "Get 7 book tittles from a user and save it in a list.\n",
    "Then, remove the title in the middle of the list after sorting them alphabetically. \n",
    "Display the original tittles, sorted tittles, and titles after removing one."
   ]
  },
  {
   "cell_type": "code",
   "execution_count": 147,
   "metadata": {},
   "outputs": [
    {
     "name": "stdout",
     "output_type": "stream",
     "text": [
      "Enter a book title: Harry Potter\n",
      "Enter a book title: AWS Certified\n",
      "Enter a book title: Pythun made Easy\n",
      "Enter a book title: Moby Dick\n",
      "Enter a book title: Datalytics 1-2-3\n",
      "Enter a book title: Who Dares Wins\n",
      "Enter a book title: The Dark Lord's Equal\n"
     ]
    }
   ],
   "source": [
    "book1 = (input(\"Enter a book title: \"))\n",
    "book2 = (input(\"Enter a book title: \"))\n",
    "book3 = (input(\"Enter a book title: \"))\n",
    "book4 = (input(\"Enter a book title: \"))         \n",
    "book5 = (input(\"Enter a book title: \"))\n",
    "book6 = (input(\"Enter a book title: \"))\n",
    "book7 = (input(\"Enter a book title: \"))       "
   ]
  },
  {
   "cell_type": "code",
   "execution_count": 156,
   "metadata": {},
   "outputs": [
    {
     "name": "stdout",
     "output_type": "stream",
     "text": [
      "org bookist:     ['Harry Potter', 'AWS Certified', 'Pythun made Easy', 'Moby Dick', 'Datalytics 1-2-3', 'Who Dares Wins', \"The Dark Lord's Equal\"]\n",
      "sorted booklist: ['AWS Certified', 'Datalytics 1-2-3', 'Harry Potter', 'Moby Dick', 'Pythun made Easy', \"The Dark Lord's Equal\", 'Who Dares Wins']\n",
      "updated booklist: ['AWS Certified', 'Datalytics 1-2-3', 'Harry Potter', 'Pythun made Easy', \"The Dark Lord's Equal\", 'Who Dares Wins']\n"
     ]
    }
   ],
   "source": [
    "book_list = [book1, book2, book3, book4, book5, book6, book7]\n",
    "\n",
    "org_book = book_list.copy()\n",
    "print(f\"org bookist:     {org_book}\")\n",
    "\n",
    "sorted_list = sorted(book_list)\n",
    "print(f\"sorted booklist: {sorted_list}\")\n",
    "\n",
    "num = int(len(sorted_list)/2)\n",
    "updated_list = sorted_list.copy()\n",
    "book = updated_list.pop(num)\n",
    "print(f\"updated booklist: {updated_list}\")\n"
   ]
  },
  {
   "cell_type": "code",
   "execution_count": null,
   "metadata": {},
   "outputs": [],
   "source": []
  },
  {
   "cell_type": "markdown",
   "metadata": {},
   "source": [
    "### Tuple"
   ]
  },
  {
   "cell_type": "code",
   "execution_count": 55,
   "metadata": {},
   "outputs": [
    {
     "name": "stdout",
     "output_type": "stream",
     "text": [
      "Th\n"
     ]
    }
   ],
   "source": [
    "week = ('M', 'T', 'W', 'Th', 'F', 'Sa', 'Su')\n",
    "print(week[3])"
   ]
  },
  {
   "cell_type": "code",
   "execution_count": 56,
   "metadata": {},
   "outputs": [
    {
     "name": "stdout",
     "output_type": "stream",
     "text": [
      "Sa\n"
     ]
    }
   ],
   "source": [
    "print(week[-2])"
   ]
  },
  {
   "cell_type": "code",
   "execution_count": 57,
   "metadata": {},
   "outputs": [
    {
     "name": "stdout",
     "output_type": "stream",
     "text": [
      "('M', 'W', 'F', 'Su')\n"
     ]
    }
   ],
   "source": [
    "print(week[::2])"
   ]
  },
  {
   "cell_type": "code",
   "execution_count": 58,
   "metadata": {},
   "outputs": [
    {
     "name": "stdout",
     "output_type": "stream",
     "text": [
      "foodie\n"
     ]
    },
    {
     "ename": "IndexError",
     "evalue": "tuple index out of range",
     "output_type": "error",
     "traceback": [
      "\u001b[1;31m---------------------------------------------------------------------------\u001b[0m",
      "\u001b[1;31mIndexError\u001b[0m                                Traceback (most recent call last)",
      "\u001b[1;32m<ipython-input-58-d9bb6b26059d>\u001b[0m in \u001b[0;36m<module>\u001b[1;34m\u001b[0m\n\u001b[0;32m      1\u001b[0m \u001b[0mhobbies\u001b[0m \u001b[1;33m=\u001b[0m \u001b[1;33m(\u001b[0m\u001b[1;34m\"hiking\"\u001b[0m\u001b[1;33m,\u001b[0m \u001b[1;34m\"tennis\"\u001b[0m\u001b[1;33m,\u001b[0m \u001b[1;34m\"foodie\"\u001b[0m\u001b[1;33m)\u001b[0m\u001b[1;33m\u001b[0m\u001b[1;33m\u001b[0m\u001b[0m\n\u001b[0;32m      2\u001b[0m \u001b[0mprint\u001b[0m\u001b[1;33m(\u001b[0m\u001b[0mhobbies\u001b[0m\u001b[1;33m[\u001b[0m\u001b[1;36m2\u001b[0m\u001b[1;33m]\u001b[0m\u001b[1;33m)\u001b[0m\u001b[1;33m\u001b[0m\u001b[1;33m\u001b[0m\u001b[0m\n\u001b[1;32m----> 3\u001b[1;33m \u001b[0mprint\u001b[0m\u001b[1;33m(\u001b[0m\u001b[0mhobbies\u001b[0m\u001b[1;33m[\u001b[0m\u001b[1;36m5\u001b[0m\u001b[1;33m]\u001b[0m\u001b[1;33m)\u001b[0m\u001b[1;33m\u001b[0m\u001b[1;33m\u001b[0m\u001b[0m\n\u001b[0m",
      "\u001b[1;31mIndexError\u001b[0m: tuple index out of range"
     ]
    }
   ],
   "source": [
    "hobbies = (\"hiking\", \"tennis\", \"foodie\")\n",
    "print(hobbies[2])\n",
    "print(hobbies[5])"
   ]
  },
  {
   "cell_type": "code",
   "execution_count": 59,
   "metadata": {},
   "outputs": [
    {
     "ename": "TypeError",
     "evalue": "'tuple' object does not support item assignment",
     "output_type": "error",
     "traceback": [
      "\u001b[1;31m---------------------------------------------------------------------------\u001b[0m",
      "\u001b[1;31mTypeError\u001b[0m                                 Traceback (most recent call last)",
      "\u001b[1;32m<ipython-input-59-afd27e0b621a>\u001b[0m in \u001b[0;36m<module>\u001b[1;34m\u001b[0m\n\u001b[1;32m----> 1\u001b[1;33m \u001b[0mhobbies\u001b[0m\u001b[1;33m[\u001b[0m\u001b[1;36m2\u001b[0m\u001b[1;33m]\u001b[0m \u001b[1;33m=\u001b[0m \u001b[1;34m\"binge watching\"\u001b[0m\u001b[1;33m\u001b[0m\u001b[1;33m\u001b[0m\u001b[0m\n\u001b[0m\u001b[0;32m      2\u001b[0m \u001b[0mprint\u001b[0m\u001b[1;33m(\u001b[0m\u001b[0mhobbies\u001b[0m\u001b[1;33m)\u001b[0m\u001b[1;33m\u001b[0m\u001b[1;33m\u001b[0m\u001b[0m\n",
      "\u001b[1;31mTypeError\u001b[0m: 'tuple' object does not support item assignment"
     ]
    }
   ],
   "source": [
    "hobbies[2] = \"binge watching\"\n",
    "print(hobbies)"
   ]
  },
  {
   "cell_type": "code",
   "execution_count": 60,
   "metadata": {},
   "outputs": [
    {
     "name": "stdout",
     "output_type": "stream",
     "text": [
      "<class 'tuple'>\n",
      "0\n"
     ]
    }
   ],
   "source": [
    "# empty tuple\n",
    "\n",
    "items = ()\n",
    "print(type(items))\n",
    "print(len(items))"
   ]
  },
  {
   "cell_type": "code",
   "execution_count": 61,
   "metadata": {},
   "outputs": [
    {
     "name": "stdout",
     "output_type": "stream",
     "text": [
      "<class 'str'>\n",
      "3\n"
     ]
    }
   ],
   "source": [
    "items2 = (\"one\")\n",
    "print(type(items2))\n",
    "print(len(items2))"
   ]
  },
  {
   "cell_type": "code",
   "execution_count": 62,
   "metadata": {},
   "outputs": [
    {
     "name": "stdout",
     "output_type": "stream",
     "text": [
      "<class 'tuple'>\n",
      "1\n"
     ]
    }
   ],
   "source": [
    "# tuple with one item...add a comma after the item\n",
    "\n",
    "items3 = (\"one\",)\n",
    "print(type(items3))\n",
    "print(len(items3))\n"
   ]
  },
  {
   "cell_type": "code",
   "execution_count": 64,
   "metadata": {},
   "outputs": [
    {
     "name": "stdout",
     "output_type": "stream",
     "text": [
      "<class 'tuple'>\n",
      "2\n"
     ]
    }
   ],
   "source": [
    "# tuple with multiple items\n",
    "\n",
    "items4 = (\"one\", \"two\",)\n",
    "print(type(items4))\n",
    "print(len(items4))\n"
   ]
  },
  {
   "cell_type": "code",
   "execution_count": 66,
   "metadata": {},
   "outputs": [
    {
     "name": "stdout",
     "output_type": "stream",
     "text": [
      "<class 'tuple'>\n",
      "2\n"
     ]
    }
   ],
   "source": [
    "items5 = (\"one\", \"yes\")\n",
    "print(type(items))\n",
    "print(len(items5))"
   ]
  },
  {
   "cell_type": "code",
   "execution_count": 67,
   "metadata": {},
   "outputs": [
    {
     "name": "stdout",
     "output_type": "stream",
     "text": [
      "(99, 87, 79, 88, 88, 100)\n",
      "('Rachel', 'Monica', 'Phoebe', 'Joey', 'Chandler', 'Ross')\n",
      "('jacket', 'M', 20, 9.99)\n"
     ]
    }
   ],
   "source": [
    "scores = (99, 87, 79, 88, 88, 100)\n",
    "names = (\"Rachel\", \"Monica\", \"Phoebe\", \"Joey\", \"Chandler\", \"Ross\")\n",
    "sample = (\"jacket\", \"M\", 20, 9.99)\n",
    "\n",
    "print(scores)\n",
    "print(names)\n",
    "print(sample)"
   ]
  },
  {
   "cell_type": "code",
   "execution_count": 69,
   "metadata": {},
   "outputs": [
    {
     "name": "stdout",
     "output_type": "stream",
     "text": [
      "('3-22', '4-30', '5-11', '12-18')\n",
      "<class 'tuple'>\n",
      "4\n"
     ]
    },
    {
     "ename": "TypeError",
     "evalue": "tuple expected at most 1 arguments, got 4",
     "output_type": "error",
     "traceback": [
      "\u001b[1;31m---------------------------------------------------------------------------\u001b[0m",
      "\u001b[1;31mTypeError\u001b[0m                                 Traceback (most recent call last)",
      "\u001b[1;32m<ipython-input-69-6994b7983afe>\u001b[0m in \u001b[0;36m<module>\u001b[1;34m\u001b[0m\n\u001b[0;32m      4\u001b[0m \u001b[0mprint\u001b[0m\u001b[1;33m(\u001b[0m\u001b[0mlen\u001b[0m\u001b[1;33m(\u001b[0m\u001b[0mdemo\u001b[0m\u001b[1;33m)\u001b[0m\u001b[1;33m)\u001b[0m\u001b[1;33m\u001b[0m\u001b[1;33m\u001b[0m\u001b[0m\n\u001b[0;32m      5\u001b[0m \u001b[1;33m\u001b[0m\u001b[0m\n\u001b[1;32m----> 6\u001b[1;33m \u001b[0mdemo\u001b[0m \u001b[1;33m=\u001b[0m \u001b[0mtuple\u001b[0m\u001b[1;33m(\u001b[0m\u001b[1;34m'3-22'\u001b[0m\u001b[1;33m,\u001b[0m \u001b[1;34m'4-30'\u001b[0m\u001b[1;33m,\u001b[0m \u001b[1;34m'5-11'\u001b[0m\u001b[1;33m,\u001b[0m \u001b[1;34m'12-18'\u001b[0m\u001b[1;33m)\u001b[0m\u001b[1;33m\u001b[0m\u001b[1;33m\u001b[0m\u001b[0m\n\u001b[0m",
      "\u001b[1;31mTypeError\u001b[0m: tuple expected at most 1 arguments, got 4"
     ]
    }
   ],
   "source": [
    "demo = tuple(('3-22', '4-30', '5-11', '12-18'))\n",
    "print(demo)\n",
    "print(type(demo))\n",
    "print(len(demo))\n",
    "\n",
    "demo = tuple('3-22', '4-30', '5-11', '12-18')"
   ]
  },
  {
   "cell_type": "code",
   "execution_count": 72,
   "metadata": {},
   "outputs": [
    {
     "name": "stdout",
     "output_type": "stream",
     "text": [
      "['3-22', '4-30', '5-11', '12-18']\n",
      "<class 'list'>\n",
      "4\n"
     ]
    },
    {
     "ename": "TypeError",
     "evalue": "list expected at most 1 arguments, got 4",
     "output_type": "error",
     "traceback": [
      "\u001b[1;31m---------------------------------------------------------------------------\u001b[0m",
      "\u001b[1;31mTypeError\u001b[0m                                 Traceback (most recent call last)",
      "\u001b[1;32m<ipython-input-72-bffa5e108cc6>\u001b[0m in \u001b[0;36m<module>\u001b[1;34m\u001b[0m\n\u001b[0;32m      4\u001b[0m \u001b[0mprint\u001b[0m\u001b[1;33m(\u001b[0m\u001b[0mlen\u001b[0m\u001b[1;33m(\u001b[0m\u001b[0mdemo2\u001b[0m\u001b[1;33m)\u001b[0m\u001b[1;33m)\u001b[0m\u001b[1;33m\u001b[0m\u001b[1;33m\u001b[0m\u001b[0m\n\u001b[0;32m      5\u001b[0m \u001b[1;33m\u001b[0m\u001b[0m\n\u001b[1;32m----> 6\u001b[1;33m \u001b[0mdemo2\u001b[0m \u001b[1;33m=\u001b[0m \u001b[0mlist\u001b[0m\u001b[1;33m(\u001b[0m\u001b[1;34m'3-22'\u001b[0m\u001b[1;33m,\u001b[0m \u001b[1;34m'4-30'\u001b[0m\u001b[1;33m,\u001b[0m \u001b[1;34m'5-11'\u001b[0m\u001b[1;33m,\u001b[0m \u001b[1;34m'12-18'\u001b[0m\u001b[1;33m)\u001b[0m\u001b[1;33m\u001b[0m\u001b[1;33m\u001b[0m\u001b[0m\n\u001b[0m",
      "\u001b[1;31mTypeError\u001b[0m: list expected at most 1 arguments, got 4"
     ]
    }
   ],
   "source": [
    "demo2 = list(('3-22', '4-30', '5-11', '12-18'))\n",
    "print(demo2)\n",
    "print(type(demo2))\n",
    "print(len(demo2))\n",
    "\n",
    "demo2 = list('3-22', '4-30', '5-11', '12-18')"
   ]
  },
  {
   "cell_type": "code",
   "execution_count": 73,
   "metadata": {},
   "outputs": [
    {
     "name": "stdout",
     "output_type": "stream",
     "text": [
      "('hiking', 'tennis', 'foodie')\n",
      "['hiking', 'tennis', 'foodie']\n"
     ]
    }
   ],
   "source": [
    "# list() & tuple() built-in function\n",
    "\n",
    "hobbies_list = list(hobbies)\n",
    "print(hobbies)\n",
    "print(hobbies_list)"
   ]
  },
  {
   "cell_type": "code",
   "execution_count": 74,
   "metadata": {},
   "outputs": [
    {
     "name": "stdout",
     "output_type": "stream",
     "text": [
      "['hiking', 'tennis', 'binge watching']\n"
     ]
    }
   ],
   "source": [
    "hobbies_list[2] = \"binge watching\"\n",
    "print(hobbies_list)"
   ]
  },
  {
   "cell_type": "code",
   "execution_count": 75,
   "metadata": {},
   "outputs": [
    {
     "name": "stdout",
     "output_type": "stream",
     "text": [
      "['hiking', 'tennis', 'binge watching']\n",
      "('hiking', 'tennis', 'binge watching')\n"
     ]
    }
   ],
   "source": [
    "hobbies_tuple = tuple(hobbies_list)\n",
    "print(hobbies_list)\n",
    "print(hobbies_tuple)"
   ]
  },
  {
   "cell_type": "code",
   "execution_count": 76,
   "metadata": {},
   "outputs": [
    {
     "data": {
      "text/plain": [
       "range(1, 5)"
      ]
     },
     "execution_count": 76,
     "metadata": {},
     "output_type": "execute_result"
    }
   ],
   "source": [
    "range(1, 5)  "
   ]
  },
  {
   "cell_type": "markdown",
   "metadata": {},
   "source": [
    "### Repetition Statement - Loop"
   ]
  },
  {
   "cell_type": "code",
   "execution_count": 77,
   "metadata": {},
   "outputs": [
    {
     "name": "stdout",
     "output_type": "stream",
     "text": [
      "1\n",
      "2\n",
      "3\n",
      "4\n",
      "5\n"
     ]
    }
   ],
   "source": [
    "# counter loop\n",
    "\n",
    "for item in [1, 2, 3, 4, 5] :\n",
    "    print(item)"
   ]
  },
  {
   "cell_type": "code",
   "execution_count": 78,
   "metadata": {},
   "outputs": [
    {
     "name": "stdout",
     "output_type": "stream",
     "text": [
      "['shirts', 'jacket', 'pants', 'shorts']\n",
      "I have shirts\n",
      "I have jacket\n",
      "I have pants\n",
      "I have shorts\n",
      "Done!\n"
     ]
    }
   ],
   "source": [
    "print(clothes)\n",
    "for item in clothes :\n",
    "    print(f\"I have {item}\")\n",
    "\n",
    "print(\"Done!\")    "
   ]
  },
  {
   "cell_type": "code",
   "execution_count": 79,
   "metadata": {},
   "outputs": [
    {
     "name": "stdout",
     "output_type": "stream",
     "text": [
      "1\n",
      "2\n",
      "3\n",
      "4\n",
      "5\n",
      "Done!\n"
     ]
    }
   ],
   "source": [
    "for item in (1, 2, 3, 4, 5) :\n",
    "    print(item)\n",
    "    \n",
    "print(\"Done!\") "
   ]
  },
  {
   "cell_type": "code",
   "execution_count": 80,
   "metadata": {},
   "outputs": [
    {
     "name": "stdout",
     "output_type": "stream",
     "text": [
      "a\n",
      "p\n",
      "p\n",
      "l\n",
      "e\n",
      "Done!\n",
      "e\n"
     ]
    }
   ],
   "source": [
    "for item in \"apple\" :\n",
    "    print(item)\n",
    "    \n",
    "print(\"Done!\") \n",
    "print(item)"
   ]
  },
  {
   "cell_type": "code",
   "execution_count": 81,
   "metadata": {},
   "outputs": [
    {
     "name": "stdout",
     "output_type": "stream",
     "text": [
      "a\n",
      "p\n"
     ]
    }
   ],
   "source": [
    "item = 'a'\n",
    "print(item)\n",
    "item = 'p'\n",
    "print(item)"
   ]
  },
  {
   "cell_type": "code",
   "execution_count": 82,
   "metadata": {},
   "outputs": [
    {
     "name": "stdout",
     "output_type": "stream",
     "text": [
      "1\n",
      "2\n",
      "3\n",
      "4\n",
      "5\n",
      "6\n",
      "7\n",
      "8\n",
      "9\n",
      "10\n"
     ]
    }
   ],
   "source": [
    "# range() built-in function\n",
    "\n",
    "for item in range(1, 11) :\n",
    "    print(item)"
   ]
  },
  {
   "cell_type": "code",
   "execution_count": 83,
   "metadata": {},
   "outputs": [
    {
     "name": "stdout",
     "output_type": "stream",
     "text": [
      "1\n",
      "3\n",
      "5\n",
      "7\n",
      "9\n"
     ]
    }
   ],
   "source": [
    "\n",
    "for item in range(1, 11, 2) :\n",
    "    print(item)"
   ]
  },
  {
   "cell_type": "code",
   "execution_count": 84,
   "metadata": {},
   "outputs": [
    {
     "name": "stdout",
     "output_type": "stream",
     "text": [
      "\n",
      "There are 7 dwarves and Snow White\n",
      "Happy\n",
      "Grumpy\n",
      "Sleepy\n",
      "Bashful\n",
      "Sneezy\n",
      "Doc\n",
      "Dopey\n"
     ]
    }
   ],
   "source": [
    "dwarves = [\"Happy\", \"Grumpy\", \"Sleepy\", \"Bashful\", \"Sneezy\", \"Doc\", \"Dopey\"]\n",
    "\n",
    "print(f\"\\nThere are {len(dwarves)} dwarves and Snow White\")\n",
    "for dwarf in dwarves : \n",
    "    print(dwarf)\n",
    "    "
   ]
  },
  {
   "cell_type": "markdown",
   "metadata": {},
   "source": [
    "### Exercise 4\n",
    "If you save $1,000 every year with 1% annual interest, how much would you save in 5 years?\n",
    "\n",
    "Fix code in below cell and show it works."
   ]
  },
  {
   "cell_type": "code",
   "execution_count": 103,
   "metadata": {},
   "outputs": [
    {
     "name": "stdout",
     "output_type": "stream",
     "text": [
      "$5,152.02\n"
     ]
    }
   ],
   "source": [
    "# original\n",
    "\n",
    "rate = 1/100\n",
    "savings = 0\n",
    "\n",
    "for i in range(1, 6) :\n",
    "    savings = savings + 1000\n",
    "    savings += savings * rate\n",
    " \n",
    "print(f\"${savings:,.2f}\")    "
   ]
  },
  {
   "cell_type": "code",
   "execution_count": 85,
   "metadata": {},
   "outputs": [
    {
     "name": "stdout",
     "output_type": "stream",
     "text": [
      "$5,152.02\n"
     ]
    }
   ],
   "source": [
    "# original\n",
    "\n",
    "rate = 1/100  # 0.01\n",
    "savings = 0\n",
    "total = 0\n",
    "\n",
    "for i in range(1, 6) :\n",
    "    savings = total + 1000 \n",
    "    total = (savings * rate)  + savings\n",
    "\n",
    "print(f\"${total:,.2f}\")    "
   ]
  },
  {
   "cell_type": "markdown",
   "metadata": {},
   "source": [
    "1010\n",
    "1010 + 1000 + (1010+1000)* 0.01"
   ]
  },
  {
   "cell_type": "code",
   "execution_count": null,
   "metadata": {},
   "outputs": [],
   "source": []
  }
 ],
 "metadata": {
  "kernelspec": {
   "display_name": "Python 3",
   "language": "python",
   "name": "python3"
  },
  "language_info": {
   "codemirror_mode": {
    "name": "ipython",
    "version": 3
   },
   "file_extension": ".py",
   "mimetype": "text/x-python",
   "name": "python",
   "nbconvert_exporter": "python",
   "pygments_lexer": "ipython3",
   "version": "3.7.3"
  }
 },
 "nbformat": 4,
 "nbformat_minor": 2
}
