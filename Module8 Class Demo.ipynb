{
 "cells": [
  {
   "cell_type": "markdown",
   "metadata": {},
   "source": [
    "### Repetition Statement - Loop"
   ]
  },
  {
   "cell_type": "code",
   "execution_count": null,
   "metadata": {},
   "outputs": [],
   "source": [
    "# counter loop\n",
    "\n",
    "for item in [1, 2, 3, 4, 5] :\n",
    "    print(item)"
   ]
  },
  {
   "cell_type": "code",
   "execution_count": null,
   "metadata": {
    "scrolled": true
   },
   "outputs": [],
   "source": [
    "# range() built-in function\n",
    "\n",
    "for item in range(1, 11, 2) :\n",
    "    print(item)"
   ]
  },
  {
   "cell_type": "code",
   "execution_count": null,
   "metadata": {},
   "outputs": [],
   "source": [
    "# conditional loop - infinite loop\n",
    "item = \"test\"\n",
    "while True :\n",
    "    print(item)"
   ]
  },
  {
   "cell_type": "code",
   "execution_count": null,
   "metadata": {},
   "outputs": [],
   "source": [
    "item = 1\n",
    "while item <= 5 :\n",
    "    print(item)\n",
    "    item += 1"
   ]
  },
  {
   "cell_type": "code",
   "execution_count": null,
   "metadata": {},
   "outputs": [],
   "source": [
    "a = 1\n",
    "while a == 1 :\n",
    "    print(a)"
   ]
  },
  {
   "cell_type": "code",
   "execution_count": null,
   "metadata": {},
   "outputs": [],
   "source": [
    "dwarves = [\"Happy\", \"Grumpy\", \"Sleepy\", \"Bashful\", \"Sneezy\", \"Doc\", \"Dopey\"]\n",
    "\n",
    "print(f\"\\nThere are {len(dwarves)} dwarves and Snow White\")\n",
    "for dwarf in dwarves : \n",
    "    print(dwarf)\n",
    "    "
   ]
  },
  {
   "cell_type": "code",
   "execution_count": null,
   "metadata": {},
   "outputs": [],
   "source": [
    "while dwarf in dwarves :\n",
    "    print(dwarf)"
   ]
  },
  {
   "cell_type": "code",
   "execution_count": 7,
   "metadata": {},
   "outputs": [
    {
     "name": "stdout",
     "output_type": "stream",
     "text": [
      "Happy\n",
      "Grumpy\n",
      "Sleepy\n",
      "Bashful\n",
      "Sneezy\n",
      "Doc\n",
      "Dopey\n"
     ]
    }
   ],
   "source": [
    "idx = 0\n",
    "while idx < len(dwarves) :\n",
    "    print(dwarves[idx])\n",
    "    idx += 1"
   ]
  },
  {
   "cell_type": "code",
   "execution_count": 8,
   "metadata": {},
   "outputs": [
    {
     "name": "stdout",
     "output_type": "stream",
     "text": [
      "Enter a number between 1 and 10:  6\n",
      "******\n",
      "Enter a number between 1 and 10: 3\n",
      "***\n",
      "Enter a number between 1 and 10: 11\n",
      "Bye!\n"
     ]
    }
   ],
   "source": [
    "go = True\n",
    "\n",
    "while go :\n",
    "    numb = int(input(\"Enter a number between 1 and 10: \"))\n",
    "    \n",
    "    if numb < 1 or numb > 10 :\n",
    "        go = False\n",
    "    else :\n",
    "        print(\"*\" * numb)\n",
    "    \n",
    "print(\"Bye!\")    "
   ]
  },
  {
   "cell_type": "code",
   "execution_count": 9,
   "metadata": {},
   "outputs": [
    {
     "name": "stdout",
     "output_type": "stream",
     "text": [
      "Enter a score: 79\n",
      "Do you want to continue (y/n)? y\n",
      "Enter a score: 99\n",
      "Do you want to continue (y/n)? y\n",
      "Enter a score: 89\n",
      "Do you want to continue (y/n)? y\n",
      "Enter a score: 101\n",
      "Do you want to continue (y/n)? n\n",
      "[79, 99, 89, 101]\n",
      "avg score is 92.00\n"
     ]
    }
   ],
   "source": [
    "# Accept scores from user and save scores in a list. \n",
    "# Then calculate the sum of all scores and their average score.\n",
    "# Finally, print out all scores and their average\n",
    "\n",
    "total = 0\n",
    "answer = ''\n",
    "scores = []\n",
    "\n",
    "while answer.lower() != 'n' :\n",
    "    num = int(input(\"Enter a score: \"))\n",
    "    scores.append(num)\n",
    "    total += num\n",
    "    answer = input(\"Do you want to continue (y/n)? \")\n",
    "    \n",
    "avg = total / len(scores)\n",
    "print(scores)\n",
    "print(f\"avg score is {avg:.2f}\")"
   ]
  },
  {
   "cell_type": "markdown",
   "metadata": {},
   "source": [
    "### Exercise 1\n",
    "shopping = [\"bread\", \"milk\", \"chicken\", \"lettuce\", \"onion\"]\n",
    "\n",
    "Given a shopping list, sort the list in alphabetical order. Then, print out each item in the list using a loop.\n"
   ]
  },
  {
   "cell_type": "code",
   "execution_count": 10,
   "metadata": {},
   "outputs": [
    {
     "name": "stdout",
     "output_type": "stream",
     "text": [
      "bread\n",
      "chicken\n",
      "lettuce\n",
      "milk\n",
      "onion\n"
     ]
    }
   ],
   "source": [
    "shopping = [\"bread\", \"milk\", \"chicken\", \"lettuce\", \"onion\"]\n",
    "\n",
    "# sort the list\n",
    "sorted_list = shopping.copy()\n",
    "sorted_list.sort()\n",
    "\n",
    "# using a loop, print out each item in the sorted list\n",
    "for grocery in sorted_list : \n",
    "    print(grocery)\n",
    "\n"
   ]
  },
  {
   "cell_type": "code",
   "execution_count": null,
   "metadata": {},
   "outputs": [],
   "source": []
  },
  {
   "cell_type": "markdown",
   "metadata": {},
   "source": [
    "### break and continue statements"
   ]
  },
  {
   "cell_type": "code",
   "execution_count": 11,
   "metadata": {},
   "outputs": [
    {
     "name": "stdout",
     "output_type": "stream",
     "text": [
      "Enter a number between 1 and 10: 8\n",
      "********\n",
      "Enter a number between 1 and 10: 5\n",
      "*****\n",
      "Enter a number between 1 and 10: 10\n",
      "**********\n",
      "Enter a number between 1 and 10: 54\n",
      "Bye!\n"
     ]
    }
   ],
   "source": [
    "# break statment\n",
    "\n",
    "while True :\n",
    "    numb = int(input(\"Enter a number between 1 and 10: \"))\n",
    "    \n",
    "    if numb < 1 or numb > 10 :\n",
    "        break\n",
    "    else :\n",
    "        print(\"*\" * numb)\n",
    "    \n",
    "print(\"Bye!\")    "
   ]
  },
  {
   "cell_type": "code",
   "execution_count": 12,
   "metadata": {},
   "outputs": [
    {
     "name": "stdout",
     "output_type": "stream",
     "text": [
      "A\n",
      "C\n",
      "Incomplete\n",
      "Done!\n"
     ]
    }
   ],
   "source": [
    "answers = [\"A\",\"C\", \"\", \"B\", \"D\"]\n",
    "\n",
    "for answer in answers : \n",
    "    if answer == \"\" :\n",
    "        print(\"Incomplete\")\n",
    "        break\n",
    "        \n",
    "    print(answer)    \n",
    "    \n",
    "print(\"Done!\")    "
   ]
  },
  {
   "cell_type": "code",
   "execution_count": 13,
   "metadata": {},
   "outputs": [
    {
     "name": "stdout",
     "output_type": "stream",
     "text": [
      "A\n",
      "C\n",
      "Incomplete\n",
      "B\n",
      "D\n",
      "Done!\n"
     ]
    }
   ],
   "source": [
    "# continue \n",
    "\n",
    "answers = [\"A\",\"C\", \"\", \"B\", \"D\"]\n",
    "\n",
    "for answer in answers : \n",
    "    if answer == \"\" :\n",
    "        print(\"Incomplete\")\n",
    "        continue\n",
    "        \n",
    "    print(answer)    \n",
    "    \n",
    "print(\"Done!\")    "
   ]
  },
  {
   "cell_type": "code",
   "execution_count": 14,
   "metadata": {},
   "outputs": [
    {
     "name": "stdout",
     "output_type": "stream",
     "text": [
      "1\n",
      "3\n",
      "5\n",
      "7\n",
      "9\n",
      "Bye!\n"
     ]
    }
   ],
   "source": [
    "i = 0\n",
    "while i <= 10 :\n",
    "    if i%2 == 0 :\n",
    "        i += 1\n",
    "        continue\n",
    "        \n",
    "    print(i)\n",
    "    i+= 1\n",
    "    \n",
    "print(\"Bye!\")    "
   ]
  },
  {
   "cell_type": "code",
   "execution_count": 15,
   "metadata": {},
   "outputs": [
    {
     "name": "stdout",
     "output_type": "stream",
     "text": [
      "1\n",
      "Bye!\n"
     ]
    }
   ],
   "source": [
    "i = 0\n",
    "while i < 10 :\n",
    "    i += 1\n",
    "    if i%2 == 0 :        \n",
    "        break\n",
    "        \n",
    "    print(i)\n",
    "\n",
    "    \n",
    "print(\"Bye!\")    "
   ]
  },
  {
   "cell_type": "code",
   "execution_count": 16,
   "metadata": {},
   "outputs": [
    {
     "name": "stdout",
     "output_type": "stream",
     "text": [
      "Enter a grade (or 'q' to quit): A\n",
      "A\n",
      "Enter a grade (or 'q' to quit): C\n",
      "C\n",
      "Enter a grade (or 'q' to quit): B\n",
      "B\n",
      "Enter a grade (or 'q' to quit): B\n",
      "B\n",
      "Enter a grade (or 'q' to quit): A\n",
      "A\n",
      "Enter a grade (or 'q' to quit): N\n",
      "N\n",
      "Enter a grade (or 'q' to quit): q\n",
      "Done!\n"
     ]
    }
   ],
   "source": [
    "# break and continue statements\n",
    "\n",
    "while True :\n",
    "    answer = input(\"Enter a grade (or 'q' to quit): \")\n",
    "    if answer == 'q' :\n",
    "        break    \n",
    "    elif answer == \"\" :\n",
    "        print(\"Incomplete\")\n",
    "        continue\n",
    "    else :\n",
    "        print(answer)    \n",
    "    \n",
    "print(\"Done!\")    "
   ]
  },
  {
   "cell_type": "markdown",
   "metadata": {},
   "source": [
    "### Exercise 2\n",
    "The purpose of a function called index is to return an index of a character in the given string. It returns -1 not found.\n",
    "Fix errors and show that it works.\n",
    "\n",
    "** similar to the index() method of a string\n"
   ]
  },
  {
   "cell_type": "code",
   "execution_count": 17,
   "metadata": {},
   "outputs": [],
   "source": [
    "# original\n",
    "\n",
    "def index(string, char): \n",
    "    no = 0\n",
    "    found = False\n",
    "    \n",
    "    for ch in string:\n",
    "        if ch == char:\n",
    "            found = True\n",
    "            break\n",
    "        no +=1\n",
    "            \n",
    "    if not found :\n",
    "        no = -1\n",
    "        \n",
    "    return no    "
   ]
  },
  {
   "cell_type": "code",
   "execution_count": 18,
   "metadata": {},
   "outputs": [
    {
     "name": "stdout",
     "output_type": "stream",
     "text": [
      "0\n",
      "3\n",
      "-1\n"
     ]
    }
   ],
   "source": [
    "# main\n",
    "\n",
    "print(index(\"programming\", \"p\"))   # should print 0\n",
    "print(index(\"programming\", \"g\"))   # should print 3\n",
    "print(index(\"programming\", \"x\"))   # should print -1"
   ]
  },
  {
   "cell_type": "markdown",
   "metadata": {},
   "source": [
    "### For - else"
   ]
  },
  {
   "cell_type": "code",
   "execution_count": 19,
   "metadata": {},
   "outputs": [
    {
     "name": "stdout",
     "output_type": "stream",
     "text": [
      "Apple\n",
      "Mango\n",
      "Watermelon\n",
      "Cherry\n",
      "After for loop\n"
     ]
    }
   ],
   "source": [
    "fruits = ['apple', 'mango', 'watermelon', 'cherry']\n",
    "for fruit in  fruits:\n",
    "    print(fruit.title())\n",
    "       \n",
    "print(\"After for loop\")        "
   ]
  },
  {
   "cell_type": "code",
   "execution_count": 20,
   "metadata": {},
   "outputs": [
    {
     "name": "stdout",
     "output_type": "stream",
     "text": [
      "Apple\n",
      "Mango\n",
      "Watermelon\n",
      "Cherry\n",
      "There are 4 fruits\n",
      "After for loop\n"
     ]
    }
   ],
   "source": [
    "fruits = ['apple', 'mango', 'watermelon', 'cherry']\n",
    "for fruit in  fruits:\n",
    "    print(fruit.title())\n",
    "else :\n",
    "    print(f\"There are {len(fruits)} fruits\")       \n",
    "\n",
    "print(\"After for loop\")        "
   ]
  },
  {
   "cell_type": "code",
   "execution_count": 21,
   "metadata": {},
   "outputs": [
    {
     "name": "stdout",
     "output_type": "stream",
     "text": [
      "x= 2\n",
      "2 is a prime\n",
      "After inner for loop\n",
      "\n",
      "x= 3\n",
      "3 is a prime\n",
      "After inner for loop\n",
      "\n",
      "x= 4\n",
      "2 * 2 = 4\n",
      "After inner for loop\n",
      "\n",
      "x= 5\n",
      "5 is a prime\n",
      "After inner for loop\n",
      "\n",
      "x= 6\n",
      "2 * 3 = 6\n",
      "After inner for loop\n",
      "\n",
      "x= 7\n",
      "7 is a prime\n",
      "After inner for loop\n",
      "\n",
      "x= 8\n",
      "2 * 4 = 8\n",
      "After inner for loop\n",
      "\n",
      "x= 9\n",
      "3 * 3 = 9\n",
      "After inner for loop\n",
      "\n",
      "After outer for loop\n"
     ]
    }
   ],
   "source": [
    "for x in range (2, 10) : # 2, 3, 4, 5, 6, 7, 8, 9\n",
    "    print(\"x=\", x)\n",
    "    for y in range(2, x) : \n",
    "        if x % y == 0 :\n",
    "            print(y, '*', int(x/y), '=', x)\n",
    "            break\n",
    "    else:\n",
    "        print(x, 'is a prime')     \n",
    "        \n",
    "    print(\"After inner for loop\\n\")              \n",
    "        \n",
    "print(\"After outer for loop\")        "
   ]
  },
  {
   "cell_type": "code",
   "execution_count": 22,
   "metadata": {},
   "outputs": [],
   "source": [
    "for y in range(2, 2) : \n",
    "        if x % y == 0 :\n",
    "            print(y, '*', int(x/y), '=', x)\n",
    "           "
   ]
  },
  {
   "cell_type": "code",
   "execution_count": 23,
   "metadata": {},
   "outputs": [
    {
     "name": "stdout",
     "output_type": "stream",
     "text": [
      "not Apple\n",
      "Found it!\n",
      "After for loop\n"
     ]
    }
   ],
   "source": [
    "fruits = ['apple', 'mango', 'watermelon', 'cherry']\n",
    "for fruit in  fruits:\n",
    "    if fruit == 'mango' :    # try with 'mango' and 'kiwi'\n",
    "        print(\"Found it!\")\n",
    "        break\n",
    "    else : \n",
    "        print(f\"not {fruit.title()}\")\n",
    "else :\n",
    "    print(f\"There are {len(fruits)} fruits and no mango\") \n",
    "    \n",
    "print(\"After for loop\")        "
   ]
  },
  {
   "cell_type": "markdown",
   "metadata": {},
   "source": [
    "### While-else"
   ]
  },
  {
   "cell_type": "code",
   "execution_count": 24,
   "metadata": {},
   "outputs": [
    {
     "name": "stdout",
     "output_type": "stream",
     "text": [
      "1\n",
      "2\n",
      "3\n",
      "4\n",
      "5\n",
      "Done\n",
      "After while-else\n"
     ]
    }
   ],
   "source": [
    "# With the else statement, run a block of code once when\n",
    "# the condition no longer is true\n",
    "\n",
    "i = 1\n",
    "while i < 6 :\n",
    "    print(i)\n",
    "    i += 1\n",
    "else :\n",
    "    print(\"Done\")\n",
    "      \n",
    "print(\"After while-else\")        "
   ]
  },
  {
   "cell_type": "code",
   "execution_count": 25,
   "metadata": {},
   "outputs": [
    {
     "name": "stdout",
     "output_type": "stream",
     "text": [
      "1\n",
      "2\n",
      "After while-else\n"
     ]
    }
   ],
   "source": [
    "i = 0\n",
    "while i < 6 : \n",
    "    i += 1\n",
    "    if i == 3 :\n",
    "        break\n",
    "        \n",
    "    print(i)\n",
    "else :\n",
    "    print(\"Done\")\n",
    "    \n",
    "print(\"After while-else\")    "
   ]
  },
  {
   "cell_type": "code",
   "execution_count": 26,
   "metadata": {},
   "outputs": [
    {
     "name": "stdout",
     "output_type": "stream",
     "text": [
      "1\n",
      "2\n",
      "4\n",
      "5\n",
      "6\n",
      "Done\n",
      "After while-else\n"
     ]
    }
   ],
   "source": [
    "i = 0\n",
    "while i < 6 :\n",
    "    i += 1\n",
    "    if i == 3 :\n",
    "        continue\n",
    "        \n",
    "    print(i)\n",
    "    \n",
    "else :\n",
    "    print(\"Done\")  \n",
    "    \n",
    "print(\"After while-else\")    "
   ]
  },
  {
   "cell_type": "markdown",
   "metadata": {},
   "source": [
    "### yield"
   ]
  },
  {
   "cell_type": "code",
   "execution_count": 27,
   "metadata": {},
   "outputs": [],
   "source": [
    "def fun (sample) :\n",
    "    for x in sample :\n",
    "        print(f\">>>{x}<<<\")\n",
    "        if x % 2 == 0 :\n",
    "            yield x\n"
   ]
  },
  {
   "cell_type": "code",
   "execution_count": 28,
   "metadata": {},
   "outputs": [
    {
     "name": "stdout",
     "output_type": "stream",
     "text": [
      ">>>1<<<\n",
      ">>>2<<<\n",
      "2*>>>3<<<\n",
      ">>>4<<<\n",
      "4*"
     ]
    }
   ],
   "source": [
    "for i in fun([1,2,3,4]) :\n",
    "    print(i, end='*')"
   ]
  },
  {
   "cell_type": "code",
   "execution_count": 29,
   "metadata": {},
   "outputs": [
    {
     "name": "stdout",
     "output_type": "stream",
     "text": [
      "1\n",
      "2\n",
      "3\n",
      "4\n"
     ]
    }
   ],
   "source": [
    "for i in range(1, 5) :\n",
    "    print (i)"
   ]
  },
  {
   "cell_type": "markdown",
   "metadata": {},
   "source": [
    "### Exercise 3\n",
    "Create your own range function, called myrange() that takes one arguement.\n",
    "\n",
    "Do not use 'range' function!"
   ]
  },
  {
   "cell_type": "code",
   "execution_count": 30,
   "metadata": {},
   "outputs": [],
   "source": [
    "# define myrange() function\n",
    "def myrange(a):\n",
    "    x = 0\n",
    "    while x < a:\n",
    "        yield x\n",
    "        x +=1\n",
    "    else:\n",
    "        pass\n",
    "    \n"
   ]
  },
  {
   "cell_type": "code",
   "execution_count": 31,
   "metadata": {},
   "outputs": [
    {
     "name": "stdout",
     "output_type": "stream",
     "text": [
      "0\n",
      "1\n",
      "2\n",
      "3\n"
     ]
    }
   ],
   "source": [
    "# call myrange() function\n",
    "\n",
    "for i in myrange(4) :\n",
    "    print(i)"
   ]
  },
  {
   "cell_type": "code",
   "execution_count": null,
   "metadata": {},
   "outputs": [],
   "source": []
  },
  {
   "cell_type": "markdown",
   "metadata": {},
   "source": [
    "### Nested loops\n",
    "loop inside another loop"
   ]
  },
  {
   "cell_type": "code",
   "execution_count": 32,
   "metadata": {},
   "outputs": [
    {
     "name": "stdout",
     "output_type": "stream",
     "text": [
      "first\n",
      "1\n",
      "2\n",
      "3\n",
      "second\n",
      "1\n",
      "2\n",
      "3\n",
      "third\n",
      "1\n",
      "2\n",
      "3\n"
     ]
    }
   ],
   "source": [
    "for outer in [\"first\", \"second\", \"third\"] :\n",
    "    print(outer)\n",
    "    \n",
    "    for inner in range(3) :\n",
    "        print(inner+1)"
   ]
  },
  {
   "cell_type": "code",
   "execution_count": 33,
   "metadata": {},
   "outputs": [
    {
     "name": "stdout",
     "output_type": "stream",
     "text": [
      "Enter a number: 6\n",
      "1\n",
      "2\n",
      "3\n",
      "4\n",
      "5\n",
      "6\n",
      "Continue? (y/n)y\n",
      "********************\n",
      "Enter a number: 9\n",
      "1\n",
      "2\n",
      "3\n",
      "4\n",
      "5\n",
      "6\n",
      "7\n",
      "8\n",
      "9\n",
      "Continue? (y/n)n\n",
      "********************\n",
      "Done!\n"
     ]
    }
   ],
   "source": [
    "answer = 'y'\n",
    "while answer != 'n' :\n",
    "    index = int(input(\"Enter a number: \"))\n",
    "    for inner in range(index) :\n",
    "        print(inner+1)\n",
    "        \n",
    "    answer = input(\"Continue? (y/n)\")  \n",
    "    print(\"*\" * 20)\n",
    "\n",
    "print(\"Done!\")      "
   ]
  },
  {
   "cell_type": "code",
   "execution_count": 34,
   "metadata": {},
   "outputs": [
    {
     "name": "stdout",
     "output_type": "stream",
     "text": [
      "What is your id? 98A234\n",
      "What is your password? tefc@Ard\n",
      "What is your additional security question? my first car\n",
      "Continue? (y/n)y\n",
      "********************\n",
      "What is your id? 457H987\n",
      "What is your password? tfdpassword\n",
      "What is my first car? toyota\n",
      "What is your additional security question? my pet's name\n",
      "Continue? (y/n)n\n",
      "********************\n",
      "Done!\n"
     ]
    }
   ],
   "source": [
    "answer = 'y'\n",
    "questions = [\"your id\", \"your password\"]\n",
    "    \n",
    "while answer != 'n' :    \n",
    "    no_qs = len(questions)\n",
    "    for inner in range(no_qs) :\n",
    "        msg = \"What is \" + questions[inner] + \"? \"\n",
    "        answer = input(msg)\n",
    "    \n",
    "    answer = input(\"What is your additional security question? \")\n",
    "    questions.append(answer)\n",
    "    answer = input(\"Continue? (y/n)\")\n",
    "    print(\"*\" * 20)\n",
    "    \n",
    "print(\"Done!\")    "
   ]
  },
  {
   "cell_type": "markdown",
   "metadata": {},
   "source": [
    "### Exercise 4\n",
    "Fix code in the next cell to produce output as:\n",
    "\n",
    "    *\n",
    "    * *\n",
    "    * * *\n",
    "    * * * *\n",
    "    * * * * *"
   ]
  },
  {
   "cell_type": "code",
   "execution_count": 35,
   "metadata": {},
   "outputs": [
    {
     "name": "stdout",
     "output_type": "stream",
     "text": [
      "\n",
      "* \n",
      "* * \n",
      "* * * \n",
      "* * * * \n",
      "* * * * * \n"
     ]
    }
   ],
   "source": [
    "# original\n",
    "\n",
    "for i in range(6): \n",
    "    for j in range(i) :\n",
    "        print(f\"*\", end=' ')\n",
    "    print()    "
   ]
  },
  {
   "cell_type": "code",
   "execution_count": null,
   "metadata": {},
   "outputs": [],
   "source": []
  },
  {
   "cell_type": "code",
   "execution_count": null,
   "metadata": {},
   "outputs": [],
   "source": []
  }
 ],
 "metadata": {
  "kernelspec": {
   "display_name": "Python 3",
   "language": "python",
   "name": "python3"
  },
  "language_info": {
   "codemirror_mode": {
    "name": "ipython",
    "version": 3
   },
   "file_extension": ".py",
   "mimetype": "text/x-python",
   "name": "python",
   "nbconvert_exporter": "python",
   "pygments_lexer": "ipython3",
   "version": "3.7.3"
  }
 },
 "nbformat": 4,
 "nbformat_minor": 2
}
