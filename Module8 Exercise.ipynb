{
 "cells": [
  {
   "cell_type": "markdown",
   "metadata": {},
   "source": [
    "### Exercise 1\n",
    "Create a multiplication table from 1 to 10"
   ]
  },
  {
   "cell_type": "markdown",
   "metadata": {},
   "source": [
    "print numbers across \" \" 1 ... 10 (top row)\n",
    "print numbers across 1(a) a*t ... a*10(t) \n",
    "print across and down \n",
    "\n",
    "print \" \"\n",
    "for toprow in range(11)\n",
    "    print toprow\n",
    "    \n",
    "    for column in range(1, 11)\n",
    "        print(toprow * colum)\n",
    "\n",
    "print numbers across \" \" 1 ... 10 (top row)\n",
    "while a <10 and t < 10\n",
    "    print a "
   ]
  },
  {
   "cell_type": "code",
   "execution_count": 5,
   "metadata": {},
   "outputs": [
    {
     "name": "stdout",
     "output_type": "stream",
     "text": [
      "1 1 1 2 1 3 1 4 1 5 1 6 1 7 1 8 1 9 1 10 \n",
      "2 2 2 4 2 6 2 8 2 10 2 12 2 14 2 16 2 18 2 20 \n",
      "3 3 3 6 3 9 3 12 3 15 3 18 3 21 3 24 3 27 3 30 \n",
      "4 4 4 8 4 12 4 16 4 20 4 24 4 28 4 32 4 36 4 40 \n",
      "5 5 5 10 5 15 5 20 5 25 5 30 5 35 5 40 5 45 5 50 \n",
      "6 6 6 12 6 18 6 24 6 30 6 36 6 42 6 48 6 54 6 60 \n",
      "7 7 7 14 7 21 7 28 7 35 7 42 7 49 7 56 7 63 7 70 \n",
      "8 8 8 16 8 24 8 32 8 40 8 48 8 56 8 64 8 72 8 80 \n",
      "9 9 9 18 9 27 9 36 9 45 9 54 9 63 9 72 9 81 9 90 \n",
      "10 10 10 20 10 30 10 40 10 50 10 60 10 70 10 80 10 90 10 100 \n"
     ]
    }
   ],
   "source": [
    "toprow = [\" \"]\n",
    "for toprow in range(1, 11):\n",
    "    \n",
    "    for column in range(1, 11):\n",
    "        print(f\"{toprow} {toprow * column}\", end=' ' )\n",
    "          \n",
    "    print()\n"
   ]
  },
  {
   "cell_type": "markdown",
   "metadata": {},
   "source": [
    "### Exercise 2\n",
    "Write a program to find the Fibonacci numbers where each number is the sum of the two preceding ones, starting from 0 and 1. \n",
    "\n",
    "    e.g.\n",
    "    0, 1, 1, 2, 3, 5, 8, ...\n",
    "    \n",
    "Ask a user to enter a number of sequence. Generate the Fibonacci numbers in to a list. Then, print out the list.  \n",
    "\n",
    "The output should look something like this:\n",
    "\n",
    "    How many Fibonacci numbers would you like to generate? 10    \n",
    "    10 Fibonacci numbers are [0, 1, 1, 2, 3, 5, 8, 13, 21, 34].\n",
    "    \n",
    "    \n",
    "Reequst number\n",
    "\n",
    "While Fib counter < requested number\n",
    "    For Fibnumber\n",
    "        Fibnumber += Fibnumber\n",
    "        yield Fibnumber"
   ]
  },
  {
   "cell_type": "code",
   "execution_count": 1,
   "metadata": {},
   "outputs": [
    {
     "name": "stdout",
     "output_type": "stream",
     "text": [
      "How many Fibonacci numbers would you like to generate?10\n"
     ]
    },
    {
     "ename": "SyntaxError",
     "evalue": "'yield' outside function (<ipython-input-1-7421340f6d82>, line 8)",
     "output_type": "error",
     "traceback": [
      "\u001b[1;36m  File \u001b[1;32m\"<ipython-input-1-7421340f6d82>\"\u001b[1;36m, line \u001b[1;32m8\u001b[0m\n\u001b[1;33m    yield fibnumber\u001b[0m\n\u001b[1;37m    ^\u001b[0m\n\u001b[1;31mSyntaxError\u001b[0m\u001b[1;31m:\u001b[0m 'yield' outside function\n"
     ]
    }
   ],
   "source": [
    "\n",
    "fibnum = int(input(\"How many Fibonacci numbers would you like to generate?\"))\n",
    "fibcounter = 0\n",
    "\n",
    "while fibcounter < fibnum:\n",
    "    for fibnumber in range(fibnum):\n",
    "        fibnumber += Fibnumber\n",
    "        yield fibnumber\n",
    "        \n",
    "    fibcounter += 1\n",
    "    \n",
    "print(fibnumber)"
   ]
  },
  {
   "cell_type": "code",
   "execution_count": null,
   "metadata": {},
   "outputs": [],
   "source": []
  }
 ],
 "metadata": {
  "kernelspec": {
   "display_name": "Python 3",
   "language": "python",
   "name": "python3"
  },
  "language_info": {
   "codemirror_mode": {
    "name": "ipython",
    "version": 3
   },
   "file_extension": ".py",
   "mimetype": "text/x-python",
   "name": "python",
   "nbconvert_exporter": "python",
   "pygments_lexer": "ipython3",
   "version": "3.7.3"
  }
 },
 "nbformat": 4,
 "nbformat_minor": 4
}
