{
 "cells": [
  {
   "cell_type": "markdown",
   "metadata": {},
   "source": [
    "Create a program where the user can play a game of rock, paper, scissors against a computer. Set a play choice (rock, paper, or scissors) for the computer player and during the program, request for the user to input their play choice.\n",
    "\n",
    "The rules in Rock, Paper, Scissors are:\n",
    "\n",
    "    Rock beats scissors\n",
    "    Scissors beats paper\n",
    "    Paper beats rock\n",
    "\n",
    "If the user wins, then display \"You win!\" If they lose against the computer, then display \"You lose.\" If the computer and the user have the same play choice, display \"It's a draw.\"\n",
    "\n",
    "BONUS: Randomize the play choice for the computer (hint: Python has a library called random). Also ask the user if they would like to play again. If they do, start the game again but if not, thank the user for playing the game."
   ]
  },
  {
   "cell_type": "markdown",
   "metadata": {},
   "source": [
    "computer is random choice\n",
    "ask for player's choice\n",
    "\n",
    "compare player to computer\n",
    "    if player == computer\n",
    "        \"It's a draw.\"\n",
    "    if player is rock and computer is scissors \n",
    "    or player is Scissors and computer is Paper\n",
    "    or player is Paper and computer is Rock\n",
    "        \"You win!\"\n",
    "    else\n",
    "        \"You lose.\"\n",
    "    \n",
    "        \n",
    "\"Play again?\"\n",
    "    while ans is yes\n",
    "        reset and go again\n",
    "    \n",
    "    \"Thanks for players\"\n",
    "    \n"
   ]
  },
  {
   "cell_type": "code",
   "execution_count": 1,
   "metadata": {},
   "outputs": [],
   "source": [
    "import random as rand\n",
    "#Intialize the players\n",
    "comphand = [\"scissors\",\"rock\", \"paper\"]    #list of play chices\n",
    "player = \" \"\n",
    "\n",
    "\n",
    "def RocPapSci(pchoice, cchoice = \" \"):  \n",
    "    \n",
    "    def rndcomp():\n",
    "        num = rand.randint(0,2)\n",
    "        cchoice = comphand[num] \n",
    "        \n",
    "        return cchoice\n",
    "    \n",
    "    cchoice = rndcomp()\n",
    "    \n",
    "    if pchoice == cchoice :\n",
    "        print(f\"It's a draw. Computer is {cchoice.capitalize()}\")\n",
    "    elif pchoice == 'rock' and cchoice == 'scissors' :\n",
    "        print(f\"You win!. Computer is {cchoice.capitalize()}\")\n",
    "    elif pchoice == 'scissors' and cchoice == 'paper' :\n",
    "        print(f\"You win!. Computer is {cchoice.capitalize()}\")\n",
    "    elif pchoice == 'paper' and cchoice == 'rock' :\n",
    "        print(f\"You win!. Computer is {cchoice.capitalize()}\")\n",
    "    else:\n",
    "        print(f\"You lose. Computer is {cchoice.capitalize()}\")\n",
    "             \n",
    "    print(\"\\n\")\n"
   ]
  },
  {
   "cell_type": "code",
   "execution_count": 9,
   "metadata": {},
   "outputs": [],
   "source": [
    "def playagain() : \n",
    "    choice = input(\"Play again? Yes or No\\n\")\n",
    "   \n",
    "    if choice.lower() == ('y' or 'yes'):\n",
    "         #play_a_game()\n",
    "        return True\n",
    "    elif choice.lower() == ('n' or 'no'):\n",
    "        print(\"\\nThanks for playing. Till next time - BYE\")\n",
    "        return False\n",
    "    else:\n",
    "        print(\"Wrong choice.\")\n",
    "        playagain() \n",
    "        "
   ]
  },
  {
   "cell_type": "code",
   "execution_count": 10,
   "metadata": {},
   "outputs": [],
   "source": [
    "def play_a_game(game_choice = True):\n",
    "    \n",
    "    print(\"Let's play \\\"Rock, Paper, Scissors\\\"\\n\")\n",
    "    \n",
    "    while game_choice == True:  \n",
    "        player = input(\"Are you Rock, Paper, or Scissors? \")\n",
    "        print(\"\\n\")\n",
    "    \n",
    "        #Convert player entry into lowercase and call functio\n",
    "        RocPapSci(player.lower())  \n",
    "    \n",
    "        game_choice = playagain()\n"
   ]
  },
  {
   "cell_type": "code",
   "execution_count": 11,
   "metadata": {},
   "outputs": [
    {
     "name": "stdout",
     "output_type": "stream",
     "text": [
      "Let's play \"Rock, Paper, Scissors\"\n",
      "\n",
      "Are you Rock, Paper, or Scissors? rock\n",
      "\n",
      "\n",
      "You win!. Computer is Scissors\n",
      "\n",
      "\n",
      "Play again? Yes or No\n",
      "y\n",
      "Are you Rock, Paper, or Scissors? paper\n",
      "\n",
      "\n",
      "You lose. Computer is Scissors\n",
      "\n",
      "\n",
      "Play again? Yes or No\n",
      "n\n",
      "\n",
      "Thanks for playing. Till next time - BYE\n"
     ]
    }
   ],
   "source": [
    "play_a_game()"
   ]
  },
  {
   "cell_type": "code",
   "execution_count": null,
   "metadata": {},
   "outputs": [],
   "source": []
  },
  {
   "cell_type": "code",
   "execution_count": null,
   "metadata": {},
   "outputs": [],
   "source": []
  }
 ],
 "metadata": {
  "kernelspec": {
   "display_name": "Python 3",
   "language": "python",
   "name": "python3"
  },
  "language_info": {
   "codemirror_mode": {
    "name": "ipython",
    "version": 3
   },
   "file_extension": ".py",
   "mimetype": "text/x-python",
   "name": "python",
   "nbconvert_exporter": "python",
   "pygments_lexer": "ipython3",
   "version": "3.7.3"
  }
 },
 "nbformat": 4,
 "nbformat_minor": 2
}
