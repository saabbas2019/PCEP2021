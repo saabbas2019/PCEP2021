{
 "cells": [
  {
   "cell_type": "markdown",
   "metadata": {},
   "source": [
    "Create a program where the user can play a game of rock, paper, scissors against a computer. Set a play choice (rock, paper, or scissors) for the computer player and during the program, request for the user to input their play choice.\n",
    "\n",
    "The rules in Rock, Paper, Scissors are:\n",
    "\n",
    "    Rock beats scissors\n",
    "    Scissors beats paper\n",
    "    Paper beats rock\n",
    "\n",
    "If the user wins, then display \"You win!\" If they lose against the computer, then display \"You lose.\" If the computer and the user have the same play choice, display \"It's a draw.\"\n",
    "\n",
    "BONUS: Randomize the play choice for the computer (hint: Python has a library called random). Also ask the user if they would like to play again. If they do, start the game again but if not, thank the user for playing the game."
   ]
  },
  {
   "cell_type": "markdown",
   "metadata": {},
   "source": [
    "computer is random choice\n",
    "ask for player's choice\n",
    "\n",
    "compare player to computer\n",
    "    if player == computer\n",
    "        \"It's a draw.\"\n",
    "    if player is rock and computer is scissors \n",
    "    or player is Scissors and computer is Paper\n",
    "    or player is Paper and computer is Rock\n",
    "        \"You win!\"\n",
    "    else\n",
    "        \"You lose.\"\n",
    "    \n",
    "        \n",
    "\"Play again?\"\n",
    "    if yes\n",
    "        reset and go again\n",
    "    else\n",
    "        \"Thanks for players\"\n",
    "    \n"
   ]
  },
  {
   "cell_type": "code",
   "execution_count": 13,
   "metadata": {},
   "outputs": [],
   "source": [
    "import random as rand\n",
    "#Intialize the players\n",
    "computer = \" \"\n",
    "player = \" \"\n",
    "\n",
    "def RocPapSci(pchoice, cchoice):  \n",
    "    \n",
    "    def rndcomp():\n",
    "        num = rand.randint(1,3)\n",
    "        if num == 1:\n",
    "            cchoice = \"scissors\"\n",
    "        elif num == 2:\n",
    "            cchoice = \"rock\"\n",
    "        else:\n",
    "            cchoice = \"paper\"\n",
    "        \n",
    "        return cchoice\n",
    "    \n",
    "    cchoice = rndcomp()\n",
    "    \n",
    "    if pchoice == cchoice :\n",
    "        print(\"It's a draw.\")\n",
    "    elif pchoice == 'rock' and cchoice == 'scissors' :\n",
    "       print(f\"You win!. Computer is {cchoice.capitalize()}\")\n",
    "    elif pchoice == 'scissors' and cchoice == 'paper' :\n",
    "        print(f\"You win!. Computer is {cchoice.capitalize()}\")\n",
    "    elif pchoice == 'paper' and cchoice == 'rock' :\n",
    "        print(f\"You win!. Computer is {cchoice.capitalize()}\")\n",
    "    else:\n",
    "        print(f\"You lose. Computer is {cchoice.capitalize()}\")\n",
    "        \n",
    "    cchoice = \" \"  \n",
    "    print(\"\\n\")\n"
   ]
  },
  {
   "cell_type": "code",
   "execution_count": 14,
   "metadata": {},
   "outputs": [],
   "source": [
    "def playagain() :\n",
    "    print(\"Play again? Yes or No\\n\")\n",
    "    choice = input()\n",
    "    \n",
    "    if choice.lower() == ('y' or 'yes'):\n",
    "        print(\"\\n\")\n",
    "        play_a_game()\n",
    "    else:\n",
    "        print(\"\\nThanks for playing. Till next time - BYE\")"
   ]
  },
  {
   "cell_type": "code",
   "execution_count": 15,
   "metadata": {},
   "outputs": [],
   "source": [
    "def play_a_game():\n",
    "  \n",
    "    print(\"Let's play \\\"Rock, Paper, Scissors\\\"\\n\")\n",
    "    \n",
    "    player = input(\"Are you Rock, Paper, or Scissors? \")\n",
    "    print(\"\\n\")\n",
    "    \n",
    "    #Convert player entry into lowercase and call functio\n",
    "    RocPapSci(player.lower(), computer)  \n",
    "    \n",
    "    playagain()\n"
   ]
  },
  {
   "cell_type": "code",
   "execution_count": 16,
   "metadata": {},
   "outputs": [
    {
     "name": "stdout",
     "output_type": "stream",
     "text": [
      "Let's play \"Rock, Paper, Scissors\"\n",
      "\n",
      "Are you Rock, Paper, or Scissors? paper\n",
      "\n",
      "\n",
      "You win!. Computer is Rock\n",
      "\n",
      "\n",
      "Play again? Yes or No\n",
      "\n",
      "y\n",
      "\n",
      "\n",
      "Let's play \"Rock, Paper, Scissors\"\n",
      "\n",
      "Are you Rock, Paper, or Scissors? rock\n",
      "\n",
      "\n",
      "It's a draw.\n",
      "\n",
      "\n",
      "Play again? Yes or No\n",
      "\n",
      "n\n",
      "\n",
      "Thanks for playing. Till next time - BYE\n"
     ]
    }
   ],
   "source": [
    "play_a_game()"
   ]
  },
  {
   "cell_type": "code",
   "execution_count": null,
   "metadata": {},
   "outputs": [],
   "source": []
  }
 ],
 "metadata": {
  "kernelspec": {
   "display_name": "Python 3",
   "language": "python",
   "name": "python3"
  },
  "language_info": {
   "codemirror_mode": {
    "name": "ipython",
    "version": 3
   },
   "file_extension": ".py",
   "mimetype": "text/x-python",
   "name": "python",
   "nbconvert_exporter": "python",
   "pygments_lexer": "ipython3",
   "version": "3.7.3"
  }
 },
 "nbformat": 4,
 "nbformat_minor": 2
}
